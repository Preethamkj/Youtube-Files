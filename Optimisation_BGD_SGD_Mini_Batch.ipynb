{
  "cells": [
    {
      "cell_type": "code",
      "execution_count": null,
      "metadata": {
        "id": "PCN4X2n786MD"
      },
      "outputs": [],
      "source": [
        "import numpy as np\n",
        "import pandas as pd\n",
        "import time"
      ]
    },
    {
      "cell_type": "code",
      "execution_count": null,
      "metadata": {
        "colab": {
          "base_uri": "https://localhost:8080/",
          "height": 206
        },
        "id": "R7oL8kNC9W2W",
        "outputId": "effada94-c108-43ee-c4ee-97e484bfcbb2"
      },
      "outputs": [],
      "source": [
        "dataset = pd.read_csv('Social_Network_Ads.csv')\n",
        "dataset.head()"
      ]
    },
    {
      "cell_type": "code",
      "execution_count": null,
      "metadata": {
        "colab": {
          "base_uri": "https://localhost:8080/",
          "height": 206
        },
        "id": "pm-X88Ub9sHO",
        "outputId": "e3e4377a-0821-4ed1-cb74-72e2abbd697c"
      },
      "outputs": [],
      "source": [
        "df = dataset.iloc[:,2:]\n",
        "df.head()"
      ]
    },
    {
      "cell_type": "code",
      "execution_count": null,
      "metadata": {
        "id": "C7emXvu391tl"
      },
      "outputs": [],
      "source": [
        "x = df.iloc[:,0:2]\n",
        "y = df.iloc[:,-1]"
      ]
    },
    {
      "cell_type": "code",
      "execution_count": null,
      "metadata": {
        "colab": {
          "base_uri": "https://localhost:8080/",
          "height": 206
        },
        "id": "JNpy6c3i9W5g",
        "outputId": "376d43f5-9e66-49a6-ef86-25528712d674"
      },
      "outputs": [],
      "source": [
        "x.head()"
      ]
    },
    {
      "cell_type": "code",
      "execution_count": null,
      "metadata": {
        "colab": {
          "base_uri": "https://localhost:8080/"
        },
        "id": "L1IdqVZA99cS",
        "outputId": "727bf37d-8ed1-4389-9d58-7c91ccc8658f"
      },
      "outputs": [],
      "source": [
        "y.head()"
      ]
    },
    {
      "cell_type": "code",
      "execution_count": null,
      "metadata": {
        "id": "xqUMNM-W9-lo"
      },
      "outputs": [],
      "source": [
        "from sklearn.preprocessing import StandardScaler\n",
        "scaler = StandardScaler()\n",
        "x_scaled = scaler.fit_transform(x)"
      ]
    },
    {
      "cell_type": "code",
      "execution_count": null,
      "metadata": {
        "colab": {
          "base_uri": "https://localhost:8080/"
        },
        "id": "3NSv6bFN-Lde",
        "outputId": "fc6bcb6f-ad8a-48bd-8019-c8e30102517c"
      },
      "outputs": [],
      "source": [
        "x_scaled.shape"
      ]
    },
    {
      "attachments": {},
      "cell_type": "markdown",
      "metadata": {
        "id": "rmDUiyVJ-TUM"
      },
      "source": [
        "# Building Deep Learning Module"
      ]
    },
    {
      "cell_type": "code",
      "execution_count": null,
      "metadata": {
        "id": "R7BWh20r-PeD"
      },
      "outputs": [],
      "source": [
        "import tensorflow as tf\n",
        "from tensorflow import keras\n",
        "from keras.layers import Dense\n",
        "from keras import Sequential"
      ]
    },
    {
      "cell_type": "code",
      "execution_count": null,
      "metadata": {
        "colab": {
          "base_uri": "https://localhost:8080/"
        },
        "id": "pvmPpZB9-hkh",
        "outputId": "dbfebf7d-7c90-4da1-ef9d-ce468c26ae2c"
      },
      "outputs": [],
      "source": [
        "model = Sequential()\n",
        "model.add(Dense(10, activation='relu', input_dim=2))\n",
        "model.add(Dense(10, activation='relu'))\n",
        "model.add(Dense(1, activation='sigmoid'))\n",
        "model.summary()"
      ]
    },
    {
      "cell_type": "code",
      "execution_count": null,
      "metadata": {
        "colab": {
          "base_uri": "https://localhost:8080/"
        },
        "id": "lTKAPIH9-Mvr",
        "outputId": "c5b102f0-e9c2-443d-9540-531b0a23b1ea"
      },
      "outputs": [],
      "source": [
        "# Batch GD\n",
        "model.compile(loss='binary_crossentropy', metrics =['accuracy'])\n",
        "start = time.time()\n",
        "history = model.fit(x_scaled, y, validation_split=0.2, epochs=10, batch_size=400)\n",
        "print(time.time()-start)"
      ]
    },
    {
      "cell_type": "code",
      "execution_count": null,
      "metadata": {
        "colab": {
          "base_uri": "https://localhost:8080/"
        },
        "id": "VKWdTrjIBIBm",
        "outputId": "32acda9c-3ea0-4216-a0be-7ff93d8831b8"
      },
      "outputs": [],
      "source": [
        "model1 = Sequential()\n",
        "model1.add(Dense(10, activation='relu', input_dim=2))\n",
        "model1.add(Dense(10, activation='relu'))\n",
        "model1.add(Dense(1, activation='sigmoid'))\n",
        "model1.summary()"
      ]
    },
    {
      "cell_type": "code",
      "execution_count": null,
      "metadata": {
        "colab": {
          "base_uri": "https://localhost:8080/"
        },
        "id": "hDkN47CO9W8K",
        "outputId": "191f3458-0267-4b16-f695-62c6377dabb6"
      },
      "outputs": [],
      "source": [
        "# SGD\n",
        "model1.compile(loss='binary_crossentropy', metrics =['accuracy'])\n",
        "start = time.time()\n",
        "history1 = model1.fit(x_scaled, y, validation_split=0.2, epochs=10, batch_size=1)\n",
        "print(time.time()-start)"
      ]
    },
    {
      "cell_type": "code",
      "execution_count": null,
      "metadata": {
        "id": "4iu-1cNx9W_H"
      },
      "outputs": [],
      "source": [
        "# Observation :\n",
        "# a) BGD took less time \n",
        "# b) SGD gave better accuracy\n"
      ]
    },
    {
      "cell_type": "code",
      "execution_count": null,
      "metadata": {
        "colab": {
          "base_uri": "https://localhost:8080/",
          "height": 282
        },
        "id": "_pR4Ntio9XCZ",
        "outputId": "8d5e03d9-eda6-47af-f231-177fdb142be7"
      },
      "outputs": [],
      "source": [
        "import matplotlib.pyplot as plt\n",
        "plt.plot(history.history['loss'], color='red')\n",
        "plt.plot(history1.history['loss'], color='green')"
      ]
    },
    {
      "cell_type": "code",
      "execution_count": null,
      "metadata": {
        "colab": {
          "base_uri": "https://localhost:8080/"
        },
        "id": "I7TWEYz_9XFQ",
        "outputId": "0c4b40b8-ecdc-4ca7-c535-37309006d0e8"
      },
      "outputs": [],
      "source": [
        "# Mini-Batch SGD\n",
        "model2 = Sequential()\n",
        "model2.add(Dense(10, activation='relu', input_dim=2))\n",
        "model2.add(Dense(10, activation='relu'))\n",
        "model2.add(Dense(1, activation='sigmoid'))\n",
        "model2.summary()"
      ]
    },
    {
      "cell_type": "code",
      "execution_count": null,
      "metadata": {
        "colab": {
          "base_uri": "https://localhost:8080/"
        },
        "id": "-m-nFqpL9XHh",
        "outputId": "faf027fd-e523-4cd5-9de3-cfc688dda7e5"
      },
      "outputs": [],
      "source": [
        "# Mini-batch\n",
        "model2.compile(loss='binary_crossentropy', metrics =['accuracy'])\n",
        "start = time.time()\n",
        "history2 = model2.fit(x_scaled, y, validation_split=0.2, epochs=10, batch_size=32)\n",
        "print(time.time()-start)"
      ]
    },
    {
      "cell_type": "code",
      "execution_count": null,
      "metadata": {
        "colab": {
          "base_uri": "https://localhost:8080/",
          "height": 282
        },
        "id": "bXKCMxwh9XNT",
        "outputId": "add625da-9b9b-4b88-d3b7-197a71d07a15"
      },
      "outputs": [],
      "source": [
        "plt.plot(history2.history['loss'], color='black') # mini-batch\n",
        "plt.plot(history.history['loss'], color='red') # bgd\n",
        "plt.plot(history1.history['loss'], color='green') # sgd"
      ]
    },
    {
      "cell_type": "code",
      "execution_count": null,
      "metadata": {
        "id": "OCKVWQOCEShU"
      },
      "outputs": [],
      "source": []
    },
    {
      "cell_type": "code",
      "execution_count": null,
      "metadata": {
        "id": "i4_bEsWJESkY"
      },
      "outputs": [],
      "source": []
    },
    {
      "cell_type": "code",
      "execution_count": null,
      "metadata": {
        "id": "K88nynq8ESnV"
      },
      "outputs": [],
      "source": []
    },
    {
      "cell_type": "code",
      "execution_count": null,
      "metadata": {
        "id": "o5BiMyE9ESqG"
      },
      "outputs": [],
      "source": []
    }
  ],
  "metadata": {
    "accelerator": "GPU",
    "colab": {
      "provenance": []
    },
    "gpuClass": "standard",
    "kernelspec": {
      "display_name": "Python 3",
      "name": "python3"
    },
    "language_info": {
      "codemirror_mode": {
        "name": "ipython",
        "version": 3
      },
      "file_extension": ".py",
      "mimetype": "text/x-python",
      "name": "python",
      "nbconvert_exporter": "python",
      "pygments_lexer": "ipython3",
      "version": "3.9.16"
    }
  },
  "nbformat": 4,
  "nbformat_minor": 0
}
