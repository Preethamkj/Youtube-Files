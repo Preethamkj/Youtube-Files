{
  "nbformat": 4,
  "nbformat_minor": 0,
  "metadata": {
    "colab": {
      "provenance": []
    },
    "kernelspec": {
      "name": "python3",
      "display_name": "Python 3"
    },
    "language_info": {
      "name": "python"
    },
    "accelerator": "GPU",
    "gpuClass": "standard"
  },
  "cells": [
    {
      "cell_type": "code",
      "execution_count": 1,
      "metadata": {
        "id": "hh1azcGqGKHP"
      },
      "outputs": [],
      "source": [
        "import numpy as np\n",
        "import pandas as pd\n",
        "import matplotlib.pyplot as plt\n",
        "import seaborn as sns"
      ]
    },
    {
      "cell_type": "code",
      "source": [
        "from sklearn.datasets import make_moons"
      ],
      "metadata": {
        "id": "GG2b2InjGNlq"
      },
      "execution_count": 2,
      "outputs": []
    },
    {
      "cell_type": "code",
      "source": [
        "x, y = make_moons(n_samples=500, noise=0.05, random_state=42)"
      ],
      "metadata": {
        "id": "o5XH5R1WGNon"
      },
      "execution_count": 40,
      "outputs": []
    },
    {
      "cell_type": "code",
      "source": [
        "plt.scatter(x[:,0], x[:,1], c=y, s=150)\n",
        "plt.show()"
      ],
      "metadata": {
        "colab": {
          "base_uri": "https://localhost:8080/",
          "height": 265
        },
        "id": "e8X29i-yGNrc",
        "outputId": "e2b01f79-8cf4-4647-9e07-c907af664ffb"
      },
      "execution_count": 41,
      "outputs": [
        {
          "output_type": "display_data",
          "data": {
            "text/plain": [
              "<Figure size 432x288 with 1 Axes>"
            ],
            "image/png": "[encoded data removed]"
          },
          "metadata": {
            "needs_background": "light"
          }
        }
      ]
    },
    {
      "cell_type": "code",
      "source": [
        "x.shape"
      ],
      "metadata": {
        "colab": {
          "base_uri": "https://localhost:8080/"
        },
        "id": "bdp8tm48HW6p",
        "outputId": "d86730b2-4687-4bac-fb8c-addf6257cc11"
      },
      "execution_count": 6,
      "outputs": [
        {
          "output_type": "execute_result",
          "data": {
            "text/plain": [
              "(500, 2)"
            ]
          },
          "metadata": {},
          "execution_count": 6
        }
      ]
    },
    {
      "cell_type": "code",
      "source": [
        "y.shape"
      ],
      "metadata": {
        "colab": {
          "base_uri": "https://localhost:8080/"
        },
        "id": "s9L90z8eHX_d",
        "outputId": "48d84e8d-100a-4d74-bf4a-616ba93cca6c"
      },
      "execution_count": 8,
      "outputs": [
        {
          "output_type": "execute_result",
          "data": {
            "text/plain": [
              "(500,)"
            ]
          },
          "metadata": {},
          "execution_count": 8
        }
      ]
    },
    {
      "cell_type": "code",
      "source": [],
      "metadata": {
        "id": "iYpbPF5eHau5"
      },
      "execution_count": null,
      "outputs": []
    },
    {
      "cell_type": "code",
      "source": [
        "import tensorflow as tf\n",
        "from tensorflow import keras\n",
        "from keras import Sequential\n",
        "from keras.layers import Dense"
      ],
      "metadata": {
        "id": "wznCS4vqG2Tx"
      },
      "execution_count": 29,
      "outputs": []
    },
    {
      "cell_type": "code",
      "source": [
        "model = Sequential()\n",
        "model.add(Dense(2, activation='sigmoid', input_dim=2))\n",
        "model.add(Dense(1, activation='sigmoid'))\n",
        "model.summary()\n"
      ],
      "metadata": {
        "colab": {
          "base_uri": "https://localhost:8080/"
        },
        "id": "hrkaEq2cGNuM",
        "outputId": "65c81f7f-11d1-49f2-9799-67cae3414d34"
      },
      "execution_count": 30,
      "outputs": [
        {
          "output_type": "stream",
          "name": "stdout",
          "text": [
            "Model: \"sequential_1\"\n",
            "_________________________________________________________________\n",
            " Layer (type)                Output Shape              Param #   \n",
            "=================================================================\n",
            " dense_2 (Dense)             (None, 2)                 6         \n",
            "                                                                 \n",
            " dense_3 (Dense)             (None, 1)                 3         \n",
            "                                                                 \n",
            "=================================================================\n",
            "Total params: 9\n",
            "Trainable params: 9\n",
            "Non-trainable params: 0\n",
            "_________________________________________________________________\n"
          ]
        }
      ]
    },
    {
      "cell_type": "code",
      "source": [
        "model.get_weights()"
      ],
      "metadata": {
        "colab": {
          "base_uri": "https://localhost:8080/"
        },
        "id": "hL_5X7O4GNxM",
        "outputId": "2ae352ce-bf28-424f-b368-ef5ebc3000ac"
      },
      "execution_count": 31,
      "outputs": [
        {
          "output_type": "execute_result",
          "data": {
            "text/plain": [
              "[array([[ 0.7173828 , -0.58147866],\n",
              "        [ 0.00937092, -1.0421267 ]], dtype=float32),\n",
              " array([0., 0.], dtype=float32),\n",
              " array([[ 0.5309714],\n",
              "        [-0.9537147]], dtype=float32),\n",
              " array([0.], dtype=float32)]"
            ]
          },
          "metadata": {},
          "execution_count": 31
        }
      ]
    },
    {
      "cell_type": "code",
      "source": [
        "inital_weights = model.get_weights()"
      ],
      "metadata": {
        "id": "oEfqijgpIlDr"
      },
      "execution_count": 32,
      "outputs": []
    },
    {
      "cell_type": "code",
      "source": [
        "inital_weights[0] = np.ones(inital_weights[0].shape)*0.5\n",
        "inital_weights[1] = np.ones(inital_weights[1].shape)*0.5\n",
        "inital_weights[2] = np.ones(inital_weights[2].shape)*0.5\n",
        "inital_weights[3] = np.ones(inital_weights[3].shape)*0.5"
      ],
      "metadata": {
        "id": "EvJkptU7GN0P"
      },
      "execution_count": 14,
      "outputs": []
    },
    {
      "cell_type": "code",
      "source": [
        "model.set_weights(inital_weights)"
      ],
      "metadata": {
        "id": "lT80Ytk0GN3G"
      },
      "execution_count": 15,
      "outputs": []
    },
    {
      "cell_type": "code",
      "source": [
        "model.get_weights()"
      ],
      "metadata": {
        "colab": {
          "base_uri": "https://localhost:8080/"
        },
        "id": "DrTZd3wGGN6Q",
        "outputId": "de0d07e2-b43d-4651-ccf5-c0d3d9e4e8b0"
      },
      "execution_count": 18,
      "outputs": [
        {
          "output_type": "execute_result",
          "data": {
            "text/plain": [
              "[array([[0.5, 0.5],\n",
              "        [0.5, 0.5]], dtype=float32),\n",
              " array([0.5, 0.5], dtype=float32),\n",
              " array([[0.5],\n",
              "        [0.5]], dtype=float32),\n",
              " array([0.5], dtype=float32)]"
            ]
          },
          "metadata": {},
          "execution_count": 18
        }
      ]
    },
    {
      "cell_type": "code",
      "source": [
        "model.compile(optimizer='adam', loss='binary_crossentropy', metrics=['accuracy'])"
      ],
      "metadata": {
        "id": "_B55OXZbGN9v"
      },
      "execution_count": 19,
      "outputs": []
    },
    {
      "cell_type": "code",
      "source": [
        "history = model.fit(x, y, epochs=100, validation_split=0.2)"
      ],
      "metadata": {
        "colab": {
          "base_uri": "https://localhost:8080/"
        },
        "id": "mS1Qmz_vJzON",
        "outputId": "f40345da-3f71-4dde-8cce-c3228b49334d"
      },
      "execution_count": 20,
      "outputs": [
        {
          "output_type": "stream",
          "name": "stdout",
          "text": [
            "Epoch 1/100\n",
            "13/13 [==============================] - 4s 17ms/step - loss: 0.8687 - accuracy: 0.4875 - val_loss: 0.7922 - val_accuracy: 0.5500\n",
            "Epoch 2/100\n",
            "13/13 [==============================] - 0s 6ms/step - loss: 0.8594 - accuracy: 0.4875 - val_loss: 0.7848 - val_accuracy: 0.5500\n",
            "Epoch 3/100\n",
            "13/13 [==============================] - 0s 7ms/step - loss: 0.8503 - accuracy: 0.4875 - val_loss: 0.7777 - val_accuracy: 0.5500\n",
            "Epoch 4/100\n",
            "13/13 [==============================] - 0s 8ms/step - loss: 0.8411 - accuracy: 0.4875 - val_loss: 0.7710 - val_accuracy: 0.5500\n",
            "Epoch 5/100\n",
            "13/13 [==============================] - 0s 7ms/step - loss: 0.8325 - accuracy: 0.4875 - val_loss: 0.7646 - val_accuracy: 0.5500\n",
            "Epoch 6/100\n",
            "13/13 [==============================] - 0s 8ms/step - loss: 0.8246 - accuracy: 0.4875 - val_loss: 0.7583 - val_accuracy: 0.5500\n",
            "Epoch 7/100\n",
            "13/13 [==============================] - 0s 7ms/step - loss: 0.8164 - accuracy: 0.4875 - val_loss: 0.7526 - val_accuracy: 0.5500\n",
            "Epoch 8/100\n",
            "13/13 [==============================] - 0s 7ms/step - loss: 0.8093 - accuracy: 0.4875 - val_loss: 0.7470 - val_accuracy: 0.5500\n",
            "Epoch 9/100\n",
            "13/13 [==============================] - 0s 9ms/step - loss: 0.8019 - accuracy: 0.4875 - val_loss: 0.7419 - val_accuracy: 0.5500\n",
            "Epoch 10/100\n",
            "13/13 [==============================] - 0s 7ms/step - loss: 0.7952 - accuracy: 0.4875 - val_loss: 0.7369 - val_accuracy: 0.5500\n",
            "Epoch 11/100\n",
            "13/13 [==============================] - 0s 8ms/step - loss: 0.7887 - accuracy: 0.4875 - val_loss: 0.7322 - val_accuracy: 0.5500\n",
            "Epoch 12/100\n",
            "13/13 [==============================] - 0s 7ms/step - loss: 0.7824 - accuracy: 0.4875 - val_loss: 0.7278 - val_accuracy: 0.5500\n",
            "Epoch 13/100\n",
            "13/13 [==============================] - 0s 8ms/step - loss: 0.7766 - accuracy: 0.4875 - val_loss: 0.7236 - val_accuracy: 0.5500\n",
            "Epoch 14/100\n",
            "13/13 [==============================] - 0s 8ms/step - loss: 0.7708 - accuracy: 0.4875 - val_loss: 0.7197 - val_accuracy: 0.5500\n",
            "Epoch 15/100\n",
            "13/13 [==============================] - 0s 8ms/step - loss: 0.7654 - accuracy: 0.4875 - val_loss: 0.7161 - val_accuracy: 0.5500\n",
            "Epoch 16/100\n",
            "13/13 [==============================] - 0s 8ms/step - loss: 0.7605 - accuracy: 0.4875 - val_loss: 0.7126 - val_accuracy: 0.5500\n",
            "Epoch 17/100\n",
            "13/13 [==============================] - 0s 7ms/step - loss: 0.7556 - accuracy: 0.4875 - val_loss: 0.7093 - val_accuracy: 0.5500\n",
            "Epoch 18/100\n",
            "13/13 [==============================] - 0s 8ms/step - loss: 0.7509 - accuracy: 0.4875 - val_loss: 0.7064 - val_accuracy: 0.5500\n",
            "Epoch 19/100\n",
            "13/13 [==============================] - 0s 7ms/step - loss: 0.7469 - accuracy: 0.4875 - val_loss: 0.7036 - val_accuracy: 0.5500\n",
            "Epoch 20/100\n",
            "13/13 [==============================] - 0s 8ms/step - loss: 0.7429 - accuracy: 0.4875 - val_loss: 0.7009 - val_accuracy: 0.5500\n",
            "Epoch 21/100\n",
            "13/13 [==============================] - 0s 7ms/step - loss: 0.7389 - accuracy: 0.4875 - val_loss: 0.6986 - val_accuracy: 0.5500\n",
            "Epoch 22/100\n",
            "13/13 [==============================] - 0s 8ms/step - loss: 0.7354 - accuracy: 0.4875 - val_loss: 0.6966 - val_accuracy: 0.5500\n",
            "Epoch 23/100\n",
            "13/13 [==============================] - 0s 8ms/step - loss: 0.7321 - accuracy: 0.4875 - val_loss: 0.6945 - val_accuracy: 0.5500\n",
            "Epoch 24/100\n",
            "13/13 [==============================] - 0s 5ms/step - loss: 0.7291 - accuracy: 0.4875 - val_loss: 0.6926 - val_accuracy: 0.5500\n",
            "Epoch 25/100\n",
            "13/13 [==============================] - 0s 5ms/step - loss: 0.7260 - accuracy: 0.4875 - val_loss: 0.6908 - val_accuracy: 0.5500\n",
            "Epoch 26/100\n",
            "13/13 [==============================] - 0s 5ms/step - loss: 0.7231 - accuracy: 0.4875 - val_loss: 0.6893 - val_accuracy: 0.5500\n",
            "Epoch 27/100\n",
            "13/13 [==============================] - 0s 6ms/step - loss: 0.7207 - accuracy: 0.4875 - val_loss: 0.6878 - val_accuracy: 0.5500\n",
            "Epoch 28/100\n",
            "13/13 [==============================] - 0s 5ms/step - loss: 0.7181 - accuracy: 0.4875 - val_loss: 0.6865 - val_accuracy: 0.5500\n",
            "Epoch 29/100\n",
            "13/13 [==============================] - 0s 6ms/step - loss: 0.7160 - accuracy: 0.4875 - val_loss: 0.6852 - val_accuracy: 0.5500\n",
            "Epoch 30/100\n",
            "13/13 [==============================] - 0s 6ms/step - loss: 0.7137 - accuracy: 0.4875 - val_loss: 0.6841 - val_accuracy: 0.5500\n",
            "Epoch 31/100\n",
            "13/13 [==============================] - 0s 5ms/step - loss: 0.7116 - accuracy: 0.4875 - val_loss: 0.6832 - val_accuracy: 0.5500\n",
            "Epoch 32/100\n",
            "13/13 [==============================] - 0s 6ms/step - loss: 0.7099 - accuracy: 0.4875 - val_loss: 0.6822 - val_accuracy: 0.5500\n",
            "Epoch 33/100\n",
            "13/13 [==============================] - 0s 6ms/step - loss: 0.7080 - accuracy: 0.4875 - val_loss: 0.6814 - val_accuracy: 0.5500\n",
            "Epoch 34/100\n",
            "13/13 [==============================] - 0s 6ms/step - loss: 0.7065 - accuracy: 0.4875 - val_loss: 0.6806 - val_accuracy: 0.5500\n",
            "Epoch 35/100\n",
            "13/13 [==============================] - 0s 5ms/step - loss: 0.7049 - accuracy: 0.4875 - val_loss: 0.6800 - val_accuracy: 0.5500\n",
            "Epoch 36/100\n",
            "13/13 [==============================] - 0s 5ms/step - loss: 0.7034 - accuracy: 0.4875 - val_loss: 0.6793 - val_accuracy: 0.5500\n",
            "Epoch 37/100\n",
            "13/13 [==============================] - 0s 6ms/step - loss: 0.7020 - accuracy: 0.4875 - val_loss: 0.6787 - val_accuracy: 0.5500\n",
            "Epoch 38/100\n",
            "13/13 [==============================] - 0s 6ms/step - loss: 0.7006 - accuracy: 0.4875 - val_loss: 0.6782 - val_accuracy: 0.5500\n",
            "Epoch 39/100\n",
            "13/13 [==============================] - 0s 5ms/step - loss: 0.6995 - accuracy: 0.4875 - val_loss: 0.6777 - val_accuracy: 0.5500\n",
            "Epoch 40/100\n",
            "13/13 [==============================] - 0s 5ms/step - loss: 0.6984 - accuracy: 0.4875 - val_loss: 0.6773 - val_accuracy: 0.5500\n",
            "Epoch 41/100\n",
            "13/13 [==============================] - 0s 6ms/step - loss: 0.6973 - accuracy: 0.4875 - val_loss: 0.6769 - val_accuracy: 0.5500\n",
            "Epoch 42/100\n",
            "13/13 [==============================] - 0s 6ms/step - loss: 0.6963 - accuracy: 0.4875 - val_loss: 0.6766 - val_accuracy: 0.5500\n",
            "Epoch 43/100\n",
            "13/13 [==============================] - 0s 6ms/step - loss: 0.6954 - accuracy: 0.4875 - val_loss: 0.6762 - val_accuracy: 0.5500\n",
            "Epoch 44/100\n",
            "13/13 [==============================] - 0s 5ms/step - loss: 0.6945 - accuracy: 0.4875 - val_loss: 0.6759 - val_accuracy: 0.5500\n",
            "Epoch 45/100\n",
            "13/13 [==============================] - 0s 6ms/step - loss: 0.6936 - accuracy: 0.4875 - val_loss: 0.6756 - val_accuracy: 0.5500\n",
            "Epoch 46/100\n",
            "13/13 [==============================] - 0s 6ms/step - loss: 0.6928 - accuracy: 0.4875 - val_loss: 0.6753 - val_accuracy: 0.5500\n",
            "Epoch 47/100\n",
            "13/13 [==============================] - 0s 5ms/step - loss: 0.6920 - accuracy: 0.4875 - val_loss: 0.6750 - val_accuracy: 0.5500\n",
            "Epoch 48/100\n",
            "13/13 [==============================] - 0s 5ms/step - loss: 0.6912 - accuracy: 0.4875 - val_loss: 0.6748 - val_accuracy: 0.5500\n",
            "Epoch 49/100\n",
            "13/13 [==============================] - 0s 5ms/step - loss: 0.6905 - accuracy: 0.4875 - val_loss: 0.6745 - val_accuracy: 0.5500\n",
            "Epoch 50/100\n",
            "13/13 [==============================] - 0s 5ms/step - loss: 0.6898 - accuracy: 0.4875 - val_loss: 0.6742 - val_accuracy: 0.5500\n",
            "Epoch 51/100\n",
            "13/13 [==============================] - 0s 5ms/step - loss: 0.6891 - accuracy: 0.4875 - val_loss: 0.6740 - val_accuracy: 0.5500\n",
            "Epoch 52/100\n",
            "13/13 [==============================] - 0s 5ms/step - loss: 0.6885 - accuracy: 0.4875 - val_loss: 0.6737 - val_accuracy: 0.5500\n",
            "Epoch 53/100\n",
            "13/13 [==============================] - 0s 5ms/step - loss: 0.6878 - accuracy: 0.4875 - val_loss: 0.6735 - val_accuracy: 0.5500\n",
            "Epoch 54/100\n",
            "13/13 [==============================] - 0s 5ms/step - loss: 0.6871 - accuracy: 0.4875 - val_loss: 0.6733 - val_accuracy: 0.5500\n",
            "Epoch 55/100\n",
            "13/13 [==============================] - 0s 6ms/step - loss: 0.6865 - accuracy: 0.4875 - val_loss: 0.6730 - val_accuracy: 0.5500\n",
            "Epoch 56/100\n",
            "13/13 [==============================] - 0s 6ms/step - loss: 0.6860 - accuracy: 0.4875 - val_loss: 0.6727 - val_accuracy: 0.5500\n",
            "Epoch 57/100\n",
            "13/13 [==============================] - 0s 7ms/step - loss: 0.6853 - accuracy: 0.4875 - val_loss: 0.6723 - val_accuracy: 0.5500\n",
            "Epoch 58/100\n",
            "13/13 [==============================] - 0s 5ms/step - loss: 0.6848 - accuracy: 0.4875 - val_loss: 0.6720 - val_accuracy: 0.5500\n",
            "Epoch 59/100\n",
            "13/13 [==============================] - 0s 5ms/step - loss: 0.6842 - accuracy: 0.4875 - val_loss: 0.6718 - val_accuracy: 0.5500\n",
            "Epoch 60/100\n",
            "13/13 [==============================] - 0s 5ms/step - loss: 0.6836 - accuracy: 0.4875 - val_loss: 0.6714 - val_accuracy: 0.5500\n",
            "Epoch 61/100\n",
            "13/13 [==============================] - 0s 5ms/step - loss: 0.6829 - accuracy: 0.4875 - val_loss: 0.6710 - val_accuracy: 0.5500\n",
            "Epoch 62/100\n",
            "13/13 [==============================] - 0s 5ms/step - loss: 0.6824 - accuracy: 0.4875 - val_loss: 0.6707 - val_accuracy: 0.5500\n",
            "Epoch 63/100\n",
            "13/13 [==============================] - 0s 5ms/step - loss: 0.6817 - accuracy: 0.4875 - val_loss: 0.6703 - val_accuracy: 0.5500\n",
            "Epoch 64/100\n",
            "13/13 [==============================] - 0s 5ms/step - loss: 0.6811 - accuracy: 0.4875 - val_loss: 0.6698 - val_accuracy: 0.5500\n",
            "Epoch 65/100\n",
            "13/13 [==============================] - 0s 5ms/step - loss: 0.6805 - accuracy: 0.4875 - val_loss: 0.6694 - val_accuracy: 0.5500\n",
            "Epoch 66/100\n",
            "13/13 [==============================] - 0s 6ms/step - loss: 0.6799 - accuracy: 0.4875 - val_loss: 0.6688 - val_accuracy: 0.5500\n",
            "Epoch 67/100\n",
            "13/13 [==============================] - 0s 6ms/step - loss: 0.6792 - accuracy: 0.4875 - val_loss: 0.6684 - val_accuracy: 0.5500\n",
            "Epoch 68/100\n",
            "13/13 [==============================] - 0s 5ms/step - loss: 0.6786 - accuracy: 0.4875 - val_loss: 0.6680 - val_accuracy: 0.5500\n",
            "Epoch 69/100\n",
            "13/13 [==============================] - 0s 6ms/step - loss: 0.6779 - accuracy: 0.4875 - val_loss: 0.6674 - val_accuracy: 0.5500\n",
            "Epoch 70/100\n",
            "13/13 [==============================] - 0s 6ms/step - loss: 0.6772 - accuracy: 0.4875 - val_loss: 0.6669 - val_accuracy: 0.5500\n",
            "Epoch 71/100\n",
            "13/13 [==============================] - 0s 5ms/step - loss: 0.6765 - accuracy: 0.4875 - val_loss: 0.6663 - val_accuracy: 0.5500\n",
            "Epoch 72/100\n",
            "13/13 [==============================] - 0s 5ms/step - loss: 0.6758 - accuracy: 0.4875 - val_loss: 0.6657 - val_accuracy: 0.5500\n",
            "Epoch 73/100\n",
            "13/13 [==============================] - 0s 5ms/step - loss: 0.6750 - accuracy: 0.4875 - val_loss: 0.6651 - val_accuracy: 0.5500\n",
            "Epoch 74/100\n",
            "13/13 [==============================] - 0s 5ms/step - loss: 0.6742 - accuracy: 0.4875 - val_loss: 0.6644 - val_accuracy: 0.5500\n",
            "Epoch 75/100\n",
            "13/13 [==============================] - 0s 5ms/step - loss: 0.6736 - accuracy: 0.4875 - val_loss: 0.6639 - val_accuracy: 0.5500\n",
            "Epoch 76/100\n",
            "13/13 [==============================] - 0s 5ms/step - loss: 0.6727 - accuracy: 0.4875 - val_loss: 0.6632 - val_accuracy: 0.5500\n",
            "Epoch 77/100\n",
            "13/13 [==============================] - 0s 5ms/step - loss: 0.6719 - accuracy: 0.4875 - val_loss: 0.6623 - val_accuracy: 0.5500\n",
            "Epoch 78/100\n",
            "13/13 [==============================] - 0s 6ms/step - loss: 0.6710 - accuracy: 0.4875 - val_loss: 0.6616 - val_accuracy: 0.5500\n",
            "Epoch 79/100\n",
            "13/13 [==============================] - 0s 5ms/step - loss: 0.6701 - accuracy: 0.4875 - val_loss: 0.6609 - val_accuracy: 0.5500\n",
            "Epoch 80/100\n",
            "13/13 [==============================] - 0s 5ms/step - loss: 0.6692 - accuracy: 0.4925 - val_loss: 0.6600 - val_accuracy: 0.5500\n",
            "Epoch 81/100\n",
            "13/13 [==============================] - 0s 5ms/step - loss: 0.6683 - accuracy: 0.4925 - val_loss: 0.6592 - val_accuracy: 0.5600\n",
            "Epoch 82/100\n",
            "13/13 [==============================] - 0s 5ms/step - loss: 0.6674 - accuracy: 0.5200 - val_loss: 0.6584 - val_accuracy: 0.5800\n",
            "Epoch 83/100\n",
            "13/13 [==============================] - 0s 5ms/step - loss: 0.6664 - accuracy: 0.5525 - val_loss: 0.6577 - val_accuracy: 0.6000\n",
            "Epoch 84/100\n",
            "13/13 [==============================] - 0s 6ms/step - loss: 0.6655 - accuracy: 0.5825 - val_loss: 0.6567 - val_accuracy: 0.6200\n",
            "Epoch 85/100\n",
            "13/13 [==============================] - 0s 5ms/step - loss: 0.6644 - accuracy: 0.6100 - val_loss: 0.6557 - val_accuracy: 0.6500\n",
            "Epoch 86/100\n",
            "13/13 [==============================] - 0s 5ms/step - loss: 0.6634 - accuracy: 0.6175 - val_loss: 0.6547 - val_accuracy: 0.6600\n",
            "Epoch 87/100\n",
            "13/13 [==============================] - 0s 5ms/step - loss: 0.6623 - accuracy: 0.6300 - val_loss: 0.6537 - val_accuracy: 0.6800\n",
            "Epoch 88/100\n",
            "13/13 [==============================] - 0s 5ms/step - loss: 0.6612 - accuracy: 0.6375 - val_loss: 0.6526 - val_accuracy: 0.6900\n",
            "Epoch 89/100\n",
            "13/13 [==============================] - 0s 5ms/step - loss: 0.6601 - accuracy: 0.6450 - val_loss: 0.6516 - val_accuracy: 0.6900\n",
            "Epoch 90/100\n",
            "13/13 [==============================] - 0s 5ms/step - loss: 0.6590 - accuracy: 0.6575 - val_loss: 0.6507 - val_accuracy: 0.7000\n",
            "Epoch 91/100\n",
            "13/13 [==============================] - 0s 5ms/step - loss: 0.6578 - accuracy: 0.6625 - val_loss: 0.6495 - val_accuracy: 0.7000\n",
            "Epoch 92/100\n",
            "13/13 [==============================] - 0s 6ms/step - loss: 0.6567 - accuracy: 0.6675 - val_loss: 0.6483 - val_accuracy: 0.7100\n",
            "Epoch 93/100\n",
            "13/13 [==============================] - 0s 5ms/step - loss: 0.6554 - accuracy: 0.6675 - val_loss: 0.6472 - val_accuracy: 0.7300\n",
            "Epoch 94/100\n",
            "13/13 [==============================] - 0s 5ms/step - loss: 0.6541 - accuracy: 0.6675 - val_loss: 0.6459 - val_accuracy: 0.7300\n",
            "Epoch 95/100\n",
            "13/13 [==============================] - 0s 6ms/step - loss: 0.6529 - accuracy: 0.6750 - val_loss: 0.6447 - val_accuracy: 0.7400\n",
            "Epoch 96/100\n",
            "13/13 [==============================] - 0s 5ms/step - loss: 0.6516 - accuracy: 0.6875 - val_loss: 0.6434 - val_accuracy: 0.7400\n",
            "Epoch 97/100\n",
            "13/13 [==============================] - 0s 5ms/step - loss: 0.6502 - accuracy: 0.6875 - val_loss: 0.6423 - val_accuracy: 0.7500\n",
            "Epoch 98/100\n",
            "13/13 [==============================] - 0s 5ms/step - loss: 0.6489 - accuracy: 0.6925 - val_loss: 0.6409 - val_accuracy: 0.7500\n",
            "Epoch 99/100\n",
            "13/13 [==============================] - 0s 7ms/step - loss: 0.6475 - accuracy: 0.7000 - val_loss: 0.6395 - val_accuracy: 0.7500\n",
            "Epoch 100/100\n",
            "13/13 [==============================] - 0s 6ms/step - loss: 0.6461 - accuracy: 0.7075 - val_loss: 0.6381 - val_accuracy: 0.7500\n"
          ]
        }
      ]
    },
    {
      "cell_type": "code",
      "source": [
        "model.get_weights()"
      ],
      "metadata": {
        "colab": {
          "base_uri": "https://localhost:8080/"
        },
        "id": "x8srospnGOAX",
        "outputId": "46015a8b-36df-4c4a-848c-3f9ad45fa277"
      },
      "execution_count": 21,
      "outputs": [
        {
          "output_type": "execute_result",
          "data": {
            "text/plain": [
              "[array([[ 1.3868744 ,  1.3868744 ],\n",
              "        [-0.45381427, -0.45381427]], dtype=float32),\n",
              " array([-0.1526971, -0.1526971], dtype=float32),\n",
              " array([[0.343128],\n",
              "        [0.343128]], dtype=float32),\n",
              " array([-0.20532975], dtype=float32)]"
            ]
          },
          "metadata": {},
          "execution_count": 21
        }
      ]
    },
    {
      "cell_type": "code",
      "source": [
        "from mlxtend.plotting import plot_decision_regions\n",
        "plot_decision_regions(x, y.astype('int'), clf=model, legend=2)"
      ],
      "metadata": {
        "colab": {
          "base_uri": "https://localhost:8080/",
          "height": 354
        },
        "id": "evgeK_VCGODi",
        "outputId": "1ed670f9-6df1-42c3-a532-dcfe02396e3d"
      },
      "execution_count": 23,
      "outputs": [
        {
          "output_type": "stream",
          "name": "stdout",
          "text": [
            "3888/3888 [==============================] - 5s 1ms/step\n"
          ]
        },
        {
          "output_type": "stream",
          "name": "stderr",
          "text": [
            "/usr/local/lib/python3.8/dist-packages/mlxtend/plotting/decision_regions.py:244: MatplotlibDeprecationWarning: Passing unsupported keyword arguments to axis() will raise a TypeError in 3.3.\n",
            "  ax.axis(xmin=xx.min(), xmax=xx.max(), y_min=yy.min(), y_max=yy.max())\n"
          ]
        },
        {
          "output_type": "execute_result",
          "data": {
            "text/plain": [
              "<matplotlib.axes._subplots.AxesSubplot at 0x7fc747f74c10>"
            ]
          },
          "metadata": {},
          "execution_count": 23
        },
        {
          "output_type": "display_data",
          "data": {
            "text/plain": [
              "<Figure size 432x288 with 1 Axes>"
            ],
            "image/png": "[encoded data removed]"
          },
          "metadata": {
            "needs_background": "light"
          }
        }
      ]
    },
    {
      "cell_type": "code",
      "source": [],
      "metadata": {
        "id": "hM9PJ9sgKeOY"
      },
      "execution_count": null,
      "outputs": []
    },
    {
      "cell_type": "code",
      "source": [
        "inital_weights[0] = np.zeros(inital_weights[0].shape)\n",
        "inital_weights[1] = np.zeros(inital_weights[1].shape)\n",
        "inital_weights[2] = np.zeros(inital_weights[2].shape)\n",
        "inital_weights[3] = np.zeros(inital_weights[3].shape)"
      ],
      "metadata": {
        "id": "iOkD54FnGOGM"
      },
      "execution_count": 33,
      "outputs": []
    },
    {
      "cell_type": "code",
      "source": [
        "model.set_weights(inital_weights)"
      ],
      "metadata": {
        "id": "FanHbvtPGOJY"
      },
      "execution_count": 34,
      "outputs": []
    },
    {
      "cell_type": "code",
      "source": [
        "model.get_weights()"
      ],
      "metadata": {
        "colab": {
          "base_uri": "https://localhost:8080/"
        },
        "id": "KrVTC5bhGOMM",
        "outputId": "e40846e3-5f9b-4a1c-80d5-0a6aedcc68b8"
      },
      "execution_count": 35,
      "outputs": [
        {
          "output_type": "execute_result",
          "data": {
            "text/plain": [
              "[array([[0., 0.],\n",
              "        [0., 0.]], dtype=float32), array([0., 0.], dtype=float32), array([[0.],\n",
              "        [0.]], dtype=float32), array([0.], dtype=float32)]"
            ]
          },
          "metadata": {},
          "execution_count": 35
        }
      ]
    },
    {
      "cell_type": "code",
      "source": [
        "model.compile(optimizer='adam', loss='binary_crossentropy', metrics=['accuracy'])"
      ],
      "metadata": {
        "id": "kyf3uzmqLwnR"
      },
      "execution_count": 36,
      "outputs": []
    },
    {
      "cell_type": "code",
      "source": [
        "history = model.fit(x, y, epochs=100, validation_split=0.2)"
      ],
      "metadata": {
        "colab": {
          "base_uri": "https://localhost:8080/"
        },
        "id": "_HiZt9iGGOPK",
        "outputId": "f2b17b02-aa85-4fe5-a99c-05d157a6668b"
      },
      "execution_count": 37,
      "outputs": [
        {
          "output_type": "stream",
          "name": "stdout",
          "text": [
            "Epoch 1/100\n",
            "13/13 [==============================] - 1s 14ms/step - loss: 0.6931 - accuracy: 0.5125 - val_loss: 0.6936 - val_accuracy: 0.4500\n",
            "Epoch 2/100\n",
            "13/13 [==============================] - 0s 5ms/step - loss: 0.6931 - accuracy: 0.5125 - val_loss: 0.6938 - val_accuracy: 0.4500\n",
            "Epoch 3/100\n",
            "13/13 [==============================] - 0s 5ms/step - loss: 0.6929 - accuracy: 0.5125 - val_loss: 0.6940 - val_accuracy: 0.4500\n",
            "Epoch 4/100\n",
            "13/13 [==============================] - 0s 4ms/step - loss: 0.6929 - accuracy: 0.5125 - val_loss: 0.6942 - val_accuracy: 0.4500\n",
            "Epoch 5/100\n",
            "13/13 [==============================] - 0s 6ms/step - loss: 0.6928 - accuracy: 0.5125 - val_loss: 0.6943 - val_accuracy: 0.4500\n",
            "Epoch 6/100\n",
            "13/13 [==============================] - 0s 6ms/step - loss: 0.6926 - accuracy: 0.5125 - val_loss: 0.6943 - val_accuracy: 0.4500\n",
            "Epoch 7/100\n",
            "13/13 [==============================] - 0s 5ms/step - loss: 0.6924 - accuracy: 0.5125 - val_loss: 0.6945 - val_accuracy: 0.4500\n",
            "Epoch 8/100\n",
            "13/13 [==============================] - 0s 6ms/step - loss: 0.6922 - accuracy: 0.5125 - val_loss: 0.6946 - val_accuracy: 0.4500\n",
            "Epoch 9/100\n",
            "13/13 [==============================] - 0s 5ms/step - loss: 0.6919 - accuracy: 0.5125 - val_loss: 0.6945 - val_accuracy: 0.4500\n",
            "Epoch 10/100\n",
            "13/13 [==============================] - 0s 5ms/step - loss: 0.6916 - accuracy: 0.5125 - val_loss: 0.6945 - val_accuracy: 0.4500\n",
            "Epoch 11/100\n",
            "13/13 [==============================] - 0s 5ms/step - loss: 0.6912 - accuracy: 0.5125 - val_loss: 0.6945 - val_accuracy: 0.4500\n",
            "Epoch 12/100\n",
            "13/13 [==============================] - 0s 6ms/step - loss: 0.6908 - accuracy: 0.5125 - val_loss: 0.6944 - val_accuracy: 0.4500\n",
            "Epoch 13/100\n",
            "13/13 [==============================] - 0s 6ms/step - loss: 0.6903 - accuracy: 0.5125 - val_loss: 0.6942 - val_accuracy: 0.4500\n",
            "Epoch 14/100\n",
            "13/13 [==============================] - 0s 5ms/step - loss: 0.6897 - accuracy: 0.5125 - val_loss: 0.6940 - val_accuracy: 0.4500\n",
            "Epoch 15/100\n",
            "13/13 [==============================] - 0s 5ms/step - loss: 0.6891 - accuracy: 0.5125 - val_loss: 0.6937 - val_accuracy: 0.4500\n",
            "Epoch 16/100\n",
            "13/13 [==============================] - 0s 5ms/step - loss: 0.6883 - accuracy: 0.5125 - val_loss: 0.6933 - val_accuracy: 0.4500\n",
            "Epoch 17/100\n",
            "13/13 [==============================] - 0s 6ms/step - loss: 0.6875 - accuracy: 0.5125 - val_loss: 0.6930 - val_accuracy: 0.4500\n",
            "Epoch 18/100\n",
            "13/13 [==============================] - 0s 5ms/step - loss: 0.6866 - accuracy: 0.5125 - val_loss: 0.6925 - val_accuracy: 0.4500\n",
            "Epoch 19/100\n",
            "13/13 [==============================] - 0s 5ms/step - loss: 0.6855 - accuracy: 0.5125 - val_loss: 0.6920 - val_accuracy: 0.4500\n",
            "Epoch 20/100\n",
            "13/13 [==============================] - 0s 5ms/step - loss: 0.6845 - accuracy: 0.5125 - val_loss: 0.6914 - val_accuracy: 0.4500\n",
            "Epoch 21/100\n",
            "13/13 [==============================] - 0s 5ms/step - loss: 0.6832 - accuracy: 0.5125 - val_loss: 0.6905 - val_accuracy: 0.4500\n",
            "Epoch 22/100\n",
            "13/13 [==============================] - 0s 5ms/step - loss: 0.6820 - accuracy: 0.5125 - val_loss: 0.6897 - val_accuracy: 0.4500\n",
            "Epoch 23/100\n",
            "13/13 [==============================] - 0s 8ms/step - loss: 0.6807 - accuracy: 0.5125 - val_loss: 0.6888 - val_accuracy: 0.4500\n",
            "Epoch 24/100\n",
            "13/13 [==============================] - 0s 6ms/step - loss: 0.6791 - accuracy: 0.5125 - val_loss: 0.6877 - val_accuracy: 0.4500\n",
            "Epoch 25/100\n",
            "13/13 [==============================] - 0s 5ms/step - loss: 0.6776 - accuracy: 0.5125 - val_loss: 0.6866 - val_accuracy: 0.4500\n",
            "Epoch 26/100\n",
            "13/13 [==============================] - 0s 6ms/step - loss: 0.6759 - accuracy: 0.5125 - val_loss: 0.6854 - val_accuracy: 0.4500\n",
            "Epoch 27/100\n",
            "13/13 [==============================] - 0s 5ms/step - loss: 0.6741 - accuracy: 0.5125 - val_loss: 0.6842 - val_accuracy: 0.4500\n",
            "Epoch 28/100\n",
            "13/13 [==============================] - 0s 6ms/step - loss: 0.6724 - accuracy: 0.5125 - val_loss: 0.6829 - val_accuracy: 0.4500\n",
            "Epoch 29/100\n",
            "13/13 [==============================] - 0s 5ms/step - loss: 0.6704 - accuracy: 0.5125 - val_loss: 0.6814 - val_accuracy: 0.4500\n",
            "Epoch 30/100\n",
            "13/13 [==============================] - 0s 5ms/step - loss: 0.6684 - accuracy: 0.5125 - val_loss: 0.6799 - val_accuracy: 0.4500\n",
            "Epoch 31/100\n",
            "13/13 [==============================] - 0s 5ms/step - loss: 0.6664 - accuracy: 0.5125 - val_loss: 0.6784 - val_accuracy: 0.4500\n",
            "Epoch 32/100\n",
            "13/13 [==============================] - 0s 6ms/step - loss: 0.6643 - accuracy: 0.5125 - val_loss: 0.6768 - val_accuracy: 0.4500\n",
            "Epoch 33/100\n",
            "13/13 [==============================] - 0s 5ms/step - loss: 0.6620 - accuracy: 0.5125 - val_loss: 0.6750 - val_accuracy: 0.4500\n",
            "Epoch 34/100\n",
            "13/13 [==============================] - 0s 6ms/step - loss: 0.6598 - accuracy: 0.5125 - val_loss: 0.6732 - val_accuracy: 0.4500\n",
            "Epoch 35/100\n",
            "13/13 [==============================] - 0s 5ms/step - loss: 0.6575 - accuracy: 0.5125 - val_loss: 0.6712 - val_accuracy: 0.4500\n",
            "Epoch 36/100\n",
            "13/13 [==============================] - 0s 5ms/step - loss: 0.6552 - accuracy: 0.5125 - val_loss: 0.6694 - val_accuracy: 0.4500\n",
            "Epoch 37/100\n",
            "13/13 [==============================] - 0s 5ms/step - loss: 0.6528 - accuracy: 0.5125 - val_loss: 0.6675 - val_accuracy: 0.4500\n",
            "Epoch 38/100\n",
            "13/13 [==============================] - 0s 5ms/step - loss: 0.6502 - accuracy: 0.5125 - val_loss: 0.6655 - val_accuracy: 0.4500\n",
            "Epoch 39/100\n",
            "13/13 [==============================] - 0s 5ms/step - loss: 0.6478 - accuracy: 0.5125 - val_loss: 0.6635 - val_accuracy: 0.4500\n",
            "Epoch 40/100\n",
            "13/13 [==============================] - 0s 5ms/step - loss: 0.6451 - accuracy: 0.5125 - val_loss: 0.6613 - val_accuracy: 0.4500\n",
            "Epoch 41/100\n",
            "13/13 [==============================] - 0s 5ms/step - loss: 0.6426 - accuracy: 0.5125 - val_loss: 0.6591 - val_accuracy: 0.4500\n",
            "Epoch 42/100\n",
            "13/13 [==============================] - 0s 5ms/step - loss: 0.6399 - accuracy: 0.5125 - val_loss: 0.6570 - val_accuracy: 0.4500\n",
            "Epoch 43/100\n",
            "13/13 [==============================] - 0s 5ms/step - loss: 0.6374 - accuracy: 0.5125 - val_loss: 0.6547 - val_accuracy: 0.4500\n",
            "Epoch 44/100\n",
            "13/13 [==============================] - 0s 5ms/step - loss: 0.6346 - accuracy: 0.5125 - val_loss: 0.6523 - val_accuracy: 0.4500\n",
            "Epoch 45/100\n",
            "13/13 [==============================] - 0s 5ms/step - loss: 0.6320 - accuracy: 0.5175 - val_loss: 0.6501 - val_accuracy: 0.4600\n",
            "Epoch 46/100\n",
            "13/13 [==============================] - 0s 5ms/step - loss: 0.6294 - accuracy: 0.5525 - val_loss: 0.6475 - val_accuracy: 0.5200\n",
            "Epoch 47/100\n",
            "13/13 [==============================] - 0s 5ms/step - loss: 0.6266 - accuracy: 0.6075 - val_loss: 0.6454 - val_accuracy: 0.5500\n",
            "Epoch 48/100\n",
            "13/13 [==============================] - 0s 7ms/step - loss: 0.6239 - accuracy: 0.6500 - val_loss: 0.6430 - val_accuracy: 0.6100\n",
            "Epoch 49/100\n",
            "13/13 [==============================] - 0s 5ms/step - loss: 0.6211 - accuracy: 0.6825 - val_loss: 0.6405 - val_accuracy: 0.6400\n",
            "Epoch 50/100\n",
            "13/13 [==============================] - 0s 5ms/step - loss: 0.6183 - accuracy: 0.7150 - val_loss: 0.6380 - val_accuracy: 0.6600\n",
            "Epoch 51/100\n",
            "13/13 [==============================] - 0s 6ms/step - loss: 0.6156 - accuracy: 0.7325 - val_loss: 0.6356 - val_accuracy: 0.6600\n",
            "Epoch 52/100\n",
            "13/13 [==============================] - 0s 5ms/step - loss: 0.6128 - accuracy: 0.7575 - val_loss: 0.6331 - val_accuracy: 0.6700\n",
            "Epoch 53/100\n",
            "13/13 [==============================] - 0s 6ms/step - loss: 0.6099 - accuracy: 0.7650 - val_loss: 0.6307 - val_accuracy: 0.6900\n",
            "Epoch 54/100\n",
            "13/13 [==============================] - 0s 5ms/step - loss: 0.6071 - accuracy: 0.7750 - val_loss: 0.6282 - val_accuracy: 0.7000\n",
            "Epoch 55/100\n",
            "13/13 [==============================] - 0s 6ms/step - loss: 0.6043 - accuracy: 0.7900 - val_loss: 0.6257 - val_accuracy: 0.7100\n",
            "Epoch 56/100\n",
            "13/13 [==============================] - 0s 6ms/step - loss: 0.6015 - accuracy: 0.7975 - val_loss: 0.6232 - val_accuracy: 0.7100\n",
            "Epoch 57/100\n",
            "13/13 [==============================] - 0s 5ms/step - loss: 0.5987 - accuracy: 0.8025 - val_loss: 0.6207 - val_accuracy: 0.7200\n",
            "Epoch 58/100\n",
            "13/13 [==============================] - 0s 5ms/step - loss: 0.5959 - accuracy: 0.8100 - val_loss: 0.6181 - val_accuracy: 0.7300\n",
            "Epoch 59/100\n",
            "13/13 [==============================] - 0s 5ms/step - loss: 0.5931 - accuracy: 0.8150 - val_loss: 0.6156 - val_accuracy: 0.7400\n",
            "Epoch 60/100\n",
            "13/13 [==============================] - 0s 5ms/step - loss: 0.5903 - accuracy: 0.8175 - val_loss: 0.6131 - val_accuracy: 0.7400\n",
            "Epoch 61/100\n",
            "13/13 [==============================] - 0s 6ms/step - loss: 0.5875 - accuracy: 0.8200 - val_loss: 0.6106 - val_accuracy: 0.7500\n",
            "Epoch 62/100\n",
            "13/13 [==============================] - 0s 6ms/step - loss: 0.5847 - accuracy: 0.8200 - val_loss: 0.6081 - val_accuracy: 0.7500\n",
            "Epoch 63/100\n",
            "13/13 [==============================] - 0s 5ms/step - loss: 0.5820 - accuracy: 0.8225 - val_loss: 0.6057 - val_accuracy: 0.7600\n",
            "Epoch 64/100\n",
            "13/13 [==============================] - 0s 5ms/step - loss: 0.5793 - accuracy: 0.8225 - val_loss: 0.6032 - val_accuracy: 0.7700\n",
            "Epoch 65/100\n",
            "13/13 [==============================] - 0s 6ms/step - loss: 0.5766 - accuracy: 0.8275 - val_loss: 0.6008 - val_accuracy: 0.7700\n",
            "Epoch 66/100\n",
            "13/13 [==============================] - 0s 5ms/step - loss: 0.5738 - accuracy: 0.8275 - val_loss: 0.5984 - val_accuracy: 0.7700\n",
            "Epoch 67/100\n",
            "13/13 [==============================] - 0s 5ms/step - loss: 0.5711 - accuracy: 0.8275 - val_loss: 0.5961 - val_accuracy: 0.7800\n",
            "Epoch 68/100\n",
            "13/13 [==============================] - 0s 5ms/step - loss: 0.5685 - accuracy: 0.8300 - val_loss: 0.5934 - val_accuracy: 0.7900\n",
            "Epoch 69/100\n",
            "13/13 [==============================] - 0s 5ms/step - loss: 0.5658 - accuracy: 0.8325 - val_loss: 0.5910 - val_accuracy: 0.7900\n",
            "Epoch 70/100\n",
            "13/13 [==============================] - 0s 5ms/step - loss: 0.5632 - accuracy: 0.8325 - val_loss: 0.5886 - val_accuracy: 0.7800\n",
            "Epoch 71/100\n",
            "13/13 [==============================] - 0s 5ms/step - loss: 0.5605 - accuracy: 0.8275 - val_loss: 0.5863 - val_accuracy: 0.7800\n",
            "Epoch 72/100\n",
            "13/13 [==============================] - 0s 6ms/step - loss: 0.5580 - accuracy: 0.8300 - val_loss: 0.5840 - val_accuracy: 0.7800\n",
            "Epoch 73/100\n",
            "13/13 [==============================] - 0s 5ms/step - loss: 0.5555 - accuracy: 0.8325 - val_loss: 0.5817 - val_accuracy: 0.7800\n",
            "Epoch 74/100\n",
            "13/13 [==============================] - 0s 5ms/step - loss: 0.5529 - accuracy: 0.8300 - val_loss: 0.5791 - val_accuracy: 0.7900\n",
            "Epoch 75/100\n",
            "13/13 [==============================] - 0s 6ms/step - loss: 0.5504 - accuracy: 0.8275 - val_loss: 0.5768 - val_accuracy: 0.7900\n",
            "Epoch 76/100\n",
            "13/13 [==============================] - 0s 6ms/step - loss: 0.5479 - accuracy: 0.8275 - val_loss: 0.5745 - val_accuracy: 0.8000\n",
            "Epoch 77/100\n",
            "13/13 [==============================] - 0s 5ms/step - loss: 0.5454 - accuracy: 0.8300 - val_loss: 0.5724 - val_accuracy: 0.8000\n",
            "Epoch 78/100\n",
            "13/13 [==============================] - 0s 6ms/step - loss: 0.5429 - accuracy: 0.8300 - val_loss: 0.5700 - val_accuracy: 0.8000\n",
            "Epoch 79/100\n",
            "13/13 [==============================] - 0s 5ms/step - loss: 0.5405 - accuracy: 0.8300 - val_loss: 0.5677 - val_accuracy: 0.8100\n",
            "Epoch 80/100\n",
            "13/13 [==============================] - 0s 6ms/step - loss: 0.5381 - accuracy: 0.8300 - val_loss: 0.5653 - val_accuracy: 0.8100\n",
            "Epoch 81/100\n",
            "13/13 [==============================] - 0s 5ms/step - loss: 0.5356 - accuracy: 0.8350 - val_loss: 0.5632 - val_accuracy: 0.8100\n",
            "Epoch 82/100\n",
            "13/13 [==============================] - 0s 6ms/step - loss: 0.5333 - accuracy: 0.8350 - val_loss: 0.5608 - val_accuracy: 0.8100\n",
            "Epoch 83/100\n",
            "13/13 [==============================] - 0s 6ms/step - loss: 0.5309 - accuracy: 0.8400 - val_loss: 0.5586 - val_accuracy: 0.8100\n",
            "Epoch 84/100\n",
            "13/13 [==============================] - 0s 5ms/step - loss: 0.5285 - accuracy: 0.8400 - val_loss: 0.5567 - val_accuracy: 0.8100\n",
            "Epoch 85/100\n",
            "13/13 [==============================] - 0s 6ms/step - loss: 0.5262 - accuracy: 0.8375 - val_loss: 0.5544 - val_accuracy: 0.8000\n",
            "Epoch 86/100\n",
            "13/13 [==============================] - 0s 5ms/step - loss: 0.5240 - accuracy: 0.8375 - val_loss: 0.5523 - val_accuracy: 0.8000\n",
            "Epoch 87/100\n",
            "13/13 [==============================] - 0s 6ms/step - loss: 0.5217 - accuracy: 0.8350 - val_loss: 0.5501 - val_accuracy: 0.8100\n",
            "Epoch 88/100\n",
            "13/13 [==============================] - 0s 6ms/step - loss: 0.5194 - accuracy: 0.8300 - val_loss: 0.5479 - val_accuracy: 0.8100\n",
            "Epoch 89/100\n",
            "13/13 [==============================] - 0s 6ms/step - loss: 0.5171 - accuracy: 0.8300 - val_loss: 0.5458 - val_accuracy: 0.8100\n",
            "Epoch 90/100\n",
            "13/13 [==============================] - 0s 5ms/step - loss: 0.5150 - accuracy: 0.8350 - val_loss: 0.5438 - val_accuracy: 0.8000\n",
            "Epoch 91/100\n",
            "13/13 [==============================] - 0s 5ms/step - loss: 0.5128 - accuracy: 0.8375 - val_loss: 0.5416 - val_accuracy: 0.8000\n",
            "Epoch 92/100\n",
            "13/13 [==============================] - 0s 5ms/step - loss: 0.5106 - accuracy: 0.8375 - val_loss: 0.5397 - val_accuracy: 0.8000\n",
            "Epoch 93/100\n",
            "13/13 [==============================] - 0s 8ms/step - loss: 0.5085 - accuracy: 0.8400 - val_loss: 0.5376 - val_accuracy: 0.8000\n",
            "Epoch 94/100\n",
            "13/13 [==============================] - 0s 8ms/step - loss: 0.5064 - accuracy: 0.8400 - val_loss: 0.5354 - val_accuracy: 0.7900\n",
            "Epoch 95/100\n",
            "13/13 [==============================] - 0s 8ms/step - loss: 0.5043 - accuracy: 0.8375 - val_loss: 0.5332 - val_accuracy: 0.7900\n",
            "Epoch 96/100\n",
            "13/13 [==============================] - 0s 8ms/step - loss: 0.5022 - accuracy: 0.8300 - val_loss: 0.5311 - val_accuracy: 0.8000\n",
            "Epoch 97/100\n",
            "13/13 [==============================] - 0s 7ms/step - loss: 0.5001 - accuracy: 0.8300 - val_loss: 0.5292 - val_accuracy: 0.8000\n",
            "Epoch 98/100\n",
            "13/13 [==============================] - 0s 8ms/step - loss: 0.4980 - accuracy: 0.8300 - val_loss: 0.5274 - val_accuracy: 0.8000\n",
            "Epoch 99/100\n",
            "13/13 [==============================] - 0s 8ms/step - loss: 0.4961 - accuracy: 0.8275 - val_loss: 0.5252 - val_accuracy: 0.8100\n",
            "Epoch 100/100\n",
            "13/13 [==============================] - 0s 8ms/step - loss: 0.4940 - accuracy: 0.8275 - val_loss: 0.5232 - val_accuracy: 0.8100\n"
          ]
        }
      ]
    },
    {
      "cell_type": "code",
      "source": [
        "model.get_weights()"
      ],
      "metadata": {
        "colab": {
          "base_uri": "https://localhost:8080/"
        },
        "id": "NpNn8ww7GOSG",
        "outputId": "77ec79ae-cd6b-4a45-95f0-361a130c5cdc"
      },
      "execution_count": 38,
      "outputs": [
        {
          "output_type": "execute_result",
          "data": {
            "text/plain": [
              "[array([[-1.4860797, -1.4860797],\n",
              "        [ 1.8955146,  1.8955146]], dtype=float32),\n",
              " array([-0.18741329, -0.18741329], dtype=float32),\n",
              " array([[-1.0336305],\n",
              "        [-1.0336305]], dtype=float32),\n",
              " array([0.5683822], dtype=float32)]"
            ]
          },
          "metadata": {},
          "execution_count": 38
        }
      ]
    },
    {
      "cell_type": "code",
      "source": [
        "from mlxtend.plotting import plot_decision_regions\n",
        "plot_decision_regions(x, y.astype('int'), clf=model, legend=2)"
      ],
      "metadata": {
        "colab": {
          "base_uri": "https://localhost:8080/",
          "height": 354
        },
        "id": "HplqbmDyGOVU",
        "outputId": "6c61a82d-0608-4171-bd43-b3b57646d2a6"
      },
      "execution_count": 39,
      "outputs": [
        {
          "output_type": "stream",
          "name": "stdout",
          "text": [
            "3888/3888 [==============================] - 5s 1ms/step\n"
          ]
        },
        {
          "output_type": "stream",
          "name": "stderr",
          "text": [
            "/usr/local/lib/python3.8/dist-packages/mlxtend/plotting/decision_regions.py:244: MatplotlibDeprecationWarning: Passing unsupported keyword arguments to axis() will raise a TypeError in 3.3.\n",
            "  ax.axis(xmin=xx.min(), xmax=xx.max(), y_min=yy.min(), y_max=yy.max())\n"
          ]
        },
        {
          "output_type": "execute_result",
          "data": {
            "text/plain": [
              "<matplotlib.axes._subplots.AxesSubplot at 0x7fc747d42430>"
            ]
          },
          "metadata": {},
          "execution_count": 39
        },
        {
          "output_type": "display_data",
          "data": {
            "text/plain": [
              "<Figure size 432x288 with 1 Axes>"
            ],
            "image/png": "[encoded data removed]"
          },
          "metadata": {
            "needs_background": "light"
          }
        }
      ]
    },
    {
      "cell_type": "code",
      "source": [],
      "metadata": {
        "id": "uirLmFFjGOYH"
      },
      "execution_count": null,
      "outputs": []
    },
    {
      "cell_type": "code",
      "source": [],
      "metadata": {
        "id": "jlb6KPmMGObA"
      },
      "execution_count": null,
      "outputs": []
    },
    {
      "cell_type": "code",
      "source": [
        "model = Sequential()\n",
        "model.add(Dense(2, activation='relu', input_dim=2, kernel_initializer='he_normal'))\n",
        "model.add(Dense(1, activation='sigmoid'))\n",
        "model.summary()\n"
      ],
      "metadata": {
        "colab": {
          "base_uri": "https://localhost:8080/"
        },
        "id": "OACff8paMct7",
        "outputId": "2beec0f5-ffc8-4fd4-811e-160b2f033fbd"
      },
      "execution_count": 46,
      "outputs": [
        {
          "output_type": "stream",
          "name": "stdout",
          "text": [
            "Model: \"sequential_3\"\n",
            "_________________________________________________________________\n",
            " Layer (type)                Output Shape              Param #   \n",
            "=================================================================\n",
            " dense_8 (Dense)             (None, 2)                 6         \n",
            "                                                                 \n",
            " dense_9 (Dense)             (None, 1)                 3         \n",
            "                                                                 \n",
            "=================================================================\n",
            "Total params: 9\n",
            "Trainable params: 9\n",
            "Non-trainable params: 0\n",
            "_________________________________________________________________\n"
          ]
        }
      ]
    },
    {
      "cell_type": "code",
      "source": [
        "model.get_weights()"
      ],
      "metadata": {
        "colab": {
          "base_uri": "https://localhost:8080/"
        },
        "id": "pXe17UOzMcxu",
        "outputId": "513a65cf-42dd-4d36-88b6-f57dd6a15208"
      },
      "execution_count": 43,
      "outputs": [
        {
          "output_type": "execute_result",
          "data": {
            "text/plain": [
              "[array([[-0.4170078,  1.8417202],\n",
              "        [-1.030945 , -0.2420429]], dtype=float32),\n",
              " array([0., 0.], dtype=float32),\n",
              " array([[-1.3681334, -1.3435363],\n",
              "        [-0.6874884, -1.2606674]], dtype=float32),\n",
              " array([0., 0.], dtype=float32),\n",
              " array([[-1.6105379 ,  0.95249265],\n",
              "        [-0.81773007, -0.6267327 ]], dtype=float32),\n",
              " array([0., 0.], dtype=float32),\n",
              " array([[-0.2908584 ],\n",
              "        [ 0.35927558]], dtype=float32),\n",
              " array([0.], dtype=float32)]"
            ]
          },
          "metadata": {},
          "execution_count": 43
        }
      ]
    },
    {
      "cell_type": "code",
      "source": [
        "inital_weights[0] = np.random.randn(2,10)*np.sqrt(1/2)\n",
        "inital_weights[1] = np.zeros(inital_weights[1].shape)\n",
        "inital_weights[2] = np.zeros(inital_weights[2].shape)\n",
        "inital_weights[3] = np.zeros(inital_weights[3].shape)\n",
        "inital_weights[4] = np.zeros(inital_weights[4].shape)\n",
        "inital_weights[5] = np.zeros(inital_weights[5].shape)\n",
        "inital_weights[6] = np.zeros(inital_weights[6].shape)\n",
        "inital_weights[7] = np.zeros(inital_weights[7].shape)\n",
        "inital_weights[8] = np.zeros(inital_weights[8].shape)\n",
        "inital_weights[9] = np.zeros(inital_weights[9].shape)"
      ],
      "metadata": {
        "id": "lOrlc5nAMy6w"
      },
      "execution_count": null,
      "outputs": []
    },
    {
      "cell_type": "code",
      "source": [],
      "metadata": {
        "id": "2yzlkf6wMc0s"
      },
      "execution_count": null,
      "outputs": []
    },
    {
      "cell_type": "code",
      "source": [
        "model.compile(optimizer='adam', loss='binary_crossentropy', metrics=['accuracy'])"
      ],
      "metadata": {
        "id": "a-Ka_NqNMc3M"
      },
      "execution_count": 47,
      "outputs": []
    },
    {
      "cell_type": "code",
      "source": [
        "history = model.fit(x, y, epochs=100, validation_split=0.2)"
      ],
      "metadata": {
        "colab": {
          "base_uri": "https://localhost:8080/"
        },
        "id": "O9-Hq3wzMc54",
        "outputId": "7e7faba9-7f3b-46a7-d88b-64d73bc6439a"
      },
      "execution_count": 48,
      "outputs": [
        {
          "output_type": "stream",
          "name": "stdout",
          "text": [
            "Epoch 1/100\n",
            "13/13 [==============================] - 1s 14ms/step - loss: 0.6588 - accuracy: 0.5125 - val_loss: 0.7025 - val_accuracy: 0.4500\n",
            "Epoch 2/100\n",
            "13/13 [==============================] - 0s 5ms/step - loss: 0.6475 - accuracy: 0.5150 - val_loss: 0.6909 - val_accuracy: 0.4500\n",
            "Epoch 3/100\n",
            "13/13 [==============================] - 0s 7ms/step - loss: 0.6368 - accuracy: 0.5200 - val_loss: 0.6799 - val_accuracy: 0.4700\n",
            "Epoch 4/100\n",
            "13/13 [==============================] - 0s 6ms/step - loss: 0.6266 - accuracy: 0.5375 - val_loss: 0.6691 - val_accuracy: 0.4900\n",
            "Epoch 5/100\n",
            "13/13 [==============================] - 0s 6ms/step - loss: 0.6167 - accuracy: 0.5550 - val_loss: 0.6594 - val_accuracy: 0.5300\n",
            "Epoch 6/100\n",
            "13/13 [==============================] - 0s 6ms/step - loss: 0.6077 - accuracy: 0.5850 - val_loss: 0.6498 - val_accuracy: 0.5500\n",
            "Epoch 7/100\n",
            "13/13 [==============================] - 0s 5ms/step - loss: 0.5992 - accuracy: 0.6150 - val_loss: 0.6408 - val_accuracy: 0.5900\n",
            "Epoch 8/100\n",
            "13/13 [==============================] - 0s 6ms/step - loss: 0.5909 - accuracy: 0.6325 - val_loss: 0.6331 - val_accuracy: 0.6100\n",
            "Epoch 9/100\n",
            "13/13 [==============================] - 0s 5ms/step - loss: 0.5835 - accuracy: 0.6450 - val_loss: 0.6256 - val_accuracy: 0.6200\n",
            "Epoch 10/100\n",
            "13/13 [==============================] - 0s 5ms/step - loss: 0.5765 - accuracy: 0.6525 - val_loss: 0.6185 - val_accuracy: 0.6200\n",
            "Epoch 11/100\n",
            "13/13 [==============================] - 0s 5ms/step - loss: 0.5701 - accuracy: 0.6600 - val_loss: 0.6115 - val_accuracy: 0.6400\n",
            "Epoch 12/100\n",
            "13/13 [==============================] - 0s 5ms/step - loss: 0.5638 - accuracy: 0.6750 - val_loss: 0.6051 - val_accuracy: 0.6500\n",
            "Epoch 13/100\n",
            "13/13 [==============================] - 0s 5ms/step - loss: 0.5582 - accuracy: 0.6850 - val_loss: 0.5991 - val_accuracy: 0.6500\n",
            "Epoch 14/100\n",
            "13/13 [==============================] - 0s 6ms/step - loss: 0.5527 - accuracy: 0.6925 - val_loss: 0.5936 - val_accuracy: 0.6600\n",
            "Epoch 15/100\n",
            "13/13 [==============================] - 0s 5ms/step - loss: 0.5476 - accuracy: 0.7075 - val_loss: 0.5884 - val_accuracy: 0.6700\n",
            "Epoch 16/100\n",
            "13/13 [==============================] - 0s 5ms/step - loss: 0.5429 - accuracy: 0.7125 - val_loss: 0.5836 - val_accuracy: 0.6900\n",
            "Epoch 17/100\n",
            "13/13 [==============================] - 0s 6ms/step - loss: 0.5383 - accuracy: 0.7225 - val_loss: 0.5792 - val_accuracy: 0.6900\n",
            "Epoch 18/100\n",
            "13/13 [==============================] - 0s 6ms/step - loss: 0.5340 - accuracy: 0.7325 - val_loss: 0.5751 - val_accuracy: 0.7000\n",
            "Epoch 19/100\n",
            "13/13 [==============================] - 0s 5ms/step - loss: 0.5301 - accuracy: 0.7425 - val_loss: 0.5708 - val_accuracy: 0.7000\n",
            "Epoch 20/100\n",
            "13/13 [==============================] - 0s 5ms/step - loss: 0.5261 - accuracy: 0.7425 - val_loss: 0.5668 - val_accuracy: 0.7100\n",
            "Epoch 21/100\n",
            "13/13 [==============================] - 0s 6ms/step - loss: 0.5224 - accuracy: 0.7500 - val_loss: 0.5630 - val_accuracy: 0.7100\n",
            "Epoch 22/100\n",
            "13/13 [==============================] - 0s 6ms/step - loss: 0.5190 - accuracy: 0.7625 - val_loss: 0.5590 - val_accuracy: 0.7200\n",
            "Epoch 23/100\n",
            "13/13 [==============================] - 0s 5ms/step - loss: 0.5155 - accuracy: 0.7725 - val_loss: 0.5558 - val_accuracy: 0.7100\n",
            "Epoch 24/100\n",
            "13/13 [==============================] - 0s 6ms/step - loss: 0.5122 - accuracy: 0.7775 - val_loss: 0.5524 - val_accuracy: 0.7200\n",
            "Epoch 25/100\n",
            "13/13 [==============================] - 0s 5ms/step - loss: 0.5090 - accuracy: 0.7850 - val_loss: 0.5494 - val_accuracy: 0.7100\n",
            "Epoch 26/100\n",
            "13/13 [==============================] - 0s 5ms/step - loss: 0.5060 - accuracy: 0.7700 - val_loss: 0.5463 - val_accuracy: 0.7200\n",
            "Epoch 27/100\n",
            "13/13 [==============================] - 0s 5ms/step - loss: 0.5031 - accuracy: 0.7725 - val_loss: 0.5436 - val_accuracy: 0.7100\n",
            "Epoch 28/100\n",
            "13/13 [==============================] - 0s 5ms/step - loss: 0.5003 - accuracy: 0.7725 - val_loss: 0.5408 - val_accuracy: 0.7200\n",
            "Epoch 29/100\n",
            "13/13 [==============================] - 0s 5ms/step - loss: 0.4976 - accuracy: 0.7750 - val_loss: 0.5379 - val_accuracy: 0.7300\n",
            "Epoch 30/100\n",
            "13/13 [==============================] - 0s 6ms/step - loss: 0.4949 - accuracy: 0.7650 - val_loss: 0.5353 - val_accuracy: 0.7200\n",
            "Epoch 31/100\n",
            "13/13 [==============================] - 0s 6ms/step - loss: 0.4924 - accuracy: 0.7625 - val_loss: 0.5330 - val_accuracy: 0.7200\n",
            "Epoch 32/100\n",
            "13/13 [==============================] - 0s 6ms/step - loss: 0.4900 - accuracy: 0.7700 - val_loss: 0.5304 - val_accuracy: 0.7100\n",
            "Epoch 33/100\n",
            "13/13 [==============================] - 0s 6ms/step - loss: 0.4876 - accuracy: 0.7625 - val_loss: 0.5279 - val_accuracy: 0.7200\n",
            "Epoch 34/100\n",
            "13/13 [==============================] - 0s 6ms/step - loss: 0.4852 - accuracy: 0.7650 - val_loss: 0.5255 - val_accuracy: 0.7200\n",
            "Epoch 35/100\n",
            "13/13 [==============================] - 0s 5ms/step - loss: 0.4828 - accuracy: 0.7625 - val_loss: 0.5235 - val_accuracy: 0.7300\n",
            "Epoch 36/100\n",
            "13/13 [==============================] - 0s 5ms/step - loss: 0.4806 - accuracy: 0.7700 - val_loss: 0.5215 - val_accuracy: 0.7100\n",
            "Epoch 37/100\n",
            "13/13 [==============================] - 0s 5ms/step - loss: 0.4785 - accuracy: 0.7600 - val_loss: 0.5193 - val_accuracy: 0.7000\n",
            "Epoch 38/100\n",
            "13/13 [==============================] - 0s 5ms/step - loss: 0.4763 - accuracy: 0.7575 - val_loss: 0.5172 - val_accuracy: 0.6900\n",
            "Epoch 39/100\n",
            "13/13 [==============================] - 0s 5ms/step - loss: 0.4741 - accuracy: 0.7525 - val_loss: 0.5152 - val_accuracy: 0.6900\n",
            "Epoch 40/100\n",
            "13/13 [==============================] - 0s 5ms/step - loss: 0.4720 - accuracy: 0.7525 - val_loss: 0.5132 - val_accuracy: 0.7000\n",
            "Epoch 41/100\n",
            "13/13 [==============================] - 0s 5ms/step - loss: 0.4699 - accuracy: 0.7500 - val_loss: 0.5114 - val_accuracy: 0.7000\n",
            "Epoch 42/100\n",
            "13/13 [==============================] - 0s 7ms/step - loss: 0.4679 - accuracy: 0.7500 - val_loss: 0.5096 - val_accuracy: 0.7000\n",
            "Epoch 43/100\n",
            "13/13 [==============================] - 0s 6ms/step - loss: 0.4659 - accuracy: 0.7475 - val_loss: 0.5077 - val_accuracy: 0.7000\n",
            "Epoch 44/100\n",
            "13/13 [==============================] - 0s 5ms/step - loss: 0.4638 - accuracy: 0.7475 - val_loss: 0.5057 - val_accuracy: 0.7100\n",
            "Epoch 45/100\n",
            "13/13 [==============================] - 0s 6ms/step - loss: 0.4618 - accuracy: 0.7375 - val_loss: 0.5038 - val_accuracy: 0.6900\n",
            "Epoch 46/100\n",
            "13/13 [==============================] - 0s 5ms/step - loss: 0.4599 - accuracy: 0.7350 - val_loss: 0.5018 - val_accuracy: 0.6900\n",
            "Epoch 47/100\n",
            "13/13 [==============================] - 0s 5ms/step - loss: 0.4580 - accuracy: 0.7375 - val_loss: 0.5000 - val_accuracy: 0.6900\n",
            "Epoch 48/100\n",
            "13/13 [==============================] - 0s 6ms/step - loss: 0.4561 - accuracy: 0.7400 - val_loss: 0.4984 - val_accuracy: 0.6900\n",
            "Epoch 49/100\n",
            "13/13 [==============================] - 0s 5ms/step - loss: 0.4543 - accuracy: 0.7425 - val_loss: 0.4965 - val_accuracy: 0.6900\n",
            "Epoch 50/100\n",
            "13/13 [==============================] - 0s 7ms/step - loss: 0.4524 - accuracy: 0.7425 - val_loss: 0.4948 - val_accuracy: 0.6900\n",
            "Epoch 51/100\n",
            "13/13 [==============================] - 0s 7ms/step - loss: 0.4505 - accuracy: 0.7425 - val_loss: 0.4934 - val_accuracy: 0.6900\n",
            "Epoch 52/100\n",
            "13/13 [==============================] - 0s 7ms/step - loss: 0.4486 - accuracy: 0.7525 - val_loss: 0.4917 - val_accuracy: 0.7000\n",
            "Epoch 53/100\n",
            "13/13 [==============================] - 0s 8ms/step - loss: 0.4468 - accuracy: 0.7550 - val_loss: 0.4900 - val_accuracy: 0.7000\n",
            "Epoch 54/100\n",
            "13/13 [==============================] - 0s 6ms/step - loss: 0.4451 - accuracy: 0.7625 - val_loss: 0.4882 - val_accuracy: 0.7000\n",
            "Epoch 55/100\n",
            "13/13 [==============================] - 0s 8ms/step - loss: 0.4432 - accuracy: 0.7650 - val_loss: 0.4866 - val_accuracy: 0.7000\n",
            "Epoch 56/100\n",
            "13/13 [==============================] - 0s 7ms/step - loss: 0.4415 - accuracy: 0.7650 - val_loss: 0.4848 - val_accuracy: 0.7100\n",
            "Epoch 57/100\n",
            "13/13 [==============================] - 0s 7ms/step - loss: 0.4398 - accuracy: 0.7675 - val_loss: 0.4832 - val_accuracy: 0.7100\n",
            "Epoch 58/100\n",
            "13/13 [==============================] - 0s 8ms/step - loss: 0.4380 - accuracy: 0.7650 - val_loss: 0.4815 - val_accuracy: 0.7100\n",
            "Epoch 59/100\n",
            "13/13 [==============================] - 0s 8ms/step - loss: 0.4364 - accuracy: 0.7700 - val_loss: 0.4796 - val_accuracy: 0.7200\n",
            "Epoch 60/100\n",
            "13/13 [==============================] - 0s 7ms/step - loss: 0.4346 - accuracy: 0.7725 - val_loss: 0.4781 - val_accuracy: 0.7200\n",
            "Epoch 61/100\n",
            "13/13 [==============================] - 0s 8ms/step - loss: 0.4329 - accuracy: 0.7725 - val_loss: 0.4765 - val_accuracy: 0.7200\n",
            "Epoch 62/100\n",
            "13/13 [==============================] - 0s 7ms/step - loss: 0.4313 - accuracy: 0.7725 - val_loss: 0.4745 - val_accuracy: 0.7200\n",
            "Epoch 63/100\n",
            "13/13 [==============================] - 0s 8ms/step - loss: 0.4295 - accuracy: 0.7700 - val_loss: 0.4729 - val_accuracy: 0.7200\n",
            "Epoch 64/100\n",
            "13/13 [==============================] - 0s 8ms/step - loss: 0.4278 - accuracy: 0.7725 - val_loss: 0.4711 - val_accuracy: 0.7300\n",
            "Epoch 65/100\n",
            "13/13 [==============================] - 0s 8ms/step - loss: 0.4262 - accuracy: 0.7750 - val_loss: 0.4693 - val_accuracy: 0.7300\n",
            "Epoch 66/100\n",
            "13/13 [==============================] - 0s 8ms/step - loss: 0.4245 - accuracy: 0.7775 - val_loss: 0.4676 - val_accuracy: 0.7300\n",
            "Epoch 67/100\n",
            "13/13 [==============================] - 0s 7ms/step - loss: 0.4229 - accuracy: 0.7825 - val_loss: 0.4661 - val_accuracy: 0.7300\n",
            "Epoch 68/100\n",
            "13/13 [==============================] - 0s 9ms/step - loss: 0.4213 - accuracy: 0.7825 - val_loss: 0.4645 - val_accuracy: 0.7300\n",
            "Epoch 69/100\n",
            "13/13 [==============================] - 0s 8ms/step - loss: 0.4196 - accuracy: 0.7850 - val_loss: 0.4629 - val_accuracy: 0.7300\n",
            "Epoch 70/100\n",
            "13/13 [==============================] - 0s 7ms/step - loss: 0.4180 - accuracy: 0.7950 - val_loss: 0.4610 - val_accuracy: 0.7300\n",
            "Epoch 71/100\n",
            "13/13 [==============================] - 0s 8ms/step - loss: 0.4163 - accuracy: 0.7950 - val_loss: 0.4595 - val_accuracy: 0.7300\n",
            "Epoch 72/100\n",
            "13/13 [==============================] - 0s 7ms/step - loss: 0.4148 - accuracy: 0.7950 - val_loss: 0.4577 - val_accuracy: 0.7500\n",
            "Epoch 73/100\n",
            "13/13 [==============================] - 0s 5ms/step - loss: 0.4131 - accuracy: 0.7950 - val_loss: 0.4561 - val_accuracy: 0.7500\n",
            "Epoch 74/100\n",
            "13/13 [==============================] - 0s 6ms/step - loss: 0.4117 - accuracy: 0.7975 - val_loss: 0.4548 - val_accuracy: 0.7500\n",
            "Epoch 75/100\n",
            "13/13 [==============================] - 0s 6ms/step - loss: 0.4100 - accuracy: 0.7975 - val_loss: 0.4531 - val_accuracy: 0.7500\n",
            "Epoch 76/100\n",
            "13/13 [==============================] - 0s 7ms/step - loss: 0.4084 - accuracy: 0.7975 - val_loss: 0.4514 - val_accuracy: 0.7500\n",
            "Epoch 77/100\n",
            "13/13 [==============================] - 0s 5ms/step - loss: 0.4069 - accuracy: 0.8000 - val_loss: 0.4497 - val_accuracy: 0.7600\n",
            "Epoch 78/100\n",
            "13/13 [==============================] - 0s 6ms/step - loss: 0.4053 - accuracy: 0.8000 - val_loss: 0.4480 - val_accuracy: 0.7600\n",
            "Epoch 79/100\n",
            "13/13 [==============================] - 0s 5ms/step - loss: 0.4037 - accuracy: 0.8025 - val_loss: 0.4464 - val_accuracy: 0.7600\n",
            "Epoch 80/100\n",
            "13/13 [==============================] - 0s 5ms/step - loss: 0.4021 - accuracy: 0.8050 - val_loss: 0.4447 - val_accuracy: 0.7600\n",
            "Epoch 81/100\n",
            "13/13 [==============================] - 0s 5ms/step - loss: 0.4005 - accuracy: 0.8050 - val_loss: 0.4429 - val_accuracy: 0.7600\n",
            "Epoch 82/100\n",
            "13/13 [==============================] - 0s 5ms/step - loss: 0.3989 - accuracy: 0.8050 - val_loss: 0.4415 - val_accuracy: 0.7600\n",
            "Epoch 83/100\n",
            "13/13 [==============================] - 0s 5ms/step - loss: 0.3974 - accuracy: 0.8050 - val_loss: 0.4400 - val_accuracy: 0.7600\n",
            "Epoch 84/100\n",
            "13/13 [==============================] - 0s 5ms/step - loss: 0.3959 - accuracy: 0.8100 - val_loss: 0.4384 - val_accuracy: 0.7600\n",
            "Epoch 85/100\n",
            "13/13 [==============================] - 0s 5ms/step - loss: 0.3943 - accuracy: 0.8125 - val_loss: 0.4368 - val_accuracy: 0.7600\n",
            "Epoch 86/100\n",
            "13/13 [==============================] - 0s 6ms/step - loss: 0.3928 - accuracy: 0.8125 - val_loss: 0.4354 - val_accuracy: 0.7600\n",
            "Epoch 87/100\n",
            "13/13 [==============================] - 0s 5ms/step - loss: 0.3914 - accuracy: 0.8150 - val_loss: 0.4340 - val_accuracy: 0.7600\n",
            "Epoch 88/100\n",
            "13/13 [==============================] - 0s 5ms/step - loss: 0.3898 - accuracy: 0.8150 - val_loss: 0.4324 - val_accuracy: 0.7600\n",
            "Epoch 89/100\n",
            "13/13 [==============================] - 0s 6ms/step - loss: 0.3883 - accuracy: 0.8150 - val_loss: 0.4310 - val_accuracy: 0.7600\n",
            "Epoch 90/100\n",
            "13/13 [==============================] - 0s 5ms/step - loss: 0.3868 - accuracy: 0.8150 - val_loss: 0.4296 - val_accuracy: 0.7600\n",
            "Epoch 91/100\n",
            "13/13 [==============================] - 0s 5ms/step - loss: 0.3853 - accuracy: 0.8200 - val_loss: 0.4282 - val_accuracy: 0.7600\n",
            "Epoch 92/100\n",
            "13/13 [==============================] - 0s 6ms/step - loss: 0.3838 - accuracy: 0.8200 - val_loss: 0.4267 - val_accuracy: 0.7600\n",
            "Epoch 93/100\n",
            "13/13 [==============================] - 0s 5ms/step - loss: 0.3823 - accuracy: 0.8200 - val_loss: 0.4251 - val_accuracy: 0.7700\n",
            "Epoch 94/100\n",
            "13/13 [==============================] - 0s 5ms/step - loss: 0.3808 - accuracy: 0.8200 - val_loss: 0.4235 - val_accuracy: 0.7700\n",
            "Epoch 95/100\n",
            "13/13 [==============================] - 0s 6ms/step - loss: 0.3794 - accuracy: 0.8225 - val_loss: 0.4221 - val_accuracy: 0.7700\n",
            "Epoch 96/100\n",
            "13/13 [==============================] - 0s 5ms/step - loss: 0.3779 - accuracy: 0.8250 - val_loss: 0.4206 - val_accuracy: 0.7800\n",
            "Epoch 97/100\n",
            "13/13 [==============================] - 0s 6ms/step - loss: 0.3764 - accuracy: 0.8275 - val_loss: 0.4193 - val_accuracy: 0.7800\n",
            "Epoch 98/100\n",
            "13/13 [==============================] - 0s 5ms/step - loss: 0.3750 - accuracy: 0.8300 - val_loss: 0.4178 - val_accuracy: 0.7800\n",
            "Epoch 99/100\n",
            "13/13 [==============================] - 0s 5ms/step - loss: 0.3735 - accuracy: 0.8325 - val_loss: 0.4165 - val_accuracy: 0.7800\n",
            "Epoch 100/100\n",
            "13/13 [==============================] - 0s 5ms/step - loss: 0.3721 - accuracy: 0.8325 - val_loss: 0.4155 - val_accuracy: 0.7700\n"
          ]
        }
      ]
    },
    {
      "cell_type": "code",
      "source": [
        "from mlxtend.plotting import plot_decision_regions\n",
        "plot_decision_regions(x, y.astype('int'), clf=model, legend=2)"
      ],
      "metadata": {
        "colab": {
          "base_uri": "https://localhost:8080/",
          "height": 354
        },
        "id": "sUEMdJLoMc9M",
        "outputId": "045a7875-db2e-4629-f6b4-19f3e4f41182"
      },
      "execution_count": 49,
      "outputs": [
        {
          "output_type": "stream",
          "name": "stdout",
          "text": [
            "3888/3888 [==============================] - 6s 2ms/step\n"
          ]
        },
        {
          "output_type": "stream",
          "name": "stderr",
          "text": [
            "/usr/local/lib/python3.8/dist-packages/mlxtend/plotting/decision_regions.py:244: MatplotlibDeprecationWarning: Passing unsupported keyword arguments to axis() will raise a TypeError in 3.3.\n",
            "  ax.axis(xmin=xx.min(), xmax=xx.max(), y_min=yy.min(), y_max=yy.max())\n"
          ]
        },
        {
          "output_type": "execute_result",
          "data": {
            "text/plain": [
              "<matplotlib.axes._subplots.AxesSubplot at 0x7fc7443fdf70>"
            ]
          },
          "metadata": {},
          "execution_count": 49
        },
        {
          "output_type": "display_data",
          "data": {
            "text/plain": [
              "<Figure size 432x288 with 1 Axes>"
            ],
            "image/png": "[encoded data removed]"
          },
          "metadata": {
            "needs_background": "light"
          }
        }
      ]
    },
    {
      "cell_type": "code",
      "source": [],
      "metadata": {
        "id": "0wWGlfP3MdAV"
      },
      "execution_count": null,
      "outputs": []
    }
  ]
}