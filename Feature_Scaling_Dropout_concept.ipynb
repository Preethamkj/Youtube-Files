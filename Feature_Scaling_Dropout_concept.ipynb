{
  "cells": [
    {
      "cell_type": "code",
      "execution_count": 1,
      "metadata": {
        "id": "LpTBO15hYgIJ"
      },
      "outputs": [],
      "source": [
        "import numpy as np\n",
        "import pandas as pd\n",
        "import matplotlib.pyplot as plt\n",
        "%matplotlib inline\n",
        "import seaborn as sns\n",
        "sns.set()\n",
        "import warnings\n",
        "warnings.filterwarnings(\"ignore\")"
      ]
    },
    {
      "cell_type": "code",
      "execution_count": 3,
      "metadata": {
        "colab": {
          "base_uri": "https://localhost:8080/",
          "height": 206
        },
        "id": "8D1vB4PYZyNn",
        "outputId": "383aebaa-38fb-47ce-8496-b01a43e15350"
      },
      "outputs": [
        {
          "data": {
            "text/html": [
              "<div>\n",
              "<style scoped>\n",
              "    .dataframe tbody tr th:only-of-type {\n",
              "        vertical-align: middle;\n",
              "    }\n",
              "\n",
              "    .dataframe tbody tr th {\n",
              "        vertical-align: top;\n",
              "    }\n",
              "\n",
              "    .dataframe thead th {\n",
              "        text-align: right;\n",
              "    }\n",
              "</style>\n",
              "<table border=\"1\" class=\"dataframe\">\n",
              "  <thead>\n",
              "    <tr style=\"text-align: right;\">\n",
              "      <th></th>\n",
              "      <th>User ID</th>\n",
              "      <th>Gender</th>\n",
              "      <th>Age</th>\n",
              "      <th>EstimatedSalary</th>\n",
              "      <th>Purchased</th>\n",
              "    </tr>\n",
              "  </thead>\n",
              "  <tbody>\n",
              "    <tr>\n",
              "      <th>0</th>\n",
              "      <td>15624510</td>\n",
              "      <td>Male</td>\n",
              "      <td>19</td>\n",
              "      <td>19000</td>\n",
              "      <td>0</td>\n",
              "    </tr>\n",
              "    <tr>\n",
              "      <th>1</th>\n",
              "      <td>15810944</td>\n",
              "      <td>Male</td>\n",
              "      <td>35</td>\n",
              "      <td>20000</td>\n",
              "      <td>0</td>\n",
              "    </tr>\n",
              "    <tr>\n",
              "      <th>2</th>\n",
              "      <td>15668575</td>\n",
              "      <td>Female</td>\n",
              "      <td>26</td>\n",
              "      <td>43000</td>\n",
              "      <td>0</td>\n",
              "    </tr>\n",
              "    <tr>\n",
              "      <th>3</th>\n",
              "      <td>15603246</td>\n",
              "      <td>Female</td>\n",
              "      <td>27</td>\n",
              "      <td>57000</td>\n",
              "      <td>0</td>\n",
              "    </tr>\n",
              "    <tr>\n",
              "      <th>4</th>\n",
              "      <td>15804002</td>\n",
              "      <td>Male</td>\n",
              "      <td>19</td>\n",
              "      <td>76000</td>\n",
              "      <td>0</td>\n",
              "    </tr>\n",
              "  </tbody>\n",
              "</table>\n",
              "</div>"
            ],
            "text/plain": [
              "    User ID  Gender  Age  EstimatedSalary  Purchased\n",
              "0  15624510    Male   19            19000          0\n",
              "1  15810944    Male   35            20000          0\n",
              "2  15668575  Female   26            43000          0\n",
              "3  15603246  Female   27            57000          0\n",
              "4  15804002    Male   19            76000          0"
            ]
          },
          "execution_count": 3,
          "metadata": {},
          "output_type": "execute_result"
        }
      ],
      "source": [
        "df = pd.read_csv(\"Social_Network_Ads.csv\")\n",
        "df.head()"
      ]
    },
    {
      "cell_type": "code",
      "execution_count": 4,
      "metadata": {
        "colab": {
          "base_uri": "https://localhost:8080/",
          "height": 206
        },
        "id": "aDVWD6RyaP2p",
        "outputId": "94018b7b-da4b-4269-dcef-f6dda6353aa5"
      },
      "outputs": [
        {
          "data": {
            "text/html": [
              "<div>\n",
              "<style scoped>\n",
              "    .dataframe tbody tr th:only-of-type {\n",
              "        vertical-align: middle;\n",
              "    }\n",
              "\n",
              "    .dataframe tbody tr th {\n",
              "        vertical-align: top;\n",
              "    }\n",
              "\n",
              "    .dataframe thead th {\n",
              "        text-align: right;\n",
              "    }\n",
              "</style>\n",
              "<table border=\"1\" class=\"dataframe\">\n",
              "  <thead>\n",
              "    <tr style=\"text-align: right;\">\n",
              "      <th></th>\n",
              "      <th>Age</th>\n",
              "      <th>EstimatedSalary</th>\n",
              "      <th>Purchased</th>\n",
              "    </tr>\n",
              "  </thead>\n",
              "  <tbody>\n",
              "    <tr>\n",
              "      <th>0</th>\n",
              "      <td>19</td>\n",
              "      <td>19000</td>\n",
              "      <td>0</td>\n",
              "    </tr>\n",
              "    <tr>\n",
              "      <th>1</th>\n",
              "      <td>35</td>\n",
              "      <td>20000</td>\n",
              "      <td>0</td>\n",
              "    </tr>\n",
              "    <tr>\n",
              "      <th>2</th>\n",
              "      <td>26</td>\n",
              "      <td>43000</td>\n",
              "      <td>0</td>\n",
              "    </tr>\n",
              "    <tr>\n",
              "      <th>3</th>\n",
              "      <td>27</td>\n",
              "      <td>57000</td>\n",
              "      <td>0</td>\n",
              "    </tr>\n",
              "    <tr>\n",
              "      <th>4</th>\n",
              "      <td>19</td>\n",
              "      <td>76000</td>\n",
              "      <td>0</td>\n",
              "    </tr>\n",
              "  </tbody>\n",
              "</table>\n",
              "</div>"
            ],
            "text/plain": [
              "   Age  EstimatedSalary  Purchased\n",
              "0   19            19000          0\n",
              "1   35            20000          0\n",
              "2   26            43000          0\n",
              "3   27            57000          0\n",
              "4   19            76000          0"
            ]
          },
          "execution_count": 4,
          "metadata": {},
          "output_type": "execute_result"
        }
      ],
      "source": [
        "df = df.iloc[:,2:]\n",
        "df.head()"
      ]
    },
    {
      "cell_type": "code",
      "execution_count": 6,
      "metadata": {
        "colab": {
          "base_uri": "https://localhost:8080/",
          "height": 285
        },
        "id": "grzyJ94jaoFq",
        "outputId": "f76c9b3b-9db9-4d57-be32-c8712b55df28"
      },
      "outputs": [
        {
          "data": {
            "image/png": "[encoded data removed]",
            "text/plain": [
              "<Figure size 640x480 with 1 Axes>"
            ]
          },
          "metadata": {},
          "output_type": "display_data"
        }
      ],
      "source": [
        "plt.scatter(df.iloc[:,0], df.iloc[:,1])\n",
        "plt.show()"
      ]
    },
    {
      "cell_type": "code",
      "execution_count": 7,
      "metadata": {
        "id": "PXbjJLAIZyQ0"
      },
      "outputs": [],
      "source": [
        "x = df.iloc[:,0:2]\n",
        "y = df.iloc[:,-1]"
      ]
    },
    {
      "cell_type": "code",
      "execution_count": 6,
      "metadata": {
        "colab": {
          "base_uri": "https://localhost:8080/",
          "height": 206
        },
        "id": "sv1Bg1XQbgrc",
        "outputId": "46e05179-2afb-435f-8e8e-7c0c8d1f3418"
      },
      "outputs": [
        {
          "data": {
            "text/html": [
              "\n",
              "  <div id=\"df-2339d2df-0eda-44c4-b5d3-2d5ea2b14b75\">\n",
              "    <div class=\"colab-df-container\">\n",
              "      <div>\n",
              "<style scoped>\n",
              "    .dataframe tbody tr th:only-of-type {\n",
              "        vertical-align: middle;\n",
              "    }\n",
              "\n",
              "    .dataframe tbody tr th {\n",
              "        vertical-align: top;\n",
              "    }\n",
              "\n",
              "    .dataframe thead th {\n",
              "        text-align: right;\n",
              "    }\n",
              "</style>\n",
              "<table border=\"1\" class=\"dataframe\">\n",
              "  <thead>\n",
              "    <tr style=\"text-align: right;\">\n",
              "      <th></th>\n",
              "      <th>Age</th>\n",
              "      <th>EstimatedSalary</th>\n",
              "    </tr>\n",
              "  </thead>\n",
              "  <tbody>\n",
              "    <tr>\n",
              "      <th>0</th>\n",
              "      <td>19</td>\n",
              "      <td>19000</td>\n",
              "    </tr>\n",
              "    <tr>\n",
              "      <th>1</th>\n",
              "      <td>35</td>\n",
              "      <td>20000</td>\n",
              "    </tr>\n",
              "    <tr>\n",
              "      <th>2</th>\n",
              "      <td>26</td>\n",
              "      <td>43000</td>\n",
              "    </tr>\n",
              "    <tr>\n",
              "      <th>3</th>\n",
              "      <td>27</td>\n",
              "      <td>57000</td>\n",
              "    </tr>\n",
              "    <tr>\n",
              "      <th>4</th>\n",
              "      <td>19</td>\n",
              "      <td>76000</td>\n",
              "    </tr>\n",
              "  </tbody>\n",
              "</table>\n",
              "</div>\n",
              "      <button class=\"colab-df-convert\" onclick=\"convertToInteractive('df-2339d2df-0eda-44c4-b5d3-2d5ea2b14b75')\"\n",
              "              title=\"Convert this dataframe to an interactive table.\"\n",
              "              style=\"display:none;\">\n",
              "        \n",
              "  <svg xmlns=\"http://www.w3.org/2000/svg\" height=\"24px\"viewBox=\"0 0 24 24\"\n",
              "       width=\"24px\">\n",
              "    <path d=\"M0 0h24v24H0V0z\" fill=\"none\"/>\n",
              "    <path d=\"M18.56 5.44l.94 2.06.94-2.06 2.06-.94-2.06-.94-.94-2.06-.94 2.06-2.06.94zm-11 1L8.5 8.5l.94-2.06 2.06-.94-2.06-.94L8.5 2.5l-.94 2.06-2.06.94zm10 10l.94 2.06.94-2.06 2.06-.94-2.06-.94-.94-2.06-.94 2.06-2.06.94z\"/><path d=\"M17.41 7.96l-1.37-1.37c-.4-.4-.92-.59-1.43-.59-.52 0-1.04.2-1.43.59L10.3 9.45l-7.72 7.72c-.78.78-.78 2.05 0 2.83L4 21.41c.39.39.9.59 1.41.59.51 0 1.02-.2 1.41-.59l7.78-7.78 2.81-2.81c.8-.78.8-2.07 0-2.86zM5.41 20L4 18.59l7.72-7.72 1.47 1.35L5.41 20z\"/>\n",
              "  </svg>\n",
              "      </button>\n",
              "      \n",
              "  <style>\n",
              "    .colab-df-container {\n",
              "      display:flex;\n",
              "      flex-wrap:wrap;\n",
              "      gap: 12px;\n",
              "    }\n",
              "\n",
              "    .colab-df-convert {\n",
              "      background-color: #E8F0FE;\n",
              "      border: none;\n",
              "      border-radius: 50%;\n",
              "      cursor: pointer;\n",
              "      display: none;\n",
              "      fill: #1967D2;\n",
              "      height: 32px;\n",
              "      padding: 0 0 0 0;\n",
              "      width: 32px;\n",
              "    }\n",
              "\n",
              "    .colab-df-convert:hover {\n",
              "      background-color: #E2EBFA;\n",
              "      box-shadow: 0px 1px 2px rgba(60, 64, 67, 0.3), 0px 1px 3px 1px rgba(60, 64, 67, 0.15);\n",
              "      fill: #174EA6;\n",
              "    }\n",
              "\n",
              "    [theme=dark] .colab-df-convert {\n",
              "      background-color: #3B4455;\n",
              "      fill: #D2E3FC;\n",
              "    }\n",
              "\n",
              "    [theme=dark] .colab-df-convert:hover {\n",
              "      background-color: #434B5C;\n",
              "      box-shadow: 0px 1px 3px 1px rgba(0, 0, 0, 0.15);\n",
              "      filter: drop-shadow(0px 1px 2px rgba(0, 0, 0, 0.3));\n",
              "      fill: #FFFFFF;\n",
              "    }\n",
              "  </style>\n",
              "\n",
              "      <script>\n",
              "        const buttonEl =\n",
              "          document.querySelector('#df-2339d2df-0eda-44c4-b5d3-2d5ea2b14b75 button.colab-df-convert');\n",
              "        buttonEl.style.display =\n",
              "          google.colab.kernel.accessAllowed ? 'block' : 'none';\n",
              "\n",
              "        async function convertToInteractive(key) {\n",
              "          const element = document.querySelector('#df-2339d2df-0eda-44c4-b5d3-2d5ea2b14b75');\n",
              "          const dataTable =\n",
              "            await google.colab.kernel.invokeFunction('convertToInteractive',\n",
              "                                                     [key], {});\n",
              "          if (!dataTable) return;\n",
              "\n",
              "          const docLinkHtml = 'Like what you see? Visit the ' +\n",
              "            '<a target=\"_blank\" href=https://colab.research.google.com/notebooks/data_table.ipynb>data table notebook</a>'\n",
              "            + ' to learn more about interactive tables.';\n",
              "          element.innerHTML = '';\n",
              "          dataTable['output_type'] = 'display_data';\n",
              "          await google.colab.output.renderOutput(dataTable, element);\n",
              "          const docLink = document.createElement('div');\n",
              "          docLink.innerHTML = docLinkHtml;\n",
              "          element.appendChild(docLink);\n",
              "        }\n",
              "      </script>\n",
              "    </div>\n",
              "  </div>\n",
              "  "
            ],
            "text/plain": [
              "   Age  EstimatedSalary\n",
              "0   19            19000\n",
              "1   35            20000\n",
              "2   26            43000\n",
              "3   27            57000\n",
              "4   19            76000"
            ]
          },
          "execution_count": 6,
          "metadata": {},
          "output_type": "execute_result"
        }
      ],
      "source": [
        "x.head()"
      ]
    },
    {
      "cell_type": "code",
      "execution_count": 7,
      "metadata": {
        "colab": {
          "base_uri": "https://localhost:8080/"
        },
        "id": "xRhAsmg0biTI",
        "outputId": "52950db5-c8c3-422f-887c-db60b7dc4eaf"
      },
      "outputs": [
        {
          "data": {
            "text/plain": [
              "0    0\n",
              "1    0\n",
              "2    0\n",
              "3    0\n",
              "4    0\n",
              "Name: Purchased, dtype: int64"
            ]
          },
          "execution_count": 7,
          "metadata": {},
          "output_type": "execute_result"
        }
      ],
      "source": [
        "y.head()"
      ]
    },
    {
      "cell_type": "code",
      "execution_count": 8,
      "metadata": {
        "id": "hZAN7HEVbkM5"
      },
      "outputs": [],
      "source": [
        "# split the data into training and test for building the model and validation\n",
        "from sklearn.model_selection import train_test_split\n",
        "x_train, x_test, y_train, y_test = train_test_split(x, y, test_size=0.2, random_state=1)"
      ]
    },
    {
      "cell_type": "code",
      "execution_count": 9,
      "metadata": {
        "id": "UYiPBuIkbvd5"
      },
      "outputs": [],
      "source": [
        "import tensorflow as tf\n",
        "from tensorflow import keras\n",
        "from keras import Sequential\n",
        "from keras.layers import Dense"
      ]
    },
    {
      "cell_type": "code",
      "execution_count": 10,
      "metadata": {
        "colab": {
          "base_uri": "https://localhost:8080/"
        },
        "id": "UKwqgQEUZyT9",
        "outputId": "8d79ce5a-c2ed-4358-bb0a-93a6cb443ee8"
      },
      "outputs": [
        {
          "name": "stdout",
          "output_type": "stream",
          "text": [
            "Model: \"sequential\"\n",
            "_________________________________________________________________\n",
            " Layer (type)                Output Shape              Param #   \n",
            "=================================================================\n",
            " dense (Dense)               (None, 128)               384       \n",
            "                                                                 \n",
            " dense_1 (Dense)             (None, 1)                 129       \n",
            "                                                                 \n",
            "=================================================================\n",
            "Total params: 513\n",
            "Trainable params: 513\n",
            "Non-trainable params: 0\n",
            "_________________________________________________________________\n"
          ]
        }
      ],
      "source": [
        "model = Sequential()\n",
        "model.add(Dense(128, activation = 'relu', input_dim=2))\n",
        "model.add(Dense(1, activation='sigmoid'))\n",
        "model.summary()"
      ]
    },
    {
      "cell_type": "code",
      "execution_count": 11,
      "metadata": {
        "id": "1zZydv0jZyXI"
      },
      "outputs": [],
      "source": [
        "model.compile(optimizer='adam', loss='binary_crossentropy', metrics=['accuracy'])"
      ]
    },
    {
      "cell_type": "code",
      "execution_count": 12,
      "metadata": {
        "colab": {
          "base_uri": "https://localhost:8080/"
        },
        "id": "Hmwh11WdZyaI",
        "outputId": "be4b8a08-38ca-40b8-86c6-cc4e527d5f75"
      },
      "outputs": [
        {
          "name": "stdout",
          "output_type": "stream",
          "text": [
            "Epoch 1/100\n",
            "10/10 [==============================] - 1s 50ms/step - loss: 2479.7075 - accuracy: 0.6531 - val_loss: 46.3254 - val_accuracy: 0.6000\n",
            "Epoch 2/100\n",
            "10/10 [==============================] - 0s 11ms/step - loss: 737.4580 - accuracy: 0.3906 - val_loss: 137.1909 - val_accuracy: 0.4000\n",
            "Epoch 3/100\n",
            "10/10 [==============================] - 0s 11ms/step - loss: 352.6119 - accuracy: 0.6281 - val_loss: 73.5010 - val_accuracy: 0.6000\n",
            "Epoch 4/100\n",
            "10/10 [==============================] - 0s 11ms/step - loss: 190.0843 - accuracy: 0.5031 - val_loss: 193.8735 - val_accuracy: 0.6000\n",
            "Epoch 5/100\n",
            "10/10 [==============================] - 0s 10ms/step - loss: 98.5893 - accuracy: 0.5406 - val_loss: 63.0404 - val_accuracy: 0.6000\n",
            "Epoch 6/100\n",
            "10/10 [==============================] - 0s 12ms/step - loss: 54.0545 - accuracy: 0.5781 - val_loss: 123.3927 - val_accuracy: 0.4000\n",
            "Epoch 7/100\n",
            "10/10 [==============================] - 0s 10ms/step - loss: 107.3216 - accuracy: 0.4156 - val_loss: 124.8411 - val_accuracy: 0.4000\n",
            "Epoch 8/100\n",
            "10/10 [==============================] - 0s 11ms/step - loss: 90.0634 - accuracy: 0.5031 - val_loss: 38.3980 - val_accuracy: 0.6000\n",
            "Epoch 9/100\n",
            "10/10 [==============================] - 0s 10ms/step - loss: 47.2389 - accuracy: 0.5594 - val_loss: 58.1561 - val_accuracy: 0.4000\n",
            "Epoch 10/100\n",
            "10/10 [==============================] - 0s 11ms/step - loss: 39.7174 - accuracy: 0.4875 - val_loss: 130.2729 - val_accuracy: 0.6000\n",
            "Epoch 11/100\n",
            "10/10 [==============================] - 0s 10ms/step - loss: 67.2270 - accuracy: 0.5719 - val_loss: 25.0391 - val_accuracy: 0.4000\n",
            "Epoch 12/100\n",
            "10/10 [==============================] - 0s 8ms/step - loss: 36.3951 - accuracy: 0.5219 - val_loss: 13.8415 - val_accuracy: 0.4000\n",
            "Epoch 13/100\n",
            "10/10 [==============================] - 0s 8ms/step - loss: 26.9382 - accuracy: 0.4844 - val_loss: 20.5461 - val_accuracy: 0.6000\n",
            "Epoch 14/100\n",
            "10/10 [==============================] - 0s 8ms/step - loss: 23.3075 - accuracy: 0.5906 - val_loss: 40.1046 - val_accuracy: 0.6000\n",
            "Epoch 15/100\n",
            "10/10 [==============================] - 0s 8ms/step - loss: 29.9994 - accuracy: 0.5031 - val_loss: 94.0770 - val_accuracy: 0.4000\n",
            "Epoch 16/100\n",
            "10/10 [==============================] - 0s 8ms/step - loss: 45.5601 - accuracy: 0.5250 - val_loss: 2.7734 - val_accuracy: 0.6250\n",
            "Epoch 17/100\n",
            "10/10 [==============================] - 0s 8ms/step - loss: 42.4952 - accuracy: 0.4875 - val_loss: 109.1351 - val_accuracy: 0.6000\n",
            "Epoch 18/100\n",
            "10/10 [==============================] - 0s 8ms/step - loss: 61.1651 - accuracy: 0.5156 - val_loss: 23.5481 - val_accuracy: 0.4000\n",
            "Epoch 19/100\n",
            "10/10 [==============================] - 0s 8ms/step - loss: 37.4709 - accuracy: 0.4844 - val_loss: 40.1632 - val_accuracy: 0.4000\n",
            "Epoch 20/100\n",
            "10/10 [==============================] - 0s 8ms/step - loss: 70.7121 - accuracy: 0.4906 - val_loss: 200.3188 - val_accuracy: 0.6000\n",
            "Epoch 21/100\n",
            "10/10 [==============================] - 0s 9ms/step - loss: 169.2921 - accuracy: 0.4594 - val_loss: 92.4009 - val_accuracy: 0.6000\n",
            "Epoch 22/100\n",
            "10/10 [==============================] - 0s 8ms/step - loss: 136.6002 - accuracy: 0.5156 - val_loss: 1.1062 - val_accuracy: 0.4500\n",
            "Epoch 23/100\n",
            "10/10 [==============================] - 0s 7ms/step - loss: 46.0286 - accuracy: 0.5375 - val_loss: 62.7810 - val_accuracy: 0.4000\n",
            "Epoch 24/100\n",
            "10/10 [==============================] - 0s 7ms/step - loss: 19.0656 - accuracy: 0.5312 - val_loss: 10.6876 - val_accuracy: 0.4000\n",
            "Epoch 25/100\n",
            "10/10 [==============================] - 0s 7ms/step - loss: 34.2149 - accuracy: 0.5031 - val_loss: 135.9498 - val_accuracy: 0.6000\n",
            "Epoch 26/100\n",
            "10/10 [==============================] - 0s 8ms/step - loss: 112.6119 - accuracy: 0.4844 - val_loss: 216.4698 - val_accuracy: 0.6000\n",
            "Epoch 27/100\n",
            "10/10 [==============================] - 0s 8ms/step - loss: 95.8687 - accuracy: 0.5344 - val_loss: 47.2737 - val_accuracy: 0.6000\n",
            "Epoch 28/100\n",
            "10/10 [==============================] - 0s 8ms/step - loss: 27.4437 - accuracy: 0.5719 - val_loss: 19.8635 - val_accuracy: 0.4000\n",
            "Epoch 29/100\n",
            "10/10 [==============================] - 0s 8ms/step - loss: 32.7300 - accuracy: 0.5469 - val_loss: 69.7825 - val_accuracy: 0.4000\n",
            "Epoch 30/100\n",
            "10/10 [==============================] - 0s 8ms/step - loss: 88.6253 - accuracy: 0.4781 - val_loss: 108.0183 - val_accuracy: 0.4000\n",
            "Epoch 31/100\n",
            "10/10 [==============================] - 0s 8ms/step - loss: 68.8165 - accuracy: 0.5156 - val_loss: 53.4282 - val_accuracy: 0.6000\n",
            "Epoch 32/100\n",
            "10/10 [==============================] - 0s 8ms/step - loss: 38.2967 - accuracy: 0.5750 - val_loss: 3.0226 - val_accuracy: 0.6500\n",
            "Epoch 33/100\n",
            "10/10 [==============================] - 0s 9ms/step - loss: 38.0734 - accuracy: 0.5188 - val_loss: 69.4239 - val_accuracy: 0.6000\n",
            "Epoch 34/100\n",
            "10/10 [==============================] - 0s 8ms/step - loss: 51.7962 - accuracy: 0.5375 - val_loss: 89.4577 - val_accuracy: 0.4000\n",
            "Epoch 35/100\n",
            "10/10 [==============================] - 0s 8ms/step - loss: 50.6316 - accuracy: 0.5094 - val_loss: 90.1565 - val_accuracy: 0.6000\n",
            "Epoch 36/100\n",
            "10/10 [==============================] - 0s 8ms/step - loss: 30.8858 - accuracy: 0.5656 - val_loss: 13.3005 - val_accuracy: 0.6000\n",
            "Epoch 37/100\n",
            "10/10 [==============================] - 0s 8ms/step - loss: 21.9705 - accuracy: 0.5375 - val_loss: 34.1653 - val_accuracy: 0.6000\n",
            "Epoch 38/100\n",
            "10/10 [==============================] - 0s 8ms/step - loss: 64.0828 - accuracy: 0.4844 - val_loss: 56.2461 - val_accuracy: 0.4000\n",
            "Epoch 39/100\n",
            "10/10 [==============================] - 0s 8ms/step - loss: 56.1435 - accuracy: 0.5344 - val_loss: 23.7056 - val_accuracy: 0.6000\n",
            "Epoch 40/100\n",
            "10/10 [==============================] - 0s 8ms/step - loss: 20.0414 - accuracy: 0.5719 - val_loss: 2.1834 - val_accuracy: 0.6625\n",
            "Epoch 41/100\n",
            "10/10 [==============================] - 0s 8ms/step - loss: 38.9920 - accuracy: 0.4906 - val_loss: 75.1703 - val_accuracy: 0.6000\n",
            "Epoch 42/100\n",
            "10/10 [==============================] - 0s 8ms/step - loss: 72.5167 - accuracy: 0.5719 - val_loss: 90.1317 - val_accuracy: 0.6000\n",
            "Epoch 43/100\n",
            "10/10 [==============================] - 0s 8ms/step - loss: 61.3489 - accuracy: 0.5156 - val_loss: 112.1628 - val_accuracy: 0.4000\n",
            "Epoch 44/100\n",
            "10/10 [==============================] - 0s 8ms/step - loss: 118.0709 - accuracy: 0.5656 - val_loss: 197.4266 - val_accuracy: 0.6000\n",
            "Epoch 45/100\n",
            "10/10 [==============================] - 0s 8ms/step - loss: 98.0258 - accuracy: 0.5219 - val_loss: 60.3907 - val_accuracy: 0.6000\n",
            "Epoch 46/100\n",
            "10/10 [==============================] - 0s 8ms/step - loss: 49.3526 - accuracy: 0.4656 - val_loss: 73.0770 - val_accuracy: 0.6000\n",
            "Epoch 47/100\n",
            "10/10 [==============================] - 0s 11ms/step - loss: 61.8944 - accuracy: 0.5656 - val_loss: 29.1931 - val_accuracy: 0.4000\n",
            "Epoch 48/100\n",
            "10/10 [==============================] - 0s 8ms/step - loss: 22.9945 - accuracy: 0.4719 - val_loss: 7.1482 - val_accuracy: 0.4000\n",
            "Epoch 49/100\n",
            "10/10 [==============================] - 0s 8ms/step - loss: 52.0420 - accuracy: 0.5094 - val_loss: 22.2308 - val_accuracy: 0.6000\n",
            "Epoch 50/100\n",
            "10/10 [==============================] - 0s 8ms/step - loss: 71.4658 - accuracy: 0.4594 - val_loss: 71.3846 - val_accuracy: 0.4000\n",
            "Epoch 51/100\n",
            "10/10 [==============================] - 0s 8ms/step - loss: 49.1571 - accuracy: 0.5406 - val_loss: 74.1446 - val_accuracy: 0.6000\n",
            "Epoch 52/100\n",
            "10/10 [==============================] - 0s 8ms/step - loss: 95.9174 - accuracy: 0.5344 - val_loss: 76.2089 - val_accuracy: 0.6000\n",
            "Epoch 53/100\n",
            "10/10 [==============================] - 0s 8ms/step - loss: 41.3399 - accuracy: 0.5031 - val_loss: 37.6366 - val_accuracy: 0.6000\n",
            "Epoch 54/100\n",
            "10/10 [==============================] - 0s 8ms/step - loss: 32.9990 - accuracy: 0.5344 - val_loss: 98.5805 - val_accuracy: 0.6000\n",
            "Epoch 55/100\n",
            "10/10 [==============================] - 0s 8ms/step - loss: 51.3756 - accuracy: 0.4844 - val_loss: 17.7118 - val_accuracy: 0.6000\n",
            "Epoch 56/100\n",
            "10/10 [==============================] - 0s 8ms/step - loss: 54.0566 - accuracy: 0.5156 - val_loss: 135.8664 - val_accuracy: 0.4000\n",
            "Epoch 57/100\n",
            "10/10 [==============================] - 0s 8ms/step - loss: 101.3544 - accuracy: 0.4906 - val_loss: 44.8470 - val_accuracy: 0.6000\n",
            "Epoch 58/100\n",
            "10/10 [==============================] - 0s 8ms/step - loss: 57.8192 - accuracy: 0.5906 - val_loss: 80.7366 - val_accuracy: 0.6000\n",
            "Epoch 59/100\n",
            "10/10 [==============================] - 0s 7ms/step - loss: 51.6247 - accuracy: 0.5156 - val_loss: 65.5705 - val_accuracy: 0.4000\n",
            "Epoch 60/100\n",
            "10/10 [==============================] - 0s 8ms/step - loss: 60.5578 - accuracy: 0.4969 - val_loss: 37.9484 - val_accuracy: 0.6000\n",
            "Epoch 61/100\n",
            "10/10 [==============================] - 0s 8ms/step - loss: 47.7451 - accuracy: 0.5219 - val_loss: 8.0544 - val_accuracy: 0.4000\n",
            "Epoch 62/100\n",
            "10/10 [==============================] - 0s 8ms/step - loss: 119.9828 - accuracy: 0.4844 - val_loss: 95.4115 - val_accuracy: 0.4000\n",
            "Epoch 63/100\n",
            "10/10 [==============================] - 0s 8ms/step - loss: 116.7185 - accuracy: 0.5219 - val_loss: 102.2266 - val_accuracy: 0.4000\n",
            "Epoch 64/100\n",
            "10/10 [==============================] - 0s 8ms/step - loss: 73.5122 - accuracy: 0.5031 - val_loss: 114.2302 - val_accuracy: 0.6000\n",
            "Epoch 65/100\n",
            "10/10 [==============================] - 0s 8ms/step - loss: 54.9483 - accuracy: 0.4594 - val_loss: 10.0056 - val_accuracy: 0.6000\n",
            "Epoch 66/100\n",
            "10/10 [==============================] - 0s 9ms/step - loss: 37.0933 - accuracy: 0.5344 - val_loss: 30.4647 - val_accuracy: 0.4000\n",
            "Epoch 67/100\n",
            "10/10 [==============================] - 0s 8ms/step - loss: 58.6902 - accuracy: 0.5219 - val_loss: 61.3645 - val_accuracy: 0.6000\n",
            "Epoch 68/100\n",
            "10/10 [==============================] - 0s 9ms/step - loss: 36.7635 - accuracy: 0.5156 - val_loss: 42.2361 - val_accuracy: 0.6000\n",
            "Epoch 69/100\n",
            "10/10 [==============================] - 0s 8ms/step - loss: 58.0168 - accuracy: 0.5094 - val_loss: 32.4682 - val_accuracy: 0.4000\n",
            "Epoch 70/100\n",
            "10/10 [==============================] - 0s 8ms/step - loss: 51.1562 - accuracy: 0.4719 - val_loss: 1.1483 - val_accuracy: 0.6125\n",
            "Epoch 71/100\n",
            "10/10 [==============================] - 0s 7ms/step - loss: 47.8055 - accuracy: 0.5938 - val_loss: 122.1281 - val_accuracy: 0.4000\n",
            "Epoch 72/100\n",
            "10/10 [==============================] - 0s 7ms/step - loss: 73.7493 - accuracy: 0.4531 - val_loss: 62.8821 - val_accuracy: 0.6000\n",
            "Epoch 73/100\n",
            "10/10 [==============================] - 0s 8ms/step - loss: 53.1235 - accuracy: 0.5969 - val_loss: 23.0666 - val_accuracy: 0.6000\n",
            "Epoch 74/100\n",
            "10/10 [==============================] - 0s 7ms/step - loss: 56.0360 - accuracy: 0.4656 - val_loss: 1.9305 - val_accuracy: 0.4000\n",
            "Epoch 75/100\n",
            "10/10 [==============================] - 0s 7ms/step - loss: 31.1588 - accuracy: 0.5031 - val_loss: 3.5087 - val_accuracy: 0.4000\n",
            "Epoch 76/100\n",
            "10/10 [==============================] - 0s 8ms/step - loss: 31.6116 - accuracy: 0.4906 - val_loss: 19.6098 - val_accuracy: 0.6000\n",
            "Epoch 77/100\n",
            "10/10 [==============================] - 0s 7ms/step - loss: 19.0131 - accuracy: 0.5344 - val_loss: 47.0171 - val_accuracy: 0.6000\n",
            "Epoch 78/100\n",
            "10/10 [==============================] - 0s 7ms/step - loss: 22.5139 - accuracy: 0.5344 - val_loss: 7.5340 - val_accuracy: 0.6000\n",
            "Epoch 79/100\n",
            "10/10 [==============================] - 0s 8ms/step - loss: 59.6570 - accuracy: 0.4781 - val_loss: 26.9766 - val_accuracy: 0.4000\n",
            "Epoch 80/100\n",
            "10/10 [==============================] - 0s 7ms/step - loss: 111.2768 - accuracy: 0.4844 - val_loss: 64.9731 - val_accuracy: 0.4000\n",
            "Epoch 81/100\n",
            "10/10 [==============================] - 0s 7ms/step - loss: 80.9427 - accuracy: 0.5406 - val_loss: 32.8847 - val_accuracy: 0.6000\n",
            "Epoch 82/100\n",
            "10/10 [==============================] - 0s 8ms/step - loss: 16.2287 - accuracy: 0.5156 - val_loss: 13.3465 - val_accuracy: 0.6000\n",
            "Epoch 83/100\n",
            "10/10 [==============================] - 0s 11ms/step - loss: 31.9158 - accuracy: 0.5156 - val_loss: 44.3327 - val_accuracy: 0.4000\n",
            "Epoch 84/100\n",
            "10/10 [==============================] - 0s 8ms/step - loss: 32.2886 - accuracy: 0.5031 - val_loss: 5.5799 - val_accuracy: 0.6000\n",
            "Epoch 85/100\n",
            "10/10 [==============================] - 0s 7ms/step - loss: 18.9489 - accuracy: 0.5469 - val_loss: 75.5555 - val_accuracy: 0.6000\n",
            "Epoch 86/100\n",
            "10/10 [==============================] - 0s 7ms/step - loss: 43.1761 - accuracy: 0.5781 - val_loss: 4.1119 - val_accuracy: 0.4000\n",
            "Epoch 87/100\n",
            "10/10 [==============================] - 0s 7ms/step - loss: 26.6096 - accuracy: 0.4969 - val_loss: 44.8739 - val_accuracy: 0.6000\n",
            "Epoch 88/100\n",
            "10/10 [==============================] - 0s 8ms/step - loss: 63.5048 - accuracy: 0.5594 - val_loss: 196.2668 - val_accuracy: 0.6000\n",
            "Epoch 89/100\n",
            "10/10 [==============================] - 0s 9ms/step - loss: 137.3537 - accuracy: 0.4656 - val_loss: 286.7063 - val_accuracy: 0.6000\n",
            "Epoch 90/100\n",
            "10/10 [==============================] - 0s 7ms/step - loss: 198.6244 - accuracy: 0.4594 - val_loss: 55.4058 - val_accuracy: 0.6000\n",
            "Epoch 91/100\n",
            "10/10 [==============================] - 0s 7ms/step - loss: 78.2198 - accuracy: 0.5594 - val_loss: 69.1148 - val_accuracy: 0.6000\n",
            "Epoch 92/100\n",
            "10/10 [==============================] - 0s 7ms/step - loss: 57.9775 - accuracy: 0.5156 - val_loss: 91.4920 - val_accuracy: 0.4000\n",
            "Epoch 93/100\n",
            "10/10 [==============================] - 0s 7ms/step - loss: 58.6518 - accuracy: 0.5281 - val_loss: 39.0543 - val_accuracy: 0.6000\n",
            "Epoch 94/100\n",
            "10/10 [==============================] - 0s 7ms/step - loss: 32.1876 - accuracy: 0.4938 - val_loss: 81.1532 - val_accuracy: 0.6000\n",
            "Epoch 95/100\n",
            "10/10 [==============================] - 0s 7ms/step - loss: 43.2451 - accuracy: 0.5406 - val_loss: 41.2907 - val_accuracy: 0.6000\n",
            "Epoch 96/100\n",
            "10/10 [==============================] - 0s 7ms/step - loss: 37.0254 - accuracy: 0.5469 - val_loss: 60.7269 - val_accuracy: 0.4000\n",
            "Epoch 97/100\n",
            "10/10 [==============================] - 0s 7ms/step - loss: 38.9679 - accuracy: 0.5188 - val_loss: 40.8039 - val_accuracy: 0.6000\n",
            "Epoch 98/100\n",
            "10/10 [==============================] - 0s 7ms/step - loss: 24.9675 - accuracy: 0.5406 - val_loss: 45.5787 - val_accuracy: 0.4000\n",
            "Epoch 99/100\n",
            "10/10 [==============================] - 0s 7ms/step - loss: 18.1580 - accuracy: 0.5219 - val_loss: 31.9622 - val_accuracy: 0.6000\n",
            "Epoch 100/100\n",
            "10/10 [==============================] - 0s 7ms/step - loss: 20.9657 - accuracy: 0.5531 - val_loss: 44.2768 - val_accuracy: 0.6000\n"
          ]
        }
      ],
      "source": [
        "history = model.fit(x_train, y_train, validation_data=(x_test, y_test), epochs=100)"
      ]
    },
    {
      "cell_type": "code",
      "execution_count": 14,
      "metadata": {
        "colab": {
          "base_uri": "https://localhost:8080/",
          "height": 285
        },
        "id": "s0AiBrGtZyc7",
        "outputId": "b69e1c96-285b-4b9d-e167-dba6c035d8cc"
      },
      "outputs": [
        {
          "data": {
            "text/plain": [
              "[<matplotlib.lines.Line2D at 0x7f047f7b8a30>]"
            ]
          },
          "execution_count": 14,
          "metadata": {},
          "output_type": "execute_result"
        },
        {
          "data": {
            "image/png": "[encoded data removed]",
            "text/plain": [
              "<Figure size 432x288 with 1 Axes>"
            ]
          },
          "metadata": {},
          "output_type": "display_data"
        }
      ],
      "source": [
        "plt.plot(history.history['val_accuracy'])"
      ]
    },
    {
      "cell_type": "code",
      "execution_count": 15,
      "metadata": {
        "colab": {
          "base_uri": "https://localhost:8080/",
          "height": 285
        },
        "id": "D6VwIUe8ZygD",
        "outputId": "73130520-6b2e-4eda-b723-28f04ef3b927"
      },
      "outputs": [
        {
          "data": {
            "text/plain": [
              "[<matplotlib.lines.Line2D at 0x7f047f769f10>]"
            ]
          },
          "execution_count": 15,
          "metadata": {},
          "output_type": "execute_result"
        },
        {
          "data": {
            "image/png": "[encoded data removed]",
            "text/plain": [
              "<Figure size 432x288 with 1 Axes>"
            ]
          },
          "metadata": {},
          "output_type": "display_data"
        }
      ],
      "source": [
        "plt.plot(history.history['accuracy'])"
      ]
    },
    {
      "attachments": {},
      "cell_type": "markdown",
      "metadata": {
        "id": "ac0c_Xktf6jY"
      },
      "source": [
        "# Feature Scaling "
      ]
    },
    {
      "cell_type": "code",
      "execution_count": 18,
      "metadata": {
        "id": "SEmX7ACYZymE"
      },
      "outputs": [],
      "source": [
        "from sklearn.preprocessing import StandardScaler\n",
        "scaler = StandardScaler()\n",
        "x_train_scaled = scaler.fit_transform(x_train)\n",
        "x_test_scaled = scaler.fit_transform(x_test)"
      ]
    },
    {
      "cell_type": "code",
      "execution_count": 19,
      "metadata": {
        "colab": {
          "base_uri": "https://localhost:8080/",
          "height": 268
        },
        "id": "UsdC0fvZgjWk",
        "outputId": "f9cf0517-f533-4975-b23e-bed9f57bf6fa"
      },
      "outputs": [
        {
          "data": {
            "image/png": "[encoded data removed]",
            "text/plain": [
              "<Figure size 432x288 with 1 Axes>"
            ]
          },
          "metadata": {},
          "output_type": "display_data"
        }
      ],
      "source": [
        "sns.scatterplot(x_train_scaled[:,0], x_train_scaled[:,1])\n",
        "plt.show()"
      ]
    },
    {
      "cell_type": "code",
      "execution_count": 23,
      "metadata": {
        "id": "51JyJ-QjrMX0"
      },
      "outputs": [],
      "source": [
        "# from tensorflow.keras.layers import Dropout"
      ]
    },
    {
      "cell_type": "code",
      "execution_count": 30,
      "metadata": {
        "colab": {
          "base_uri": "https://localhost:8080/"
        },
        "id": "NDxUAyYghBim",
        "outputId": "1ac4dd4d-2ec0-4e95-e6d1-123ef0e0a960"
      },
      "outputs": [
        {
          "name": "stdout",
          "output_type": "stream",
          "text": [
            "Epoch 1/100\n",
            "10/10 [==============================] - 1s 21ms/step - loss: 0.6186 - accuracy: 0.7594 - val_loss: 0.5838 - val_accuracy: 0.8500\n",
            "Epoch 2/100\n",
            "10/10 [==============================] - 0s 6ms/step - loss: 0.5680 - accuracy: 0.8094 - val_loss: 0.5382 - val_accuracy: 0.8500\n",
            "Epoch 3/100\n",
            "10/10 [==============================] - 0s 8ms/step - loss: 0.5255 - accuracy: 0.8344 - val_loss: 0.5002 - val_accuracy: 0.8375\n",
            "Epoch 4/100\n",
            "10/10 [==============================] - 0s 6ms/step - loss: 0.4896 - accuracy: 0.8531 - val_loss: 0.4691 - val_accuracy: 0.8250\n",
            "Epoch 5/100\n",
            "10/10 [==============================] - 0s 6ms/step - loss: 0.4575 - accuracy: 0.8438 - val_loss: 0.4440 - val_accuracy: 0.8250\n",
            "Epoch 6/100\n",
            "10/10 [==============================] - 0s 7ms/step - loss: 0.4273 - accuracy: 0.8562 - val_loss: 0.4236 - val_accuracy: 0.8250\n",
            "Epoch 7/100\n",
            "10/10 [==============================] - 0s 7ms/step - loss: 0.4057 - accuracy: 0.8438 - val_loss: 0.4056 - val_accuracy: 0.8125\n",
            "Epoch 8/100\n",
            "10/10 [==============================] - 0s 6ms/step - loss: 0.3856 - accuracy: 0.8406 - val_loss: 0.3907 - val_accuracy: 0.8125\n",
            "Epoch 9/100\n",
            "10/10 [==============================] - 0s 7ms/step - loss: 0.3651 - accuracy: 0.8594 - val_loss: 0.3791 - val_accuracy: 0.8250\n",
            "Epoch 10/100\n",
            "10/10 [==============================] - 0s 6ms/step - loss: 0.3523 - accuracy: 0.8656 - val_loss: 0.3695 - val_accuracy: 0.8250\n",
            "Epoch 11/100\n",
            "10/10 [==============================] - 0s 6ms/step - loss: 0.3336 - accuracy: 0.8813 - val_loss: 0.3619 - val_accuracy: 0.8250\n",
            "Epoch 12/100\n",
            "10/10 [==============================] - 0s 7ms/step - loss: 0.3234 - accuracy: 0.8938 - val_loss: 0.3558 - val_accuracy: 0.8250\n",
            "Epoch 13/100\n",
            "10/10 [==============================] - 0s 6ms/step - loss: 0.3109 - accuracy: 0.8906 - val_loss: 0.3507 - val_accuracy: 0.8250\n",
            "Epoch 14/100\n",
            "10/10 [==============================] - 0s 7ms/step - loss: 0.3052 - accuracy: 0.8969 - val_loss: 0.3471 - val_accuracy: 0.8250\n",
            "Epoch 15/100\n",
            "10/10 [==============================] - 0s 8ms/step - loss: 0.2955 - accuracy: 0.8969 - val_loss: 0.3440 - val_accuracy: 0.8375\n",
            "Epoch 16/100\n",
            "10/10 [==============================] - 0s 6ms/step - loss: 0.2860 - accuracy: 0.8906 - val_loss: 0.3430 - val_accuracy: 0.8375\n",
            "Epoch 17/100\n",
            "10/10 [==============================] - 0s 6ms/step - loss: 0.2797 - accuracy: 0.9000 - val_loss: 0.3406 - val_accuracy: 0.8375\n",
            "Epoch 18/100\n",
            "10/10 [==============================] - 0s 6ms/step - loss: 0.2732 - accuracy: 0.9000 - val_loss: 0.3393 - val_accuracy: 0.8375\n",
            "Epoch 19/100\n",
            "10/10 [==============================] - 0s 7ms/step - loss: 0.2713 - accuracy: 0.9031 - val_loss: 0.3384 - val_accuracy: 0.8375\n",
            "Epoch 20/100\n",
            "10/10 [==============================] - 0s 7ms/step - loss: 0.2634 - accuracy: 0.9031 - val_loss: 0.3379 - val_accuracy: 0.8375\n",
            "Epoch 21/100\n",
            "10/10 [==============================] - 0s 6ms/step - loss: 0.2562 - accuracy: 0.9062 - val_loss: 0.3385 - val_accuracy: 0.8375\n",
            "Epoch 22/100\n",
            "10/10 [==============================] - 0s 7ms/step - loss: 0.2540 - accuracy: 0.9031 - val_loss: 0.3382 - val_accuracy: 0.8375\n",
            "Epoch 23/100\n",
            "10/10 [==============================] - 0s 6ms/step - loss: 0.2506 - accuracy: 0.9156 - val_loss: 0.3373 - val_accuracy: 0.8500\n",
            "Epoch 24/100\n",
            "10/10 [==============================] - 0s 6ms/step - loss: 0.2484 - accuracy: 0.9094 - val_loss: 0.3396 - val_accuracy: 0.8375\n",
            "Epoch 25/100\n",
            "10/10 [==============================] - 0s 6ms/step - loss: 0.2488 - accuracy: 0.9156 - val_loss: 0.3403 - val_accuracy: 0.8375\n",
            "Epoch 26/100\n",
            "10/10 [==============================] - 0s 7ms/step - loss: 0.2441 - accuracy: 0.9156 - val_loss: 0.3391 - val_accuracy: 0.8500\n",
            "Epoch 27/100\n",
            "10/10 [==============================] - 0s 7ms/step - loss: 0.2462 - accuracy: 0.9125 - val_loss: 0.3387 - val_accuracy: 0.8500\n",
            "Epoch 28/100\n",
            "10/10 [==============================] - 0s 7ms/step - loss: 0.2405 - accuracy: 0.9156 - val_loss: 0.3395 - val_accuracy: 0.8500\n",
            "Epoch 29/100\n",
            "10/10 [==============================] - 0s 6ms/step - loss: 0.2386 - accuracy: 0.9156 - val_loss: 0.3396 - val_accuracy: 0.8375\n",
            "Epoch 30/100\n",
            "10/10 [==============================] - 0s 7ms/step - loss: 0.2361 - accuracy: 0.9156 - val_loss: 0.3397 - val_accuracy: 0.8375\n",
            "Epoch 31/100\n",
            "10/10 [==============================] - 0s 7ms/step - loss: 0.2391 - accuracy: 0.9156 - val_loss: 0.3422 - val_accuracy: 0.8375\n",
            "Epoch 32/100\n",
            "10/10 [==============================] - 0s 6ms/step - loss: 0.2299 - accuracy: 0.9156 - val_loss: 0.3415 - val_accuracy: 0.8500\n",
            "Epoch 33/100\n",
            "10/10 [==============================] - 0s 7ms/step - loss: 0.2299 - accuracy: 0.9156 - val_loss: 0.3438 - val_accuracy: 0.8375\n",
            "Epoch 34/100\n",
            "10/10 [==============================] - 0s 7ms/step - loss: 0.2296 - accuracy: 0.9156 - val_loss: 0.3436 - val_accuracy: 0.8375\n",
            "Epoch 35/100\n",
            "10/10 [==============================] - 0s 6ms/step - loss: 0.2335 - accuracy: 0.9187 - val_loss: 0.3451 - val_accuracy: 0.8375\n",
            "Epoch 36/100\n",
            "10/10 [==============================] - 0s 11ms/step - loss: 0.2263 - accuracy: 0.9187 - val_loss: 0.3457 - val_accuracy: 0.8375\n",
            "Epoch 37/100\n",
            "10/10 [==============================] - 0s 8ms/step - loss: 0.2297 - accuracy: 0.9187 - val_loss: 0.3446 - val_accuracy: 0.8375\n",
            "Epoch 38/100\n",
            "10/10 [==============================] - 0s 8ms/step - loss: 0.2299 - accuracy: 0.9187 - val_loss: 0.3448 - val_accuracy: 0.8375\n",
            "Epoch 39/100\n",
            "10/10 [==============================] - 0s 9ms/step - loss: 0.2251 - accuracy: 0.9187 - val_loss: 0.3454 - val_accuracy: 0.8375\n",
            "Epoch 40/100\n",
            "10/10 [==============================] - 0s 9ms/step - loss: 0.2229 - accuracy: 0.9219 - val_loss: 0.3469 - val_accuracy: 0.8375\n",
            "Epoch 41/100\n",
            "10/10 [==============================] - 0s 9ms/step - loss: 0.2218 - accuracy: 0.9250 - val_loss: 0.3485 - val_accuracy: 0.8375\n",
            "Epoch 42/100\n",
            "10/10 [==============================] - 0s 9ms/step - loss: 0.2246 - accuracy: 0.9250 - val_loss: 0.3502 - val_accuracy: 0.8375\n",
            "Epoch 43/100\n",
            "10/10 [==============================] - 0s 9ms/step - loss: 0.2215 - accuracy: 0.9156 - val_loss: 0.3518 - val_accuracy: 0.8375\n",
            "Epoch 44/100\n",
            "10/10 [==============================] - 0s 11ms/step - loss: 0.2168 - accuracy: 0.9187 - val_loss: 0.3514 - val_accuracy: 0.8375\n",
            "Epoch 45/100\n",
            "10/10 [==============================] - 0s 9ms/step - loss: 0.2218 - accuracy: 0.9187 - val_loss: 0.3523 - val_accuracy: 0.8375\n",
            "Epoch 46/100\n",
            "10/10 [==============================] - 0s 8ms/step - loss: 0.2203 - accuracy: 0.9219 - val_loss: 0.3527 - val_accuracy: 0.8375\n",
            "Epoch 47/100\n",
            "10/10 [==============================] - 0s 10ms/step - loss: 0.2228 - accuracy: 0.9219 - val_loss: 0.3522 - val_accuracy: 0.8375\n",
            "Epoch 48/100\n",
            "10/10 [==============================] - 0s 9ms/step - loss: 0.2181 - accuracy: 0.9281 - val_loss: 0.3535 - val_accuracy: 0.8500\n",
            "Epoch 49/100\n",
            "10/10 [==============================] - 0s 9ms/step - loss: 0.2260 - accuracy: 0.9219 - val_loss: 0.3543 - val_accuracy: 0.8500\n",
            "Epoch 50/100\n",
            "10/10 [==============================] - 0s 9ms/step - loss: 0.2205 - accuracy: 0.9187 - val_loss: 0.3549 - val_accuracy: 0.8375\n",
            "Epoch 51/100\n",
            "10/10 [==============================] - 0s 8ms/step - loss: 0.2167 - accuracy: 0.9187 - val_loss: 0.3556 - val_accuracy: 0.8500\n",
            "Epoch 52/100\n",
            "10/10 [==============================] - 0s 9ms/step - loss: 0.2184 - accuracy: 0.9250 - val_loss: 0.3567 - val_accuracy: 0.8500\n",
            "Epoch 53/100\n",
            "10/10 [==============================] - 0s 9ms/step - loss: 0.2151 - accuracy: 0.9281 - val_loss: 0.3572 - val_accuracy: 0.8500\n",
            "Epoch 54/100\n",
            "10/10 [==============================] - 0s 8ms/step - loss: 0.2214 - accuracy: 0.9250 - val_loss: 0.3571 - val_accuracy: 0.8375\n",
            "Epoch 55/100\n",
            "10/10 [==============================] - 0s 10ms/step - loss: 0.2181 - accuracy: 0.9187 - val_loss: 0.3590 - val_accuracy: 0.8500\n",
            "Epoch 56/100\n",
            "10/10 [==============================] - 0s 10ms/step - loss: 0.2193 - accuracy: 0.9156 - val_loss: 0.3587 - val_accuracy: 0.8500\n",
            "Epoch 57/100\n",
            "10/10 [==============================] - 0s 10ms/step - loss: 0.2183 - accuracy: 0.9219 - val_loss: 0.3603 - val_accuracy: 0.8500\n",
            "Epoch 58/100\n",
            "10/10 [==============================] - 0s 9ms/step - loss: 0.2178 - accuracy: 0.9219 - val_loss: 0.3580 - val_accuracy: 0.8375\n",
            "Epoch 59/100\n",
            "10/10 [==============================] - 0s 9ms/step - loss: 0.2169 - accuracy: 0.9250 - val_loss: 0.3603 - val_accuracy: 0.8375\n",
            "Epoch 60/100\n",
            "10/10 [==============================] - 0s 6ms/step - loss: 0.2117 - accuracy: 0.9219 - val_loss: 0.3594 - val_accuracy: 0.8375\n",
            "Epoch 61/100\n",
            "10/10 [==============================] - 0s 7ms/step - loss: 0.2113 - accuracy: 0.9250 - val_loss: 0.3600 - val_accuracy: 0.8500\n",
            "Epoch 62/100\n",
            "10/10 [==============================] - 0s 6ms/step - loss: 0.2175 - accuracy: 0.9219 - val_loss: 0.3619 - val_accuracy: 0.8500\n",
            "Epoch 63/100\n",
            "10/10 [==============================] - 0s 7ms/step - loss: 0.2135 - accuracy: 0.9219 - val_loss: 0.3630 - val_accuracy: 0.8500\n",
            "Epoch 64/100\n",
            "10/10 [==============================] - 0s 6ms/step - loss: 0.2168 - accuracy: 0.9219 - val_loss: 0.3644 - val_accuracy: 0.8500\n",
            "Epoch 65/100\n",
            "10/10 [==============================] - 0s 7ms/step - loss: 0.2173 - accuracy: 0.9250 - val_loss: 0.3632 - val_accuracy: 0.8500\n",
            "Epoch 66/100\n",
            "10/10 [==============================] - 0s 7ms/step - loss: 0.2178 - accuracy: 0.9250 - val_loss: 0.3649 - val_accuracy: 0.8500\n",
            "Epoch 67/100\n",
            "10/10 [==============================] - 0s 6ms/step - loss: 0.2105 - accuracy: 0.9250 - val_loss: 0.3627 - val_accuracy: 0.8500\n",
            "Epoch 68/100\n",
            "10/10 [==============================] - 0s 6ms/step - loss: 0.2108 - accuracy: 0.9250 - val_loss: 0.3632 - val_accuracy: 0.8500\n",
            "Epoch 69/100\n",
            "10/10 [==============================] - 0s 6ms/step - loss: 0.2158 - accuracy: 0.9219 - val_loss: 0.3631 - val_accuracy: 0.8500\n",
            "Epoch 70/100\n",
            "10/10 [==============================] - 0s 6ms/step - loss: 0.2145 - accuracy: 0.9250 - val_loss: 0.3640 - val_accuracy: 0.8375\n",
            "Epoch 71/100\n",
            "10/10 [==============================] - 0s 6ms/step - loss: 0.2157 - accuracy: 0.9281 - val_loss: 0.3651 - val_accuracy: 0.8500\n",
            "Epoch 72/100\n",
            "10/10 [==============================] - 0s 7ms/step - loss: 0.2125 - accuracy: 0.9312 - val_loss: 0.3641 - val_accuracy: 0.8500\n",
            "Epoch 73/100\n",
            "10/10 [==============================] - 0s 7ms/step - loss: 0.2108 - accuracy: 0.9250 - val_loss: 0.3647 - val_accuracy: 0.8625\n",
            "Epoch 74/100\n",
            "10/10 [==============================] - 0s 6ms/step - loss: 0.2110 - accuracy: 0.9250 - val_loss: 0.3665 - val_accuracy: 0.8500\n",
            "Epoch 75/100\n",
            "10/10 [==============================] - 0s 7ms/step - loss: 0.2122 - accuracy: 0.9281 - val_loss: 0.3659 - val_accuracy: 0.8500\n",
            "Epoch 76/100\n",
            "10/10 [==============================] - 0s 6ms/step - loss: 0.2109 - accuracy: 0.9312 - val_loss: 0.3667 - val_accuracy: 0.8625\n",
            "Epoch 77/100\n",
            "10/10 [==============================] - 0s 6ms/step - loss: 0.2126 - accuracy: 0.9344 - val_loss: 0.3653 - val_accuracy: 0.8625\n",
            "Epoch 78/100\n",
            "10/10 [==============================] - 0s 7ms/step - loss: 0.2121 - accuracy: 0.9250 - val_loss: 0.3658 - val_accuracy: 0.8625\n",
            "Epoch 79/100\n",
            "10/10 [==============================] - 0s 6ms/step - loss: 0.2089 - accuracy: 0.9281 - val_loss: 0.3670 - val_accuracy: 0.8625\n",
            "Epoch 80/100\n",
            "10/10 [==============================] - 0s 6ms/step - loss: 0.2082 - accuracy: 0.9219 - val_loss: 0.3666 - val_accuracy: 0.8625\n",
            "Epoch 81/100\n",
            "10/10 [==============================] - 0s 7ms/step - loss: 0.2078 - accuracy: 0.9250 - val_loss: 0.3667 - val_accuracy: 0.8625\n",
            "Epoch 82/100\n",
            "10/10 [==============================] - 0s 7ms/step - loss: 0.2057 - accuracy: 0.9344 - val_loss: 0.3670 - val_accuracy: 0.8625\n",
            "Epoch 83/100\n",
            "10/10 [==============================] - 0s 7ms/step - loss: 0.2065 - accuracy: 0.9281 - val_loss: 0.3653 - val_accuracy: 0.8625\n",
            "Epoch 84/100\n",
            "10/10 [==============================] - 0s 7ms/step - loss: 0.2089 - accuracy: 0.9281 - val_loss: 0.3661 - val_accuracy: 0.8625\n",
            "Epoch 85/100\n",
            "10/10 [==============================] - 0s 7ms/step - loss: 0.2093 - accuracy: 0.9250 - val_loss: 0.3687 - val_accuracy: 0.8625\n",
            "Epoch 86/100\n",
            "10/10 [==============================] - 0s 6ms/step - loss: 0.2062 - accuracy: 0.9312 - val_loss: 0.3661 - val_accuracy: 0.8625\n",
            "Epoch 87/100\n",
            "10/10 [==============================] - 0s 6ms/step - loss: 0.2070 - accuracy: 0.9250 - val_loss: 0.3684 - val_accuracy: 0.8625\n",
            "Epoch 88/100\n",
            "10/10 [==============================] - 0s 8ms/step - loss: 0.2093 - accuracy: 0.9312 - val_loss: 0.3702 - val_accuracy: 0.8625\n",
            "Epoch 89/100\n",
            "10/10 [==============================] - 0s 7ms/step - loss: 0.2071 - accuracy: 0.9250 - val_loss: 0.3697 - val_accuracy: 0.8625\n",
            "Epoch 90/100\n",
            "10/10 [==============================] - 0s 6ms/step - loss: 0.2086 - accuracy: 0.9281 - val_loss: 0.3695 - val_accuracy: 0.8625\n",
            "Epoch 91/100\n",
            "10/10 [==============================] - 0s 6ms/step - loss: 0.2106 - accuracy: 0.9375 - val_loss: 0.3700 - val_accuracy: 0.8625\n",
            "Epoch 92/100\n",
            "10/10 [==============================] - 0s 7ms/step - loss: 0.2047 - accuracy: 0.9250 - val_loss: 0.3704 - val_accuracy: 0.8625\n",
            "Epoch 93/100\n",
            "10/10 [==============================] - 0s 6ms/step - loss: 0.2098 - accuracy: 0.9250 - val_loss: 0.3712 - val_accuracy: 0.8750\n",
            "Epoch 94/100\n",
            "10/10 [==============================] - 0s 6ms/step - loss: 0.2098 - accuracy: 0.9281 - val_loss: 0.3704 - val_accuracy: 0.8625\n",
            "Epoch 95/100\n",
            "10/10 [==============================] - 0s 6ms/step - loss: 0.2067 - accuracy: 0.9312 - val_loss: 0.3699 - val_accuracy: 0.8625\n",
            "Epoch 96/100\n",
            "10/10 [==============================] - 0s 7ms/step - loss: 0.2080 - accuracy: 0.9281 - val_loss: 0.3699 - val_accuracy: 0.8625\n",
            "Epoch 97/100\n",
            "10/10 [==============================] - 0s 7ms/step - loss: 0.2079 - accuracy: 0.9312 - val_loss: 0.3685 - val_accuracy: 0.8625\n",
            "Epoch 98/100\n",
            "10/10 [==============================] - 0s 7ms/step - loss: 0.2091 - accuracy: 0.9250 - val_loss: 0.3679 - val_accuracy: 0.8625\n",
            "Epoch 99/100\n",
            "10/10 [==============================] - 0s 7ms/step - loss: 0.2093 - accuracy: 0.9250 - val_loss: 0.3697 - val_accuracy: 0.8625\n",
            "Epoch 100/100\n",
            "10/10 [==============================] - 0s 6ms/step - loss: 0.2108 - accuracy: 0.9250 - val_loss: 0.3680 - val_accuracy: 0.8625\n"
          ]
        }
      ],
      "source": [
        "model1 = Sequential()\n",
        "model1.add(Dense(128, activation = 'relu', input_dim=2))\n",
        "# model1.add(Dropout(0.1))\n",
        "model1.add(Dense(1, activation='sigmoid'))\n",
        "model1.compile(optimizer='adam', loss='binary_crossentropy', metrics=['accuracy'])\n",
        "history = model1.fit(x_train_scaled, y_train, validation_data=(x_test_scaled, y_test), epochs=100)"
      ]
    },
    {
      "cell_type": "code",
      "execution_count": null,
      "metadata": {
        "id": "1vJJkT3orDxI"
      },
      "outputs": [],
      "source": [
        "# accuracy: 0.9250 - val_loss: 0.3740 - val_accuracy: 0.8625"
      ]
    },
    {
      "cell_type": "code",
      "execution_count": 21,
      "metadata": {
        "colab": {
          "base_uri": "https://localhost:8080/",
          "height": 285
        },
        "id": "9z_vY0EYZypV",
        "outputId": "8e2b782a-a8bf-4a7b-bec9-5485a331fce5"
      },
      "outputs": [
        {
          "data": {
            "text/plain": [
              "[<matplotlib.lines.Line2D at 0x7f047f408220>]"
            ]
          },
          "execution_count": 21,
          "metadata": {},
          "output_type": "execute_result"
        },
        {
          "data": {
            "image/png": "[encoded data removed]",
            "text/plain": [
              "<Figure size 432x288 with 1 Axes>"
            ]
          },
          "metadata": {},
          "output_type": "display_data"
        }
      ],
      "source": [
        "plt.plot(history.history['val_accuracy'])"
      ]
    },
    {
      "cell_type": "code",
      "execution_count": 22,
      "metadata": {
        "colab": {
          "base_uri": "https://localhost:8080/",
          "height": 285
        },
        "id": "FltON-_SZysX",
        "outputId": "dbdf875b-4566-4c81-c124-41eab71dc174"
      },
      "outputs": [
        {
          "data": {
            "text/plain": [
              "[<matplotlib.lines.Line2D at 0x7f047f385d00>]"
            ]
          },
          "execution_count": 22,
          "metadata": {},
          "output_type": "execute_result"
        },
        {
          "data": {
            "image/png": "[encoded data removed]",
            "text/plain": [
              "<Figure size 432x288 with 1 Axes>"
            ]
          },
          "metadata": {},
          "output_type": "display_data"
        }
      ],
      "source": [
        "plt.plot(history.history['accuracy'])"
      ]
    }
  ],
  "metadata": {
    "accelerator": "GPU",
    "colab": {
      "provenance": []
    },
    "gpuClass": "standard",
    "kernelspec": {
      "display_name": "Python 3",
      "name": "python3"
    },
    "language_info": {
      "codemirror_mode": {
        "name": "ipython",
        "version": 3
      },
      "file_extension": ".py",
      "mimetype": "text/x-python",
      "name": "python",
      "nbconvert_exporter": "python",
      "pygments_lexer": "ipython3",
      "version": "3.9.16"
    }
  },
  "nbformat": 4,
  "nbformat_minor": 0
}
