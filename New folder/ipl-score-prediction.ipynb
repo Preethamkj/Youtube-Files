{
 "cells": [
  {
   "cell_type": "code",
   "execution_count": 1,
   "id": "6bfbcacb",
   "metadata": {
    "_cell_guid": "b1076dfc-b9ad-4769-8c92-a6c4dae69d19",
    "_uuid": "8f2839f25d086af736a60e9eeb907d3b93b6e0e5",
    "execution": {
     "iopub.execute_input": "2022-07-26T06:12:54.683681Z",
     "iopub.status.busy": "2022-07-26T06:12:54.682417Z",
     "iopub.status.idle": "2022-07-26T06:12:54.705460Z",
     "shell.execute_reply": "2022-07-26T06:12:54.704174Z"
    },
    "papermill": {
     "duration": 0.039729,
     "end_time": "2022-07-26T06:12:54.708371",
     "exception": false,
     "start_time": "2022-07-26T06:12:54.668642",
     "status": "completed"
    },
    "tags": []
   },
   "outputs": [],
   "source": [
    "import numpy as np\n",
    "import pandas as pd\n",
    "import os"
   ]
  },
  {
   "cell_type": "code",
   "execution_count": 2,
   "id": "0124e1a0",
   "metadata": {
    "execution": {
     "iopub.execute_input": "2022-07-26T06:12:54.732775Z",
     "iopub.status.busy": "2022-07-26T06:12:54.732357Z",
     "iopub.status.idle": "2022-07-26T06:12:55.822228Z",
     "shell.execute_reply": "2022-07-26T06:12:55.820987Z"
    },
    "papermill": {
     "duration": 1.10501,
     "end_time": "2022-07-26T06:12:55.825011",
     "exception": false,
     "start_time": "2022-07-26T06:12:54.720001",
     "status": "completed"
    },
    "tags": []
   },
   "outputs": [],
   "source": [
    "import matplotlib.pyplot as plt\n",
    "import seaborn as sns\n",
    "from datetime import datetime"
   ]
  },
  {
   "cell_type": "code",
   "execution_count": 3,
   "id": "e9018d40",
   "metadata": {
    "execution": {
     "iopub.execute_input": "2022-07-26T06:12:55.848983Z",
     "iopub.status.busy": "2022-07-26T06:12:55.848541Z",
     "iopub.status.idle": "2022-07-26T06:12:56.157847Z",
     "shell.execute_reply": "2022-07-26T06:12:56.156979Z"
    },
    "papermill": {
     "duration": 0.323923,
     "end_time": "2022-07-26T06:12:56.160127",
     "exception": false,
     "start_time": "2022-07-26T06:12:55.836204",
     "status": "completed"
    },
    "tags": []
   },
   "outputs": [
    {
     "data": {
      "text/html": [
       "<div>\n",
       "<style scoped>\n",
       "    .dataframe tbody tr th:only-of-type {\n",
       "        vertical-align: middle;\n",
       "    }\n",
       "\n",
       "    .dataframe tbody tr th {\n",
       "        vertical-align: top;\n",
       "    }\n",
       "\n",
       "    .dataframe thead th {\n",
       "        text-align: right;\n",
       "    }\n",
       "</style>\n",
       "<table border=\"1\" class=\"dataframe\">\n",
       "  <thead>\n",
       "    <tr style=\"text-align: right;\">\n",
       "      <th></th>\n",
       "      <th>mid</th>\n",
       "      <th>date</th>\n",
       "      <th>venue</th>\n",
       "      <th>bat_team</th>\n",
       "      <th>bowl_team</th>\n",
       "      <th>batsman</th>\n",
       "      <th>bowler</th>\n",
       "      <th>runs</th>\n",
       "      <th>wickets</th>\n",
       "      <th>overs</th>\n",
       "      <th>runs_last_5</th>\n",
       "      <th>wickets_last_5</th>\n",
       "      <th>striker</th>\n",
       "      <th>non-striker</th>\n",
       "      <th>total</th>\n",
       "    </tr>\n",
       "  </thead>\n",
       "  <tbody>\n",
       "    <tr>\n",
       "      <th>0</th>\n",
       "      <td>1</td>\n",
       "      <td>2008-04-18</td>\n",
       "      <td>M Chinnaswamy Stadium</td>\n",
       "      <td>Kolkata Knight Riders</td>\n",
       "      <td>Royal Challengers Bangalore</td>\n",
       "      <td>SC Ganguly</td>\n",
       "      <td>P Kumar</td>\n",
       "      <td>1</td>\n",
       "      <td>0</td>\n",
       "      <td>0.1</td>\n",
       "      <td>1</td>\n",
       "      <td>0</td>\n",
       "      <td>0</td>\n",
       "      <td>0</td>\n",
       "      <td>222</td>\n",
       "    </tr>\n",
       "    <tr>\n",
       "      <th>1</th>\n",
       "      <td>1</td>\n",
       "      <td>2008-04-18</td>\n",
       "      <td>M Chinnaswamy Stadium</td>\n",
       "      <td>Kolkata Knight Riders</td>\n",
       "      <td>Royal Challengers Bangalore</td>\n",
       "      <td>BB McCullum</td>\n",
       "      <td>P Kumar</td>\n",
       "      <td>1</td>\n",
       "      <td>0</td>\n",
       "      <td>0.2</td>\n",
       "      <td>1</td>\n",
       "      <td>0</td>\n",
       "      <td>0</td>\n",
       "      <td>0</td>\n",
       "      <td>222</td>\n",
       "    </tr>\n",
       "    <tr>\n",
       "      <th>2</th>\n",
       "      <td>1</td>\n",
       "      <td>2008-04-18</td>\n",
       "      <td>M Chinnaswamy Stadium</td>\n",
       "      <td>Kolkata Knight Riders</td>\n",
       "      <td>Royal Challengers Bangalore</td>\n",
       "      <td>BB McCullum</td>\n",
       "      <td>P Kumar</td>\n",
       "      <td>2</td>\n",
       "      <td>0</td>\n",
       "      <td>0.2</td>\n",
       "      <td>2</td>\n",
       "      <td>0</td>\n",
       "      <td>0</td>\n",
       "      <td>0</td>\n",
       "      <td>222</td>\n",
       "    </tr>\n",
       "    <tr>\n",
       "      <th>3</th>\n",
       "      <td>1</td>\n",
       "      <td>2008-04-18</td>\n",
       "      <td>M Chinnaswamy Stadium</td>\n",
       "      <td>Kolkata Knight Riders</td>\n",
       "      <td>Royal Challengers Bangalore</td>\n",
       "      <td>BB McCullum</td>\n",
       "      <td>P Kumar</td>\n",
       "      <td>2</td>\n",
       "      <td>0</td>\n",
       "      <td>0.3</td>\n",
       "      <td>2</td>\n",
       "      <td>0</td>\n",
       "      <td>0</td>\n",
       "      <td>0</td>\n",
       "      <td>222</td>\n",
       "    </tr>\n",
       "    <tr>\n",
       "      <th>4</th>\n",
       "      <td>1</td>\n",
       "      <td>2008-04-18</td>\n",
       "      <td>M Chinnaswamy Stadium</td>\n",
       "      <td>Kolkata Knight Riders</td>\n",
       "      <td>Royal Challengers Bangalore</td>\n",
       "      <td>BB McCullum</td>\n",
       "      <td>P Kumar</td>\n",
       "      <td>2</td>\n",
       "      <td>0</td>\n",
       "      <td>0.4</td>\n",
       "      <td>2</td>\n",
       "      <td>0</td>\n",
       "      <td>0</td>\n",
       "      <td>0</td>\n",
       "      <td>222</td>\n",
       "    </tr>\n",
       "  </tbody>\n",
       "</table>\n",
       "</div>"
      ],
      "text/plain": [
       "   mid        date                  venue               bat_team  \\\n",
       "0    1  2008-04-18  M Chinnaswamy Stadium  Kolkata Knight Riders   \n",
       "1    1  2008-04-18  M Chinnaswamy Stadium  Kolkata Knight Riders   \n",
       "2    1  2008-04-18  M Chinnaswamy Stadium  Kolkata Knight Riders   \n",
       "3    1  2008-04-18  M Chinnaswamy Stadium  Kolkata Knight Riders   \n",
       "4    1  2008-04-18  M Chinnaswamy Stadium  Kolkata Knight Riders   \n",
       "\n",
       "                     bowl_team      batsman   bowler  runs  wickets  overs  \\\n",
       "0  Royal Challengers Bangalore   SC Ganguly  P Kumar     1        0    0.1   \n",
       "1  Royal Challengers Bangalore  BB McCullum  P Kumar     1        0    0.2   \n",
       "2  Royal Challengers Bangalore  BB McCullum  P Kumar     2        0    0.2   \n",
       "3  Royal Challengers Bangalore  BB McCullum  P Kumar     2        0    0.3   \n",
       "4  Royal Challengers Bangalore  BB McCullum  P Kumar     2        0    0.4   \n",
       "\n",
       "   runs_last_5  wickets_last_5  striker  non-striker  total  \n",
       "0            1               0        0            0    222  \n",
       "1            1               0        0            0    222  \n",
       "2            2               0        0            0    222  \n",
       "3            2               0        0            0    222  \n",
       "4            2               0        0            0    222  "
      ]
     },
     "execution_count": 3,
     "metadata": {},
     "output_type": "execute_result"
    }
   ],
   "source": [
    "df = pd.read_csv(\"ipl_all_seasons_dataset_assembled.csv\")\n",
    "df.head()"
   ]
  },
  {
   "cell_type": "code",
   "execution_count": 4,
   "id": "84e6831e",
   "metadata": {
    "execution": {
     "iopub.execute_input": "2022-07-26T06:12:56.186545Z",
     "iopub.status.busy": "2022-07-26T06:12:56.185688Z",
     "iopub.status.idle": "2022-07-26T06:12:56.192524Z",
     "shell.execute_reply": "2022-07-26T06:12:56.191563Z"
    },
    "papermill": {
     "duration": 0.022541,
     "end_time": "2022-07-26T06:12:56.194839",
     "exception": false,
     "start_time": "2022-07-26T06:12:56.172298",
     "status": "completed"
    },
    "tags": []
   },
   "outputs": [
    {
     "data": {
      "text/plain": [
       "(76014, 15)"
      ]
     },
     "execution_count": 4,
     "metadata": {},
     "output_type": "execute_result"
    }
   ],
   "source": [
    "df.shape"
   ]
  },
  {
   "cell_type": "code",
   "execution_count": 5,
   "id": "f04053fa",
   "metadata": {},
   "outputs": [
    {
     "name": "stdout",
     "output_type": "stream",
     "text": [
      "<class 'pandas.core.frame.DataFrame'>\n",
      "RangeIndex: 76014 entries, 0 to 76013\n",
      "Data columns (total 15 columns):\n",
      " #   Column          Non-Null Count  Dtype  \n",
      "---  ------          --------------  -----  \n",
      " 0   mid             76014 non-null  int64  \n",
      " 1   date            76014 non-null  object \n",
      " 2   venue           76014 non-null  object \n",
      " 3   bat_team        76014 non-null  object \n",
      " 4   bowl_team       76014 non-null  object \n",
      " 5   batsman         76014 non-null  object \n",
      " 6   bowler          76014 non-null  object \n",
      " 7   runs            76014 non-null  int64  \n",
      " 8   wickets         76014 non-null  int64  \n",
      " 9   overs           76014 non-null  float64\n",
      " 10  runs_last_5     76014 non-null  int64  \n",
      " 11  wickets_last_5  76014 non-null  int64  \n",
      " 12  striker         76014 non-null  int64  \n",
      " 13  non-striker     76014 non-null  int64  \n",
      " 14  total           76014 non-null  int64  \n",
      "dtypes: float64(1), int64(8), object(6)\n",
      "memory usage: 8.7+ MB\n"
     ]
    }
   ],
   "source": [
    "df.info()"
   ]
  },
  {
   "cell_type": "code",
   "execution_count": 6,
   "id": "2456b6c9",
   "metadata": {
    "execution": {
     "iopub.execute_input": "2022-07-26T06:12:56.256740Z",
     "iopub.status.busy": "2022-07-26T06:12:56.255947Z",
     "iopub.status.idle": "2022-07-26T06:12:56.272122Z",
     "shell.execute_reply": "2022-07-26T06:12:56.270798Z"
    },
    "papermill": {
     "duration": 0.032169,
     "end_time": "2022-07-26T06:12:56.275167",
     "exception": false,
     "start_time": "2022-07-26T06:12:56.242998",
     "status": "completed"
    },
    "tags": []
   },
   "outputs": [
    {
     "name": "stdout",
     "output_type": "stream",
     "text": [
      "Before removing unwanted columns: (76014, 15)\n",
      "After removing unwanted columns: (76014, 9)\n"
     ]
    }
   ],
   "source": [
    "unwanted_cols = ['mid', 'venue', 'batsman', 'bowler', 'striker', 'non-striker']\n",
    "print('Before removing unwanted columns: {}'.format(df.shape))\n",
    "df.drop(labels=unwanted_cols, axis=1, inplace=True)\n",
    "print('After removing unwanted columns: {}'.format(df.shape))"
   ]
  },
  {
   "cell_type": "code",
   "execution_count": 7,
   "id": "11117175",
   "metadata": {
    "execution": {
     "iopub.execute_input": "2022-07-26T06:12:56.301480Z",
     "iopub.status.busy": "2022-07-26T06:12:56.300586Z",
     "iopub.status.idle": "2022-07-26T06:12:56.317760Z",
     "shell.execute_reply": "2022-07-26T06:12:56.316834Z"
    },
    "papermill": {
     "duration": 0.032596,
     "end_time": "2022-07-26T06:12:56.319992",
     "exception": false,
     "start_time": "2022-07-26T06:12:56.287396",
     "status": "completed"
    },
    "tags": []
   },
   "outputs": [
    {
     "data": {
      "text/plain": [
       "array(['Kolkata Knight Riders', 'Chennai Super Kings', 'Rajasthan Royals',\n",
       "       'Mumbai Indians', 'Deccan Chargers', 'Kings XI Punjab',\n",
       "       'Royal Challengers Bangalore', 'Delhi Daredevils',\n",
       "       'Kochi Tuskers Kerala', 'Pune Warriors', 'Sunrisers Hyderabad',\n",
       "       'Rising Pune Supergiants', 'Gujarat Lions',\n",
       "       'Rising Pune Supergiant'], dtype=object)"
      ]
     },
     "execution_count": 7,
     "metadata": {},
     "output_type": "execute_result"
    }
   ],
   "source": [
    "df['bat_team'].unique()"
   ]
  },
  {
   "cell_type": "code",
   "execution_count": 8,
   "id": "572e1ce7",
   "metadata": {
    "execution": {
     "iopub.execute_input": "2022-07-26T06:12:56.345741Z",
     "iopub.status.busy": "2022-07-26T06:12:56.345340Z",
     "iopub.status.idle": "2022-07-26T06:12:56.350232Z",
     "shell.execute_reply": "2022-07-26T06:12:56.349058Z"
    },
    "papermill": {
     "duration": 0.020772,
     "end_time": "2022-07-26T06:12:56.352530",
     "exception": false,
     "start_time": "2022-07-26T06:12:56.331758",
     "status": "completed"
    },
    "tags": []
   },
   "outputs": [],
   "source": [
    "Latest_Teams = ['Kolkata Knight Riders', 'Chennai Super Kings', 'Rajasthan Royals',\n",
    "                    'Mumbai Indians', 'Kings XI Punjab', 'Royal Challengers Bangalore',\n",
    "                    'Delhi Daredevils', 'Sunrisers Hyderabad']"
   ]
  },
  {
   "cell_type": "code",
   "execution_count": 9,
   "id": "9617b1af",
   "metadata": {
    "execution": {
     "iopub.execute_input": "2022-07-26T06:12:56.378862Z",
     "iopub.status.busy": "2022-07-26T06:12:56.378082Z",
     "iopub.status.idle": "2022-07-26T06:12:56.402222Z",
     "shell.execute_reply": "2022-07-26T06:12:56.400647Z"
    },
    "papermill": {
     "duration": 0.04022,
     "end_time": "2022-07-26T06:12:56.404947",
     "exception": false,
     "start_time": "2022-07-26T06:12:56.364727",
     "status": "completed"
    },
    "tags": []
   },
   "outputs": [
    {
     "name": "stdout",
     "output_type": "stream",
     "text": [
      "Before removing inconsistent teams: (76014, 9)\n",
      "After removing inconsistent teams: (53811, 9)\n"
     ]
    }
   ],
   "source": [
    "print('Before removing inconsistent teams: {}'.format(df.shape))\n",
    "df = df[(df['bat_team'].isin(Latest_Teams)) & (df['bowl_team'].isin(Latest_Teams))]\n",
    "print('After removing inconsistent teams: {}'.format(df.shape))"
   ]
  },
  {
   "cell_type": "code",
   "execution_count": 10,
   "id": "9cac1437",
   "metadata": {
    "execution": {
     "iopub.execute_input": "2022-07-26T06:12:56.431270Z",
     "iopub.status.busy": "2022-07-26T06:12:56.430891Z",
     "iopub.status.idle": "2022-07-26T06:12:56.443027Z",
     "shell.execute_reply": "2022-07-26T06:12:56.442058Z"
    },
    "papermill": {
     "duration": 0.02765,
     "end_time": "2022-07-26T06:12:56.445268",
     "exception": false,
     "start_time": "2022-07-26T06:12:56.417618",
     "status": "completed"
    },
    "tags": []
   },
   "outputs": [
    {
     "data": {
      "text/plain": [
       "array(['Kolkata Knight Riders', 'Chennai Super Kings', 'Rajasthan Royals',\n",
       "       'Mumbai Indians', 'Kings XI Punjab', 'Royal Challengers Bangalore',\n",
       "       'Delhi Daredevils', 'Sunrisers Hyderabad'], dtype=object)"
      ]
     },
     "execution_count": 10,
     "metadata": {},
     "output_type": "execute_result"
    }
   ],
   "source": [
    "df['bat_team'].unique()"
   ]
  },
  {
   "cell_type": "code",
   "execution_count": null,
   "id": "7287ed7d",
   "metadata": {
    "execution": {
     "iopub.execute_input": "2022-07-26T06:12:56.471878Z",
     "iopub.status.busy": "2022-07-26T06:12:56.471073Z",
     "iopub.status.idle": "2022-07-26T06:12:56.481931Z",
     "shell.execute_reply": "2022-07-26T06:12:56.480297Z"
    },
    "papermill": {
     "duration": 0.027655,
     "end_time": "2022-07-26T06:12:56.485139",
     "exception": false,
     "start_time": "2022-07-26T06:12:56.457484",
     "status": "completed"
    },
    "tags": []
   },
   "outputs": [],
   "source": [
    "#print('Before removing first 5 overs data: {}'.format(df.shape))\n",
    "#df = df[df['overs']>=5.0]\n",
    "#print('After removing first 5 overs data: {}'.format(df.shape))"
   ]
  },
  {
   "cell_type": "code",
   "execution_count": 11,
   "id": "201551ad",
   "metadata": {
    "execution": {
     "iopub.execute_input": "2022-07-26T06:12:56.512551Z",
     "iopub.status.busy": "2022-07-26T06:12:56.511743Z",
     "iopub.status.idle": "2022-07-26T06:12:57.033490Z",
     "shell.execute_reply": "2022-07-26T06:12:57.032022Z"
    },
    "papermill": {
     "duration": 0.538066,
     "end_time": "2022-07-26T06:12:57.036085",
     "exception": false,
     "start_time": "2022-07-26T06:12:56.498019",
     "status": "completed"
    },
    "tags": []
   },
   "outputs": [],
   "source": [
    "#Convert date column  to datetime format\n",
    "df['date'] = df['date'].apply(lambda x: datetime.strptime(x, '%Y-%m-%d'))\n"
   ]
  },
  {
   "cell_type": "code",
   "execution_count": 12,
   "id": "df91584c",
   "metadata": {
    "execution": {
     "iopub.execute_input": "2022-07-26T06:12:57.063366Z",
     "iopub.status.busy": "2022-07-26T06:12:57.062770Z",
     "iopub.status.idle": "2022-07-26T06:12:57.504383Z",
     "shell.execute_reply": "2022-07-26T06:12:57.503562Z"
    },
    "papermill": {
     "duration": 0.458321,
     "end_time": "2022-07-26T06:12:57.506804",
     "exception": false,
     "start_time": "2022-07-26T06:12:57.048483",
     "status": "completed"
    },
    "tags": []
   },
   "outputs": [
    {
     "name": "stderr",
     "output_type": "stream",
     "text": [
      "C:\\Users\\preet\\AppData\\Local\\Temp\\ipykernel_5392\\4008440127.py:1: FutureWarning: The default value of numeric_only in DataFrame.corr is deprecated. In a future version, it will default to False. Select only valid columns or specify the value of numeric_only to silence this warning.\n",
      "  corr_matrix = df.corr()\n"
     ]
    },
    {
     "data": {
      "image/png": "[encoded data removed]",
      "text/plain": [
       "<Figure size 1300x1000 with 2 Axes>"
      ]
     },
     "metadata": {},
     "output_type": "display_data"
    }
   ],
   "source": [
    "corr_matrix = df.corr()\n",
    "top_corr_features = corr_matrix.index\n",
    "plt.figure(figsize=(13,10))\n",
    "g = sns.heatmap(data=df[top_corr_features].corr(), annot=True, cmap='Spectral')"
   ]
  },
  {
   "cell_type": "code",
   "execution_count": 13,
   "id": "06b3241a",
   "metadata": {
    "execution": {
     "iopub.execute_input": "2022-07-26T06:12:57.535566Z",
     "iopub.status.busy": "2022-07-26T06:12:57.534250Z",
     "iopub.status.idle": "2022-07-26T06:12:57.562398Z",
     "shell.execute_reply": "2022-07-26T06:12:57.561165Z"
    },
    "papermill": {
     "duration": 0.045478,
     "end_time": "2022-07-26T06:12:57.565323",
     "exception": false,
     "start_time": "2022-07-26T06:12:57.519845",
     "status": "completed"
    },
    "tags": []
   },
   "outputs": [
    {
     "data": {
      "text/plain": [
       "Index(['date', 'runs', 'wickets', 'overs', 'runs_last_5', 'wickets_last_5',\n",
       "       'total', 'bat_team_Chennai Super Kings', 'bat_team_Delhi Daredevils',\n",
       "       'bat_team_Kings XI Punjab', 'bat_team_Kolkata Knight Riders',\n",
       "       'bat_team_Mumbai Indians', 'bat_team_Rajasthan Royals',\n",
       "       'bat_team_Royal Challengers Bangalore', 'bat_team_Sunrisers Hyderabad',\n",
       "       'bowl_team_Chennai Super Kings', 'bowl_team_Delhi Daredevils',\n",
       "       'bowl_team_Kings XI Punjab', 'bowl_team_Kolkata Knight Riders',\n",
       "       'bowl_team_Mumbai Indians', 'bowl_team_Rajasthan Royals',\n",
       "       'bowl_team_Royal Challengers Bangalore',\n",
       "       'bowl_team_Sunrisers Hyderabad'],\n",
       "      dtype='object')"
      ]
     },
     "execution_count": 13,
     "metadata": {},
     "output_type": "execute_result"
    }
   ],
   "source": [
    "encoded_df = pd.get_dummies(data=df, columns=['bat_team', 'bowl_team'])\n",
    "encoded_df.columns"
   ]
  },
  {
   "cell_type": "code",
   "execution_count": 14,
   "id": "e038fd2a",
   "metadata": {
    "execution": {
     "iopub.execute_input": "2022-07-26T06:12:57.593155Z",
     "iopub.status.busy": "2022-07-26T06:12:57.592761Z",
     "iopub.status.idle": "2022-07-26T06:12:57.602721Z",
     "shell.execute_reply": "2022-07-26T06:12:57.601836Z"
    },
    "papermill": {
     "duration": 0.026647,
     "end_time": "2022-07-26T06:12:57.605056",
     "exception": false,
     "start_time": "2022-07-26T06:12:57.578409",
     "status": "completed"
    },
    "tags": []
   },
   "outputs": [],
   "source": [
    "encoded_df = encoded_df[['date', 'bat_team_Chennai Super Kings', 'bat_team_Delhi Daredevils', 'bat_team_Kings XI Punjab',\n",
    "              'bat_team_Kolkata Knight Riders', 'bat_team_Mumbai Indians', 'bat_team_Rajasthan Royals',\n",
    "              'bat_team_Royal Challengers Bangalore', 'bat_team_Sunrisers Hyderabad',\n",
    "              'bowl_team_Chennai Super Kings', 'bowl_team_Delhi Daredevils', 'bowl_team_Kings XI Punjab',\n",
    "              'bowl_team_Kolkata Knight Riders', 'bowl_team_Mumbai Indians', 'bowl_team_Rajasthan Royals',\n",
    "              'bowl_team_Royal Challengers Bangalore', 'bowl_team_Sunrisers Hyderabad',\n",
    "              'overs', 'runs', 'wickets', 'runs_last_5', 'wickets_last_5', 'total']]"
   ]
  },
  {
   "cell_type": "markdown",
   "id": "3e52a0b4",
   "metadata": {},
   "source": [
    "### Splitting into Train and Test"
   ]
  },
  {
   "cell_type": "code",
   "execution_count": 15,
   "id": "bf6c316a",
   "metadata": {
    "execution": {
     "iopub.execute_input": "2022-07-26T06:12:57.633455Z",
     "iopub.status.busy": "2022-07-26T06:12:57.632720Z",
     "iopub.status.idle": "2022-07-26T06:12:57.679368Z",
     "shell.execute_reply": "2022-07-26T06:12:57.677673Z"
    },
    "papermill": {
     "duration": 0.063808,
     "end_time": "2022-07-26T06:12:57.682072",
     "exception": false,
     "start_time": "2022-07-26T06:12:57.618264",
     "status": "completed"
    },
    "tags": []
   },
   "outputs": [
    {
     "name": "stdout",
     "output_type": "stream",
     "text": [
      "Training set: (50089, 21) and Test set: (3722, 21)\n"
     ]
    }
   ],
   "source": [
    "X_train = encoded_df.drop(labels='total', axis=1)[encoded_df['date'].dt.year <= 2016]\n",
    "X_test = encoded_df.drop(labels='total', axis=1)[encoded_df['date'].dt.year >= 2017]\n",
    "y_train = encoded_df[encoded_df['date'].dt.year <= 2016]['total'].values\n",
    "y_test = encoded_df[encoded_df['date'].dt.year >= 2017]['total'].values\n",
    "X_train.drop(labels='date', axis=True, inplace=True)\n",
    "X_test.drop(labels='date', axis=True, inplace=True)\n",
    "print(\"Training set: {} and Test set: {}\".format(X_train.shape, X_test.shape))"
   ]
  },
  {
   "cell_type": "code",
   "execution_count": 16,
   "id": "7a83dfc8",
   "metadata": {
    "execution": {
     "iopub.execute_input": "2022-07-26T06:12:57.710733Z",
     "iopub.status.busy": "2022-07-26T06:12:57.709547Z",
     "iopub.status.idle": "2022-07-26T06:12:58.019783Z",
     "shell.execute_reply": "2022-07-26T06:12:58.018256Z"
    },
    "papermill": {
     "duration": 0.328518,
     "end_time": "2022-07-26T06:12:58.023761",
     "exception": false,
     "start_time": "2022-07-26T06:12:57.695243",
     "status": "completed"
    },
    "tags": []
   },
   "outputs": [
    {
     "data": {
      "text/html": [
       "<style>#sk-container-id-1 {color: black;background-color: white;}#sk-container-id-1 pre{padding: 0;}#sk-container-id-1 div.sk-toggleable {background-color: white;}#sk-container-id-1 label.sk-toggleable__label {cursor: pointer;display: block;width: 100%;margin-bottom: 0;padding: 0.3em;box-sizing: border-box;text-align: center;}#sk-container-id-1 label.sk-toggleable__label-arrow:before {content: \"▸\";float: left;margin-right: 0.25em;color: #696969;}#sk-container-id-1 label.sk-toggleable__label-arrow:hover:before {color: black;}#sk-container-id-1 div.sk-estimator:hover label.sk-toggleable__label-arrow:before {color: black;}#sk-container-id-1 div.sk-toggleable__content {max-height: 0;max-width: 0;overflow: hidden;text-align: left;background-color: #f0f8ff;}#sk-container-id-1 div.sk-toggleable__content pre {margin: 0.2em;color: black;border-radius: 0.25em;background-color: #f0f8ff;}#sk-container-id-1 input.sk-toggleable__control:checked~div.sk-toggleable__content {max-height: 200px;max-width: 100%;overflow: auto;}#sk-container-id-1 input.sk-toggleable__control:checked~label.sk-toggleable__label-arrow:before {content: \"▾\";}#sk-container-id-1 div.sk-estimator input.sk-toggleable__control:checked~label.sk-toggleable__label {background-color: #d4ebff;}#sk-container-id-1 div.sk-label input.sk-toggleable__control:checked~label.sk-toggleable__label {background-color: #d4ebff;}#sk-container-id-1 input.sk-hidden--visually {border: 0;clip: rect(1px 1px 1px 1px);clip: rect(1px, 1px, 1px, 1px);height: 1px;margin: -1px;overflow: hidden;padding: 0;position: absolute;width: 1px;}#sk-container-id-1 div.sk-estimator {font-family: monospace;background-color: #f0f8ff;border: 1px dotted black;border-radius: 0.25em;box-sizing: border-box;margin-bottom: 0.5em;}#sk-container-id-1 div.sk-estimator:hover {background-color: #d4ebff;}#sk-container-id-1 div.sk-parallel-item::after {content: \"\";width: 100%;border-bottom: 1px solid gray;flex-grow: 1;}#sk-container-id-1 div.sk-label:hover label.sk-toggleable__label {background-color: #d4ebff;}#sk-container-id-1 div.sk-serial::before {content: \"\";position: absolute;border-left: 1px solid gray;box-sizing: border-box;top: 0;bottom: 0;left: 50%;z-index: 0;}#sk-container-id-1 div.sk-serial {display: flex;flex-direction: column;align-items: center;background-color: white;padding-right: 0.2em;padding-left: 0.2em;position: relative;}#sk-container-id-1 div.sk-item {position: relative;z-index: 1;}#sk-container-id-1 div.sk-parallel {display: flex;align-items: stretch;justify-content: center;background-color: white;position: relative;}#sk-container-id-1 div.sk-item::before, #sk-container-id-1 div.sk-parallel-item::before {content: \"\";position: absolute;border-left: 1px solid gray;box-sizing: border-box;top: 0;bottom: 0;left: 50%;z-index: -1;}#sk-container-id-1 div.sk-parallel-item {display: flex;flex-direction: column;z-index: 1;position: relative;background-color: white;}#sk-container-id-1 div.sk-parallel-item:first-child::after {align-self: flex-end;width: 50%;}#sk-container-id-1 div.sk-parallel-item:last-child::after {align-self: flex-start;width: 50%;}#sk-container-id-1 div.sk-parallel-item:only-child::after {width: 0;}#sk-container-id-1 div.sk-dashed-wrapped {border: 1px dashed gray;margin: 0 0.4em 0.5em 0.4em;box-sizing: border-box;padding-bottom: 0.4em;background-color: white;}#sk-container-id-1 div.sk-label label {font-family: monospace;font-weight: bold;display: inline-block;line-height: 1.2em;}#sk-container-id-1 div.sk-label-container {text-align: center;}#sk-container-id-1 div.sk-container {/* jupyter's `normalize.less` sets `[hidden] { display: none; }` but bootstrap.min.css set `[hidden] { display: none !important; }` so we also need the `!important` here to be able to override the default hidden behavior on the sphinx rendered scikit-learn.org. See: https://github.com/scikit-learn/scikit-learn/issues/21755 */display: inline-block !important;position: relative;}#sk-container-id-1 div.sk-text-repr-fallback {display: none;}</style><div id=\"sk-container-id-1\" class=\"sk-top-container\"><div class=\"sk-text-repr-fallback\"><pre>LinearRegression()</pre><b>In a Jupyter environment, please rerun this cell to show the HTML representation or trust the notebook. <br />On GitHub, the HTML representation is unable to render, please try loading this page with nbviewer.org.</b></div><div class=\"sk-container\" hidden><div class=\"sk-item\"><div class=\"sk-estimator sk-toggleable\"><input class=\"sk-toggleable__control sk-hidden--visually\" id=\"sk-estimator-id-1\" type=\"checkbox\" checked><label for=\"sk-estimator-id-1\" class=\"sk-toggleable__label sk-toggleable__label-arrow\">LinearRegression</label><div class=\"sk-toggleable__content\"><pre>LinearRegression()</pre></div></div></div></div></div>"
      ],
      "text/plain": [
       "LinearRegression()"
      ]
     },
     "execution_count": 16,
     "metadata": {},
     "output_type": "execute_result"
    }
   ],
   "source": [
    "from sklearn.linear_model import LinearRegression\n",
    "linear_regressor = LinearRegression()\n",
    "linear_regressor.fit(X_train,y_train)"
   ]
  },
  {
   "cell_type": "code",
   "execution_count": 17,
   "id": "8b4d76fc",
   "metadata": {
    "execution": {
     "iopub.execute_input": "2022-07-26T06:12:58.079182Z",
     "iopub.status.busy": "2022-07-26T06:12:58.077725Z",
     "iopub.status.idle": "2022-07-26T06:12:58.108046Z",
     "shell.execute_reply": "2022-07-26T06:12:58.105580Z"
    },
    "papermill": {
     "duration": 0.06679,
     "end_time": "2022-07-26T06:12:58.116015",
     "exception": false,
     "start_time": "2022-07-26T06:12:58.049225",
     "status": "completed"
    },
    "tags": []
   },
   "outputs": [],
   "source": [
    "y_pred_lr = linear_regressor.predict(X_test)"
   ]
  },
  {
   "cell_type": "code",
   "execution_count": 18,
   "id": "ead15cad",
   "metadata": {
    "execution": {
     "iopub.execute_input": "2022-07-26T06:12:58.176663Z",
     "iopub.status.busy": "2022-07-26T06:12:58.176044Z",
     "iopub.status.idle": "2022-07-26T06:12:58.190058Z",
     "shell.execute_reply": "2022-07-26T06:12:58.188815Z"
    },
    "papermill": {
     "duration": 0.048319,
     "end_time": "2022-07-26T06:12:58.196859",
     "exception": false,
     "start_time": "2022-07-26T06:12:58.148540",
     "status": "completed"
    },
    "tags": []
   },
   "outputs": [
    {
     "name": "stdout",
     "output_type": "stream",
     "text": [
      "---- Linear Regression - Model Evaluation ----\n",
      "Mean Absolute Error (MAE): 14.847521913621708\n",
      "Mean Squared Error (MSE): 402.53879997462496\n",
      "Root Mean Squared Error (RMSE): 20.063369606689324\n"
     ]
    }
   ],
   "source": [
    "from sklearn.metrics import mean_absolute_error as mae, mean_squared_error as mse, accuracy_score\n",
    "print(\"---- Linear Regression - Model Evaluation ----\")\n",
    "print(\"Mean Absolute Error (MAE): {}\".format(mae(y_test, y_pred_lr)))\n",
    "print(\"Mean Squared Error (MSE): {}\".format(mse(y_test, y_pred_lr)))\n",
    "print(\"Root Mean Squared Error (RMSE): {}\".format(np.sqrt(mse(y_test, y_pred_lr))))"
   ]
  },
  {
   "cell_type": "code",
   "execution_count": 19,
   "id": "03f3041a",
   "metadata": {
    "execution": {
     "iopub.execute_input": "2022-07-26T06:12:58.232138Z",
     "iopub.status.busy": "2022-07-26T06:12:58.231756Z",
     "iopub.status.idle": "2022-07-26T06:12:58.484154Z",
     "shell.execute_reply": "2022-07-26T06:12:58.483133Z"
    },
    "papermill": {
     "duration": 0.269616,
     "end_time": "2022-07-26T06:12:58.486659",
     "exception": false,
     "start_time": "2022-07-26T06:12:58.217043",
     "status": "completed"
    },
    "tags": []
   },
   "outputs": [
    {
     "data": {
      "text/html": [
       "<style>#sk-container-id-2 {color: black;background-color: white;}#sk-container-id-2 pre{padding: 0;}#sk-container-id-2 div.sk-toggleable {background-color: white;}#sk-container-id-2 label.sk-toggleable__label {cursor: pointer;display: block;width: 100%;margin-bottom: 0;padding: 0.3em;box-sizing: border-box;text-align: center;}#sk-container-id-2 label.sk-toggleable__label-arrow:before {content: \"▸\";float: left;margin-right: 0.25em;color: #696969;}#sk-container-id-2 label.sk-toggleable__label-arrow:hover:before {color: black;}#sk-container-id-2 div.sk-estimator:hover label.sk-toggleable__label-arrow:before {color: black;}#sk-container-id-2 div.sk-toggleable__content {max-height: 0;max-width: 0;overflow: hidden;text-align: left;background-color: #f0f8ff;}#sk-container-id-2 div.sk-toggleable__content pre {margin: 0.2em;color: black;border-radius: 0.25em;background-color: #f0f8ff;}#sk-container-id-2 input.sk-toggleable__control:checked~div.sk-toggleable__content {max-height: 200px;max-width: 100%;overflow: auto;}#sk-container-id-2 input.sk-toggleable__control:checked~label.sk-toggleable__label-arrow:before {content: \"▾\";}#sk-container-id-2 div.sk-estimator input.sk-toggleable__control:checked~label.sk-toggleable__label {background-color: #d4ebff;}#sk-container-id-2 div.sk-label input.sk-toggleable__control:checked~label.sk-toggleable__label {background-color: #d4ebff;}#sk-container-id-2 input.sk-hidden--visually {border: 0;clip: rect(1px 1px 1px 1px);clip: rect(1px, 1px, 1px, 1px);height: 1px;margin: -1px;overflow: hidden;padding: 0;position: absolute;width: 1px;}#sk-container-id-2 div.sk-estimator {font-family: monospace;background-color: #f0f8ff;border: 1px dotted black;border-radius: 0.25em;box-sizing: border-box;margin-bottom: 0.5em;}#sk-container-id-2 div.sk-estimator:hover {background-color: #d4ebff;}#sk-container-id-2 div.sk-parallel-item::after {content: \"\";width: 100%;border-bottom: 1px solid gray;flex-grow: 1;}#sk-container-id-2 div.sk-label:hover label.sk-toggleable__label {background-color: #d4ebff;}#sk-container-id-2 div.sk-serial::before {content: \"\";position: absolute;border-left: 1px solid gray;box-sizing: border-box;top: 0;bottom: 0;left: 50%;z-index: 0;}#sk-container-id-2 div.sk-serial {display: flex;flex-direction: column;align-items: center;background-color: white;padding-right: 0.2em;padding-left: 0.2em;position: relative;}#sk-container-id-2 div.sk-item {position: relative;z-index: 1;}#sk-container-id-2 div.sk-parallel {display: flex;align-items: stretch;justify-content: center;background-color: white;position: relative;}#sk-container-id-2 div.sk-item::before, #sk-container-id-2 div.sk-parallel-item::before {content: \"\";position: absolute;border-left: 1px solid gray;box-sizing: border-box;top: 0;bottom: 0;left: 50%;z-index: -1;}#sk-container-id-2 div.sk-parallel-item {display: flex;flex-direction: column;z-index: 1;position: relative;background-color: white;}#sk-container-id-2 div.sk-parallel-item:first-child::after {align-self: flex-end;width: 50%;}#sk-container-id-2 div.sk-parallel-item:last-child::after {align-self: flex-start;width: 50%;}#sk-container-id-2 div.sk-parallel-item:only-child::after {width: 0;}#sk-container-id-2 div.sk-dashed-wrapped {border: 1px dashed gray;margin: 0 0.4em 0.5em 0.4em;box-sizing: border-box;padding-bottom: 0.4em;background-color: white;}#sk-container-id-2 div.sk-label label {font-family: monospace;font-weight: bold;display: inline-block;line-height: 1.2em;}#sk-container-id-2 div.sk-label-container {text-align: center;}#sk-container-id-2 div.sk-container {/* jupyter's `normalize.less` sets `[hidden] { display: none; }` but bootstrap.min.css set `[hidden] { display: none !important; }` so we also need the `!important` here to be able to override the default hidden behavior on the sphinx rendered scikit-learn.org. See: https://github.com/scikit-learn/scikit-learn/issues/21755 */display: inline-block !important;position: relative;}#sk-container-id-2 div.sk-text-repr-fallback {display: none;}</style><div id=\"sk-container-id-2\" class=\"sk-top-container\"><div class=\"sk-text-repr-fallback\"><pre>DecisionTreeRegressor()</pre><b>In a Jupyter environment, please rerun this cell to show the HTML representation or trust the notebook. <br />On GitHub, the HTML representation is unable to render, please try loading this page with nbviewer.org.</b></div><div class=\"sk-container\" hidden><div class=\"sk-item\"><div class=\"sk-estimator sk-toggleable\"><input class=\"sk-toggleable__control sk-hidden--visually\" id=\"sk-estimator-id-2\" type=\"checkbox\" checked><label for=\"sk-estimator-id-2\" class=\"sk-toggleable__label sk-toggleable__label-arrow\">DecisionTreeRegressor</label><div class=\"sk-toggleable__content\"><pre>DecisionTreeRegressor()</pre></div></div></div></div></div>"
      ],
      "text/plain": [
       "DecisionTreeRegressor()"
      ]
     },
     "execution_count": 19,
     "metadata": {},
     "output_type": "execute_result"
    }
   ],
   "source": [
    "from sklearn.tree import DecisionTreeRegressor\n",
    "decision_regressor = DecisionTreeRegressor()\n",
    "decision_regressor.fit(X_train,y_train)"
   ]
  },
  {
   "cell_type": "code",
   "execution_count": 20,
   "id": "011377ec",
   "metadata": {
    "execution": {
     "iopub.execute_input": "2022-07-26T06:12:58.515841Z",
     "iopub.status.busy": "2022-07-26T06:12:58.515080Z",
     "iopub.status.idle": "2022-07-26T06:12:58.523007Z",
     "shell.execute_reply": "2022-07-26T06:12:58.522113Z"
    },
    "papermill": {
     "duration": 0.025169,
     "end_time": "2022-07-26T06:12:58.525317",
     "exception": false,
     "start_time": "2022-07-26T06:12:58.500148",
     "status": "completed"
    },
    "tags": []
   },
   "outputs": [],
   "source": [
    "y_pred_dt = decision_regressor.predict(X_test)"
   ]
  },
  {
   "cell_type": "code",
   "execution_count": 21,
   "id": "a9160a39",
   "metadata": {
    "execution": {
     "iopub.execute_input": "2022-07-26T06:12:58.554892Z",
     "iopub.status.busy": "2022-07-26T06:12:58.554280Z",
     "iopub.status.idle": "2022-07-26T06:12:58.562335Z",
     "shell.execute_reply": "2022-07-26T06:12:58.561031Z"
    },
    "papermill": {
     "duration": 0.025419,
     "end_time": "2022-07-26T06:12:58.564521",
     "exception": false,
     "start_time": "2022-07-26T06:12:58.539102",
     "status": "completed"
    },
    "tags": []
   },
   "outputs": [
    {
     "name": "stdout",
     "output_type": "stream",
     "text": [
      "---- Decision Tree Regression - Model Evaluation ----\n",
      "Mean Absolute Error (MAE): 20.294538906373944\n",
      "Mean Squared Error (MSE): 736.6370689805118\n",
      "Root Mean Squared Error (RMSE): 27.14105872991162\n"
     ]
    }
   ],
   "source": [
    "print(\"---- Decision Tree Regression - Model Evaluation ----\")\n",
    "print(\"Mean Absolute Error (MAE): {}\".format(mae(y_test, y_pred_dt)))\n",
    "print(\"Mean Squared Error (MSE): {}\".format(mse(y_test, y_pred_dt)))\n",
    "print(\"Root Mean Squared Error (RMSE): {}\".format(np.sqrt(mse(y_test, y_pred_dt))))"
   ]
  },
  {
   "cell_type": "code",
   "execution_count": 22,
   "id": "1227e92a",
   "metadata": {
    "execution": {
     "iopub.execute_input": "2022-07-26T06:12:58.593584Z",
     "iopub.status.busy": "2022-07-26T06:12:58.592815Z",
     "iopub.status.idle": "2022-07-26T06:13:09.906238Z",
     "shell.execute_reply": "2022-07-26T06:13:09.905171Z"
    },
    "papermill": {
     "duration": 11.330663,
     "end_time": "2022-07-26T06:13:09.908728",
     "exception": false,
     "start_time": "2022-07-26T06:12:58.578065",
     "status": "completed"
    },
    "tags": []
   },
   "outputs": [
    {
     "data": {
      "text/html": [
       "<style>#sk-container-id-3 {color: black;background-color: white;}#sk-container-id-3 pre{padding: 0;}#sk-container-id-3 div.sk-toggleable {background-color: white;}#sk-container-id-3 label.sk-toggleable__label {cursor: pointer;display: block;width: 100%;margin-bottom: 0;padding: 0.3em;box-sizing: border-box;text-align: center;}#sk-container-id-3 label.sk-toggleable__label-arrow:before {content: \"▸\";float: left;margin-right: 0.25em;color: #696969;}#sk-container-id-3 label.sk-toggleable__label-arrow:hover:before {color: black;}#sk-container-id-3 div.sk-estimator:hover label.sk-toggleable__label-arrow:before {color: black;}#sk-container-id-3 div.sk-toggleable__content {max-height: 0;max-width: 0;overflow: hidden;text-align: left;background-color: #f0f8ff;}#sk-container-id-3 div.sk-toggleable__content pre {margin: 0.2em;color: black;border-radius: 0.25em;background-color: #f0f8ff;}#sk-container-id-3 input.sk-toggleable__control:checked~div.sk-toggleable__content {max-height: 200px;max-width: 100%;overflow: auto;}#sk-container-id-3 input.sk-toggleable__control:checked~label.sk-toggleable__label-arrow:before {content: \"▾\";}#sk-container-id-3 div.sk-estimator input.sk-toggleable__control:checked~label.sk-toggleable__label {background-color: #d4ebff;}#sk-container-id-3 div.sk-label input.sk-toggleable__control:checked~label.sk-toggleable__label {background-color: #d4ebff;}#sk-container-id-3 input.sk-hidden--visually {border: 0;clip: rect(1px 1px 1px 1px);clip: rect(1px, 1px, 1px, 1px);height: 1px;margin: -1px;overflow: hidden;padding: 0;position: absolute;width: 1px;}#sk-container-id-3 div.sk-estimator {font-family: monospace;background-color: #f0f8ff;border: 1px dotted black;border-radius: 0.25em;box-sizing: border-box;margin-bottom: 0.5em;}#sk-container-id-3 div.sk-estimator:hover {background-color: #d4ebff;}#sk-container-id-3 div.sk-parallel-item::after {content: \"\";width: 100%;border-bottom: 1px solid gray;flex-grow: 1;}#sk-container-id-3 div.sk-label:hover label.sk-toggleable__label {background-color: #d4ebff;}#sk-container-id-3 div.sk-serial::before {content: \"\";position: absolute;border-left: 1px solid gray;box-sizing: border-box;top: 0;bottom: 0;left: 50%;z-index: 0;}#sk-container-id-3 div.sk-serial {display: flex;flex-direction: column;align-items: center;background-color: white;padding-right: 0.2em;padding-left: 0.2em;position: relative;}#sk-container-id-3 div.sk-item {position: relative;z-index: 1;}#sk-container-id-3 div.sk-parallel {display: flex;align-items: stretch;justify-content: center;background-color: white;position: relative;}#sk-container-id-3 div.sk-item::before, #sk-container-id-3 div.sk-parallel-item::before {content: \"\";position: absolute;border-left: 1px solid gray;box-sizing: border-box;top: 0;bottom: 0;left: 50%;z-index: -1;}#sk-container-id-3 div.sk-parallel-item {display: flex;flex-direction: column;z-index: 1;position: relative;background-color: white;}#sk-container-id-3 div.sk-parallel-item:first-child::after {align-self: flex-end;width: 50%;}#sk-container-id-3 div.sk-parallel-item:last-child::after {align-self: flex-start;width: 50%;}#sk-container-id-3 div.sk-parallel-item:only-child::after {width: 0;}#sk-container-id-3 div.sk-dashed-wrapped {border: 1px dashed gray;margin: 0 0.4em 0.5em 0.4em;box-sizing: border-box;padding-bottom: 0.4em;background-color: white;}#sk-container-id-3 div.sk-label label {font-family: monospace;font-weight: bold;display: inline-block;line-height: 1.2em;}#sk-container-id-3 div.sk-label-container {text-align: center;}#sk-container-id-3 div.sk-container {/* jupyter's `normalize.less` sets `[hidden] { display: none; }` but bootstrap.min.css set `[hidden] { display: none !important; }` so we also need the `!important` here to be able to override the default hidden behavior on the sphinx rendered scikit-learn.org. See: https://github.com/scikit-learn/scikit-learn/issues/21755 */display: inline-block !important;position: relative;}#sk-container-id-3 div.sk-text-repr-fallback {display: none;}</style><div id=\"sk-container-id-3\" class=\"sk-top-container\"><div class=\"sk-text-repr-fallback\"><pre>RandomForestRegressor()</pre><b>In a Jupyter environment, please rerun this cell to show the HTML representation or trust the notebook. <br />On GitHub, the HTML representation is unable to render, please try loading this page with nbviewer.org.</b></div><div class=\"sk-container\" hidden><div class=\"sk-item\"><div class=\"sk-estimator sk-toggleable\"><input class=\"sk-toggleable__control sk-hidden--visually\" id=\"sk-estimator-id-3\" type=\"checkbox\" checked><label for=\"sk-estimator-id-3\" class=\"sk-toggleable__label sk-toggleable__label-arrow\">RandomForestRegressor</label><div class=\"sk-toggleable__content\"><pre>RandomForestRegressor()</pre></div></div></div></div></div>"
      ],
      "text/plain": [
       "RandomForestRegressor()"
      ]
     },
     "execution_count": 22,
     "metadata": {},
     "output_type": "execute_result"
    }
   ],
   "source": [
    "from sklearn.ensemble import RandomForestRegressor\n",
    "random_regressor = RandomForestRegressor()\n",
    "random_regressor.fit(X_train,y_train)"
   ]
  },
  {
   "cell_type": "code",
   "execution_count": 23,
   "id": "6022f34a",
   "metadata": {
    "execution": {
     "iopub.execute_input": "2022-07-26T06:13:09.937911Z",
     "iopub.status.busy": "2022-07-26T06:13:09.937482Z",
     "iopub.status.idle": "2022-07-26T06:13:10.019924Z",
     "shell.execute_reply": "2022-07-26T06:13:10.018759Z"
    },
    "papermill": {
     "duration": 0.10001,
     "end_time": "2022-07-26T06:13:10.022553",
     "exception": false,
     "start_time": "2022-07-26T06:13:09.922543",
     "status": "completed"
    },
    "tags": []
   },
   "outputs": [],
   "source": [
    "y_pred_rf = random_regressor.predict(X_test)"
   ]
  },
  {
   "cell_type": "code",
   "execution_count": 24,
   "id": "e86b0341",
   "metadata": {
    "execution": {
     "iopub.execute_input": "2022-07-26T06:13:10.052277Z",
     "iopub.status.busy": "2022-07-26T06:13:10.051892Z",
     "iopub.status.idle": "2022-07-26T06:13:10.061164Z",
     "shell.execute_reply": "2022-07-26T06:13:10.059615Z"
    },
    "papermill": {
     "duration": 0.027839,
     "end_time": "2022-07-26T06:13:10.064456",
     "exception": false,
     "start_time": "2022-07-26T06:13:10.036617",
     "status": "completed"
    },
    "tags": []
   },
   "outputs": [
    {
     "name": "stdout",
     "output_type": "stream",
     "text": [
      "---- Random Forest Regression - Model Evaluation ----\n",
      "Mean Absolute Error (MAE): 17.05459078668001\n",
      "Mean Squared Error (MSE): 526.879374258137\n",
      "Root Mean Squared Error (RMSE): 22.95385314621789\n"
     ]
    }
   ],
   "source": [
    "print(\"---- Random Forest Regression - Model Evaluation ----\")\n",
    "print(\"Mean Absolute Error (MAE): {}\".format(mae(y_test, y_pred_rf)))\n",
    "print(\"Mean Squared Error (MSE): {}\".format(mse(y_test, y_pred_rf)))\n",
    "print(\"Root Mean Squared Error (RMSE): {}\".format(np.sqrt(mse(y_test, y_pred_rf))))"
   ]
  },
  {
   "cell_type": "code",
   "execution_count": null,
   "id": "ccda0f25",
   "metadata": {
    "execution": {
     "iopub.execute_input": "2022-07-26T06:13:10.094051Z",
     "iopub.status.busy": "2022-07-26T06:13:10.093616Z",
     "iopub.status.idle": "2022-07-26T06:13:11.199376Z",
     "shell.execute_reply": "2022-07-26T06:13:11.197980Z"
    },
    "papermill": {
     "duration": 1.123917,
     "end_time": "2022-07-26T06:13:11.202452",
     "exception": false,
     "start_time": "2022-07-26T06:13:10.078535",
     "status": "completed"
    },
    "tags": []
   },
   "outputs": [],
   "source": [
    "from sklearn.ensemble import AdaBoostRegressor\n",
    "adb_regressor = AdaBoostRegressor(base_estimator=linear_regressor, n_estimators=100)\n",
    "adb_regressor.fit(X_train, y_train)"
   ]
  },
  {
   "cell_type": "code",
   "execution_count": null,
   "id": "a8e0ee2e",
   "metadata": {
    "execution": {
     "iopub.execute_input": "2022-07-26T06:13:11.307136Z",
     "iopub.status.busy": "2022-07-26T06:13:11.306755Z",
     "iopub.status.idle": "2022-07-26T06:13:11.321033Z",
     "shell.execute_reply": "2022-07-26T06:13:11.319688Z"
    },
    "papermill": {
     "duration": 0.06443,
     "end_time": "2022-07-26T06:13:11.324819",
     "exception": false,
     "start_time": "2022-07-26T06:13:11.260389",
     "status": "completed"
    },
    "tags": []
   },
   "outputs": [],
   "source": [
    "y_pred_adb = adb_regressor.predict(X_test)"
   ]
  },
  {
   "cell_type": "code",
   "execution_count": null,
   "id": "3c3eb77c",
   "metadata": {
    "execution": {
     "iopub.execute_input": "2022-07-26T06:13:11.378352Z",
     "iopub.status.busy": "2022-07-26T06:13:11.377747Z",
     "iopub.status.idle": "2022-07-26T06:13:11.395482Z",
     "shell.execute_reply": "2022-07-26T06:13:11.394129Z"
    },
    "papermill": {
     "duration": 0.049299,
     "end_time": "2022-07-26T06:13:11.399559",
     "exception": false,
     "start_time": "2022-07-26T06:13:11.350260",
     "status": "completed"
    },
    "tags": []
   },
   "outputs": [],
   "source": [
    "print(\"---- AdaBoost Regression - Model Evaluation ----\")\n",
    "print(\"Mean Absolute Error (MAE): {}\".format(mae(y_test, y_pred_adb)))\n",
    "print(\"Mean Squared Error (MSE): {}\".format(mse(y_test, y_pred_adb)))\n",
    "print(\"Root Mean Squared Error (RMSE): {}\".format(np.sqrt(mse(y_test, y_pred_adb))))"
   ]
  },
  {
   "cell_type": "code",
   "execution_count": 26,
   "id": "4e6d7a46",
   "metadata": {
    "execution": {
     "iopub.execute_input": "2022-07-26T06:13:11.447130Z",
     "iopub.status.busy": "2022-07-26T06:13:11.446745Z",
     "iopub.status.idle": "2022-07-26T06:13:11.465740Z",
     "shell.execute_reply": "2022-07-26T06:13:11.464670Z"
    },
    "papermill": {
     "duration": 0.04187,
     "end_time": "2022-07-26T06:13:11.468365",
     "exception": false,
     "start_time": "2022-07-26T06:13:11.426495",
     "status": "completed"
    },
    "tags": []
   },
   "outputs": [],
   "source": [
    "def predict_score(batting_team='Chennai Super Kings', bowling_team='Mumbai Indians', overs=5.1, runs=50, wickets=0, runs_in_prev_5=50, wickets_in_prev_5=0):\n",
    "  Team_list = list()\n",
    "  if batting_team == 'Chennai Super Kings':\n",
    "    Team_list = Team_list + [1,0,0,0,0,0,0,0]\n",
    "  elif batting_team == 'Delhi Daredevils':\n",
    "    Team_list = Team_list + [0,1,0,0,0,0,0,0]\n",
    "  elif batting_team == 'Kings XI Punjab':\n",
    "    Team_list = Team_list + [0,0,1,0,0,0,0,0]\n",
    "  elif batting_team == 'Kolkata Knight Riders':\n",
    "    Team_list = Team_list + [0,0,0,1,0,0,0,0]\n",
    "  elif batting_team == 'Mumbai Indians':\n",
    "    Team_list = Team_list + [0,0,0,0,1,0,0,0]\n",
    "  elif batting_team == 'Rajasthan Royals':\n",
    "    Team_list = Team_list + [0,0,0,0,0,1,0,0]\n",
    "  elif batting_team == 'Royal Challengers Bangalore':\n",
    "    Team_list = Team_list + [0,0,0,0,0,0,1,0]\n",
    "  elif batting_team == 'Sunrisers Hyderabad':\n",
    "    Team_list = Team_list + [0,0,0,0,0,0,0,1]\n",
    "\n",
    "  if bowling_team == 'Chennai Super Kings':\n",
    "    Team_list = Team_list + [1,0,0,0,0,0,0,0]\n",
    "  elif bowling_team == 'Delhi Daredevils':\n",
    "    Team_list = Team_list + [0,1,0,0,0,0,0,0]\n",
    "  elif bowling_team == 'Kings XI Punjab':\n",
    "    Team_list = Team_list + [0,0,1,0,0,0,0,0]\n",
    "  elif bowling_team == 'Kolkata Knight Riders':\n",
    "    Team_list = Team_list + [0,0,0,1,0,0,0,0]\n",
    "  elif bowling_team == 'Mumbai Indians':\n",
    "    Team_list = Team_list + [0,0,0,0,1,0,0,0]\n",
    "  elif bowling_team == 'Rajasthan Royals':\n",
    "    Team_list = Team_list + [0,0,0,0,0,1,0,0]\n",
    "  elif bowling_team == 'Royal Challengers Bangalore':\n",
    "    Team_list = Team_list + [0,0,0,0,0,0,1,0]\n",
    "  elif bowling_team == 'Sunrisers Hyderabad':\n",
    "    Team_list = Team_list + [0,0,0,0,0,0,0,1]\n",
    "\n",
    "  Team_list = Team_list + [overs, runs, wickets, runs_in_prev_5, wickets_in_prev_5]\n",
    "  Team_list = np.array([Team_list])\n",
    "  return int(linear_regressor.predict(Team_list)[0])"
   ]
  },
  {
   "cell_type": "markdown",
   "id": "0064d3ef",
   "metadata": {
    "papermill": {
     "duration": 0.013611,
     "end_time": "2022-07-26T06:13:11.495946",
     "exception": false,
     "start_time": "2022-07-26T06:13:11.482335",
     "status": "completed"
    },
    "tags": []
   },
   "source": [
    "Prediction 1 <br/>\n",
    "• Date: 16th April 2018<br/>\n",
    "• IPL : Season 11<br/>\n",
    "• Match number: 13<br/>\n",
    "• Teams: Kolkata Knight Riders vs. Delhi Daredevils<br/>\n",
    "• First Innings final score: 200/9<br/>"
   ]
  },
  {
   "cell_type": "code",
   "execution_count": 27,
   "id": "2e57f01e",
   "metadata": {
    "execution": {
     "iopub.execute_input": "2022-07-26T06:13:11.525179Z",
     "iopub.status.busy": "2022-07-26T06:13:11.524791Z",
     "iopub.status.idle": "2022-07-26T06:13:11.534406Z",
     "shell.execute_reply": "2022-07-26T06:13:11.533497Z"
    },
    "papermill": {
     "duration": 0.026998,
     "end_time": "2022-07-26T06:13:11.536733",
     "exception": false,
     "start_time": "2022-07-26T06:13:11.509735",
     "status": "completed"
    },
    "tags": []
   },
   "outputs": [
    {
     "name": "stdout",
     "output_type": "stream",
     "text": [
      "The final predicted score (range): 157 to 172\n"
     ]
    },
    {
     "name": "stderr",
     "output_type": "stream",
     "text": [
      "C:\\Users\\preet\\anaconda3\\envs\\newpython\\lib\\site-packages\\sklearn\\base.py:439: UserWarning: X does not have valid feature names, but LinearRegression was fitted with feature names\n",
      "  warnings.warn(\n"
     ]
    }
   ],
   "source": [
    "final_score = predict_score(batting_team='Kolkata Knight Riders', bowling_team='Delhi Daredevils', overs=9.2, runs=79, wickets=2, runs_in_prev_5=60, wickets_in_prev_5=1)\n",
    "print(\"The final predicted score (range): {} to {}\".format(final_score-10, final_score+5))"
   ]
  },
  {
   "cell_type": "markdown",
   "id": "cc1e9ab6",
   "metadata": {
    "papermill": {
     "duration": 0.013621,
     "end_time": "2022-07-26T06:13:11.564424",
     "exception": false,
     "start_time": "2022-07-26T06:13:11.550803",
     "status": "completed"
    },
    "tags": []
   },
   "source": [
    "Prediction 2<br/>\n",
    "• Date: 7th May 2018<br/>\n",
    "• IPL : Season 11<br/>\n",
    "• Match number: 39<br/>\n",
    "• Teams: Sunrisers Hyderabad vs. Royal Challengers Bangalore<br/>\n",
    "• First Innings final score: 146/10<br/>"
   ]
  },
  {
   "cell_type": "code",
   "execution_count": 28,
   "id": "436b645b",
   "metadata": {
    "execution": {
     "iopub.execute_input": "2022-07-26T06:13:11.594565Z",
     "iopub.status.busy": "2022-07-26T06:13:11.593401Z",
     "iopub.status.idle": "2022-07-26T06:13:11.601952Z",
     "shell.execute_reply": "2022-07-26T06:13:11.600559Z"
    },
    "papermill": {
     "duration": 0.025989,
     "end_time": "2022-07-26T06:13:11.604280",
     "exception": false,
     "start_time": "2022-07-26T06:13:11.578291",
     "status": "completed"
    },
    "tags": []
   },
   "outputs": [
    {
     "name": "stdout",
     "output_type": "stream",
     "text": [
      "The final predicted score (range): 137 to 152\n"
     ]
    },
    {
     "name": "stderr",
     "output_type": "stream",
     "text": [
      "C:\\Users\\preet\\anaconda3\\envs\\newpython\\lib\\site-packages\\sklearn\\base.py:439: UserWarning: X does not have valid feature names, but LinearRegression was fitted with feature names\n",
      "  warnings.warn(\n"
     ]
    }
   ],
   "source": [
    "final_score = predict_score(batting_team='Sunrisers Hyderabad', bowling_team='Royal Challengers Bangalore', overs=10.5, runs=67, wickets=3, runs_in_prev_5=29, wickets_in_prev_5=1)\n",
    "print(\"The final predicted score (range): {} to {}\".format(final_score-10, final_score+5))"
   ]
  },
  {
   "cell_type": "markdown",
   "id": "4a62ce50",
   "metadata": {
    "papermill": {
     "duration": 0.01393,
     "end_time": "2022-07-26T06:13:11.632870",
     "exception": false,
     "start_time": "2022-07-26T06:13:11.618940",
     "status": "completed"
    },
    "tags": []
   },
   "source": [
    "Prediction 3<br/>\n",
    "• Date: 17th May 2018<br/>\n",
    "• IPL : Season 11<br/>\n",
    "• Match number: 50<br/>\n",
    "• Teams: Mumbai Indians vs. Kings XI Punjab<br/>\n",
    "• First Innings final score: 186/8<br/>"
   ]
  },
  {
   "cell_type": "code",
   "execution_count": 29,
   "id": "739b8a19",
   "metadata": {
    "execution": {
     "iopub.execute_input": "2022-07-26T06:13:11.662675Z",
     "iopub.status.busy": "2022-07-26T06:13:11.662240Z",
     "iopub.status.idle": "2022-07-26T06:13:11.670774Z",
     "shell.execute_reply": "2022-07-26T06:13:11.669158Z"
    },
    "papermill": {
     "duration": 0.026262,
     "end_time": "2022-07-26T06:13:11.673106",
     "exception": false,
     "start_time": "2022-07-26T06:13:11.646844",
     "status": "completed"
    },
    "tags": []
   },
   "outputs": [
    {
     "name": "stdout",
     "output_type": "stream",
     "text": [
      "The final predicted score (range): 182 to 197\n"
     ]
    },
    {
     "name": "stderr",
     "output_type": "stream",
     "text": [
      "C:\\Users\\preet\\anaconda3\\envs\\newpython\\lib\\site-packages\\sklearn\\base.py:439: UserWarning: X does not have valid feature names, but LinearRegression was fitted with feature names\n",
      "  warnings.warn(\n"
     ]
    }
   ],
   "source": [
    "final_score = predict_score(batting_team='Mumbai Indians', bowling_team='Kings XI Punjab', overs=14.1, runs=136, wickets=4, runs_in_prev_5=50, wickets_in_prev_5=0)\n",
    "print(\"The final predicted score (range): {} to {}\".format(final_score-10, final_score+5))"
   ]
  },
  {
   "cell_type": "markdown",
   "id": "abe3f4fc",
   "metadata": {
    "papermill": {
     "duration": 0.01389,
     "end_time": "2022-07-26T06:13:11.701436",
     "exception": false,
     "start_time": "2022-07-26T06:13:11.687546",
     "status": "completed"
    },
    "tags": []
   },
   "source": [
    "Prediction 4<br/>\n",
    "• Date: 30th March 2019<br/>\n",
    "• IPL : Season 12<br/>\n",
    "• Match number: 9<br/>\n",
    "• Teams: Mumbai Indians vs. Kings XI Punjab<br/>\n",
    "• First Innings final score: 176/7<br/>"
   ]
  },
  {
   "cell_type": "code",
   "execution_count": 30,
   "id": "03e5584a",
   "metadata": {
    "execution": {
     "iopub.execute_input": "2022-07-26T06:13:11.731872Z",
     "iopub.status.busy": "2022-07-26T06:13:11.731466Z",
     "iopub.status.idle": "2022-07-26T06:13:11.740131Z",
     "shell.execute_reply": "2022-07-26T06:13:11.738531Z"
    },
    "papermill": {
     "duration": 0.026688,
     "end_time": "2022-07-26T06:13:11.742389",
     "exception": false,
     "start_time": "2022-07-26T06:13:11.715701",
     "status": "completed"
    },
    "tags": []
   },
   "outputs": [
    {
     "name": "stdout",
     "output_type": "stream",
     "text": [
      "The final predicted score (range): 182 to 197\n"
     ]
    },
    {
     "name": "stderr",
     "output_type": "stream",
     "text": [
      "C:\\Users\\preet\\anaconda3\\envs\\newpython\\lib\\site-packages\\sklearn\\base.py:439: UserWarning: X does not have valid feature names, but LinearRegression was fitted with feature names\n",
      "  warnings.warn(\n"
     ]
    }
   ],
   "source": [
    "final_score = predict_score(batting_team='Mumbai Indians', bowling_team='Kings XI Punjab', overs=12.3, runs=113, wickets=2, runs_in_prev_5=55, wickets_in_prev_5=0)\n",
    "print(\"The final predicted score (range): {} to {}\".format(final_score-10, final_score+5))"
   ]
  },
  {
   "cell_type": "markdown",
   "id": "794eefd5",
   "metadata": {
    "papermill": {
     "duration": 0.014011,
     "end_time": "2022-07-26T06:13:11.770951",
     "exception": false,
     "start_time": "2022-07-26T06:13:11.756940",
     "status": "completed"
    },
    "tags": []
   },
   "source": [
    "Prediction 5<br/>\n",
    "• Date: 11th April 2019<br/>\n",
    "• IPL : Season 12<br/>\n",
    "• Match number: 25<br/>\n",
    "• Teams: Rajasthan Royals vs. Chennai Super Kings<br/>\n",
    "• First Innings final score: 151/7<br/>"
   ]
  },
  {
   "cell_type": "code",
   "execution_count": 31,
   "id": "484d08fc",
   "metadata": {
    "execution": {
     "iopub.execute_input": "2022-07-26T06:13:11.801066Z",
     "iopub.status.busy": "2022-07-26T06:13:11.800654Z",
     "iopub.status.idle": "2022-07-26T06:13:11.808051Z",
     "shell.execute_reply": "2022-07-26T06:13:11.806538Z"
    },
    "papermill": {
     "duration": 0.025313,
     "end_time": "2022-07-26T06:13:11.810542",
     "exception": false,
     "start_time": "2022-07-26T06:13:11.785229",
     "status": "completed"
    },
    "tags": []
   },
   "outputs": [
    {
     "name": "stdout",
     "output_type": "stream",
     "text": [
      "The final predicted score (range): 128 to 143\n"
     ]
    },
    {
     "name": "stderr",
     "output_type": "stream",
     "text": [
      "C:\\Users\\preet\\anaconda3\\envs\\newpython\\lib\\site-packages\\sklearn\\base.py:439: UserWarning: X does not have valid feature names, but LinearRegression was fitted with feature names\n",
      "  warnings.warn(\n"
     ]
    }
   ],
   "source": [
    "final_score = predict_score(batting_team='Rajasthan Royals', bowling_team='Chennai Super Kings', overs=13.3, runs=92, wickets=5, runs_in_prev_5=27, wickets_in_prev_5=2)\n",
    "print(\"The final predicted score (range): {} to {}\".format(final_score-10, final_score+5))"
   ]
  },
  {
   "cell_type": "markdown",
   "id": "b2c11aac",
   "metadata": {
    "papermill": {
     "duration": 0.013987,
     "end_time": "2022-07-26T06:13:11.839085",
     "exception": false,
     "start_time": "2022-07-26T06:13:11.825098",
     "status": "completed"
    },
    "tags": []
   },
   "source": [
    "Prediction 6<br/>\n",
    "• Date: 14th April 2019<br/>\n",
    "• IPL : Season 12<br/>\n",
    "• Match number: 30<br/>\n",
    "• Teams: Sunrisers Hyderabad vs. Delhi Daredevils<br/>\n",
    "• First Innings final score: 155/7<br/>"
   ]
  },
  {
   "cell_type": "code",
   "execution_count": 32,
   "id": "4bf88889",
   "metadata": {
    "execution": {
     "iopub.execute_input": "2022-07-26T06:13:11.870154Z",
     "iopub.status.busy": "2022-07-26T06:13:11.869026Z",
     "iopub.status.idle": "2022-07-26T06:13:11.876667Z",
     "shell.execute_reply": "2022-07-26T06:13:11.875631Z"
    },
    "papermill": {
     "duration": 0.025734,
     "end_time": "2022-07-26T06:13:11.879133",
     "exception": false,
     "start_time": "2022-07-26T06:13:11.853399",
     "status": "completed"
    },
    "tags": []
   },
   "outputs": [
    {
     "name": "stdout",
     "output_type": "stream",
     "text": [
      "The final predicted score (range): 155 to 170\n"
     ]
    },
    {
     "name": "stderr",
     "output_type": "stream",
     "text": [
      "C:\\Users\\preet\\anaconda3\\envs\\newpython\\lib\\site-packages\\sklearn\\base.py:439: UserWarning: X does not have valid feature names, but LinearRegression was fitted with feature names\n",
      "  warnings.warn(\n"
     ]
    }
   ],
   "source": [
    "final_score = predict_score(batting_team='Delhi Daredevils', bowling_team='Sunrisers Hyderabad', overs=11.5, runs=98, wickets=3, runs_in_prev_5=41, wickets_in_prev_5=1)\n",
    "print(\"The final predicted score (range): {} to {}\".format(final_score-10, final_score+5))"
   ]
  },
  {
   "cell_type": "markdown",
   "id": "4390455a",
   "metadata": {
    "papermill": {
     "duration": 0.014776,
     "end_time": "2022-07-26T06:13:11.909249",
     "exception": false,
     "start_time": "2022-07-26T06:13:11.894473",
     "status": "completed"
    },
    "tags": []
   },
   "source": [
    "Prediction 7<br/>\n",
    "• Date: 10th May 2019<br/>\n",
    "• IPL : Season 12<br/>\n",
    "• Match number: 59 (Eliminator)<br/>\n",
    "• Teams: Delhi Daredevils vs. Chennai Super Kings<br/>\n",
    "• First Innings final score: 147/9<br/>"
   ]
  },
  {
   "cell_type": "code",
   "execution_count": 33,
   "id": "a364daed",
   "metadata": {
    "execution": {
     "iopub.execute_input": "2022-07-26T06:13:11.941685Z",
     "iopub.status.busy": "2022-07-26T06:13:11.940628Z",
     "iopub.status.idle": "2022-07-26T06:13:11.948740Z",
     "shell.execute_reply": "2022-07-26T06:13:11.946988Z"
    },
    "papermill": {
     "duration": 0.026859,
     "end_time": "2022-07-26T06:13:11.951041",
     "exception": false,
     "start_time": "2022-07-26T06:13:11.924182",
     "status": "completed"
    },
    "tags": []
   },
   "outputs": [
    {
     "name": "stdout",
     "output_type": "stream",
     "text": [
      "The final predicted score (range): 136 to 151\n"
     ]
    },
    {
     "name": "stderr",
     "output_type": "stream",
     "text": [
      "C:\\Users\\preet\\anaconda3\\envs\\newpython\\lib\\site-packages\\sklearn\\base.py:439: UserWarning: X does not have valid feature names, but LinearRegression was fitted with feature names\n",
      "  warnings.warn(\n"
     ]
    }
   ],
   "source": [
    "final_score = predict_score(batting_team='Delhi Daredevils', bowling_team='Chennai Super Kings', overs=10.2, runs=68, wickets=3, runs_in_prev_5=29, wickets_in_prev_5=1)\n",
    "print(\"The final predicted score (range): {} to {}\".format(final_score-10, final_score+5))"
   ]
  },
  {
   "cell_type": "code",
   "execution_count": null,
   "id": "94fbd7e5",
   "metadata": {},
   "outputs": [],
   "source": []
  }
 ],
 "metadata": {
  "kernelspec": {
   "display_name": "Python 3 (ipykernel)",
   "language": "python",
   "name": "python3"
  },
  "language_info": {
   "codemirror_mode": {
    "name": "ipython",
    "version": 3
   },
   "file_extension": ".py",
   "mimetype": "text/x-python",
   "name": "python",
   "nbconvert_exporter": "python",
   "pygments_lexer": "ipython3",
   "version": "3.9.16"
  },
  "papermill": {
   "default_parameters": {},
   "duration": 27.787532,
   "end_time": "2022-07-26T06:13:12.686702",
   "environment_variables": {},
   "exception": null,
   "input_path": "__notebook__.ipynb",
   "output_path": "__notebook__.ipynb",
   "parameters": {},
   "start_time": "2022-07-26T06:12:44.899170",
   "version": "2.3.4"
  }
 },
 "nbformat": 4,
 "nbformat_minor": 5
}
